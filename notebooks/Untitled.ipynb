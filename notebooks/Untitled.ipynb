{
 "cells": [
  {
   "cell_type": "code",
   "execution_count": 1,
   "id": "af365b49",
   "metadata": {},
   "outputs": [],
   "source": [
    "import pandas as pd\n",
    "\n",
    "\n",
    "df = pd.read_csv(\"/home/clay/research/kaggle/kaggle_llm/data/data_dumps/context_df/more_questions.csv\")"
   ]
  },
  {
   "cell_type": "code",
   "execution_count": 4,
   "id": "039c7a2c",
   "metadata": {},
   "outputs": [
    {
     "name": "stdout",
     "output_type": "stream",
     "text": [
      "What is 3D mirror symmetry?\n",
      "context 0: In theoretical physics, 3D mirror symmetry is a version of mirror symmetry in 3-dimensional gauge theories with N=4 supersymmetry, or 8 supercharges.\n",
      "context 1: Four months later 3D mirror symmetry was extended to N=2 gauge theories resulting from supersymmetry breaking in N=4 theories.\n",
      "context 2: Reflectional symmetry, linear symmetry, mirror symmetry, mirror-image symmetry, or bilateral symmetry is symmetry with respect to reflection.In one dimension, there is a point of symmetry about which reflection takes place; in two dimensions, there is an axis of symmetry (a.k.a., line of symmetry), and in three dimensions there is a plane of symmetry.\n"
     ]
    }
   ],
   "source": [
    "print(df.iloc[0][\"prompt\"])"
   ]
  }
 ],
 "metadata": {
  "kernelspec": {
   "display_name": "Python 3 (ipykernel)",
   "language": "python",
   "name": "python3"
  },
  "language_info": {
   "codemirror_mode": {
    "name": "ipython",
    "version": 3
   },
   "file_extension": ".py",
   "mimetype": "text/x-python",
   "name": "python",
   "nbconvert_exporter": "python",
   "pygments_lexer": "ipython3",
   "version": "3.10.9"
  }
 },
 "nbformat": 4,
 "nbformat_minor": 5
}
