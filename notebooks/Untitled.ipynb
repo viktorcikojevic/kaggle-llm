{
 "cells": [
  {
   "cell_type": "code",
   "execution_count": 68,
   "id": "c813fd84",
   "metadata": {},
   "outputs": [],
   "source": [
    "import pandas as pd\n",
    "\n",
    "\n",
    "df = pd.read_csv(\"/home/clay/research/kaggle/kaggle_llm/data/kaggle-llm-science-exam/train.csv\")\n",
    "# df = pd.read_csv(\"/home/clay/research/kaggle/kaggle_llm/work_dirs/peft-deberta-v3-large-notebook-weights-2023-07-30-23-07-15/train_df.csv\")"
   ]
  },
  {
   "cell_type": "code",
   "execution_count": 69,
   "id": "721561a8",
   "metadata": {},
   "outputs": [],
   "source": [
    "choices = [\"A\", \"B\", \"C\", \"D\", \"E\"]\n",
    "\n",
    "\n",
    "def count_words(text):\n",
    "    return sum([1 for i in text.split() if len(i) > 0])\n",
    "\n",
    "\n",
    "df[\"prompt_wc\"] = df[\"prompt\"].apply(count_words)\n",
    "for c in choices:\n",
    "    df[f\"{c}_wc\"] = df[c].apply(count_words)\n",
    "df[\"choice_wc\"] = df[[f\"{c}_wc\" for c in choices]].max(axis=1)\n",
    "df[\"all_wc\"] = df[\"prompt_wc\"] + df[\"choice_wc\"]\n",
    "df = df.sort_values(\"all_wc\", ascending=False)"
   ]
  },
  {
   "cell_type": "code",
   "execution_count": 70,
   "id": "ff5a6569",
   "metadata": {},
   "outputs": [
    {
     "data": {
      "text/plain": [
       "count    200.000000\n",
       "mean      41.575000\n",
       "std       19.657478\n",
       "min       10.000000\n",
       "25%       26.750000\n",
       "50%       38.500000\n",
       "75%       53.000000\n",
       "max      138.000000\n",
       "Name: all_wc, dtype: float64"
      ]
     },
     "execution_count": 70,
     "metadata": {},
     "output_type": "execute_result"
    }
   ],
   "source": [
    "df[\"all_wc\"].describe()"
   ]
  },
  {
   "cell_type": "code",
   "execution_count": 71,
   "id": "69ee53fc",
   "metadata": {},
   "outputs": [
    {
     "data": {
      "text/plain": [
       "count    200.000000\n",
       "mean      11.360000\n",
       "std        6.321408\n",
       "min        3.000000\n",
       "25%        6.000000\n",
       "50%       10.000000\n",
       "75%       14.000000\n",
       "max       42.000000\n",
       "Name: prompt_wc, dtype: float64"
      ]
     },
     "execution_count": 71,
     "metadata": {},
     "output_type": "execute_result"
    }
   ],
   "source": [
    "df[\"prompt_wc\"].describe()"
   ]
  },
  {
   "cell_type": "code",
   "execution_count": 72,
   "id": "10264386",
   "metadata": {},
   "outputs": [
    {
     "data": {
      "text/plain": [
       "count    200.000000\n",
       "mean      30.215000\n",
       "std       18.629387\n",
       "min        1.000000\n",
       "25%       17.000000\n",
       "50%       28.000000\n",
       "75%       42.000000\n",
       "max      118.000000\n",
       "Name: choice_wc, dtype: float64"
      ]
     },
     "execution_count": 72,
     "metadata": {},
     "output_type": "execute_result"
    }
   ],
   "source": [
    "df[\"choice_wc\"].describe()"
   ]
  },
  {
   "cell_type": "code",
   "execution_count": 73,
   "id": "ded9d334",
   "metadata": {},
   "outputs": [
    {
     "data": {
      "text/plain": [
       "<AxesSubplot: >"
      ]
     },
     "execution_count": 73,
     "metadata": {},
     "output_type": "execute_result"
    },
    {
     "data": {
      "image/png": "[encoded data removed]",
      "text/plain": [
       "<Figure size 640x480 with 1 Axes>"
      ]
     },
     "metadata": {},
     "output_type": "display_data"
    }
   ],
   "source": [
    "df[\"all_wc\"].hist(bins=50)\n",
    "df[\"prompt_wc\"].hist(bins=50)\n",
    "df[\"choice_wc\"].hist(bins=50)"
   ]
  },
  {
   "cell_type": "code",
   "execution_count": 74,
   "id": "17953337",
   "metadata": {},
   "outputs": [
    {
     "name": "stdout",
     "output_type": "stream",
     "text": [
      "138 20 118\n",
      "What is the evidence for the existence of a supermassive black hole at the center of the Milky Way galaxy?\n",
      "\n",
      "A The Milky Way galaxy has a supermassive black hole at its center because of the bright flare activity observed near Sagittarius A*. The radius of the central object must be less than 17 light-hours, because otherwise S2 would collide with it. Observations of the star S14 indicate that the radius is no more than 6.25 light-hours, about the diameter of Uranus' orbit. No known astronomical object other than a black hole can contain 4.0 million M☉ in this volume of space.\n",
      "\n",
      "B The Milky Way galaxy has a supermassive black hole at its center because the star S14 follows an elliptical orbit with a period of 15.2 years and a pericenter of 17 light-hours from the center of the central object. From the motion of star S14, the object's mass can be estimated as 4.0 million M☉, or about 7.96×1036 kg. The radius of the central object must be less than 17 light-hours, because otherwise S14 would collide with it. Observations of the star S2 indicate that the radius is no more than 6.25 light-hours, about the diameter of Uranus' orbit. No known astronomical object other than a black hole can contain 4.0 million M☉ in this volume of space.\n",
      "\n",
      "C The Milky Way galaxy has a supermassive black hole at its center because of the bright flare activity observed near Sagittarius A*. The radius of the central object must be less than 6.25 light-hours, about the diameter of Uranus' orbit. Observations of the star S2 indicate that the radius is no more than 17 light-hours, because otherwise S2 would collide with it. No known astronomical object other than a black hole can contain 4.0 million M☉ in this volume of space.\n",
      "\n",
      "D The Milky Way galaxy has a supermassive black hole at its center because it is the only explanation for the bright flare activity observed near Sagittarius A* at a separation of six to ten times the gravitational radius of the candidate SMBH.\n",
      "\n",
      "E The star S2 follows an elliptical orbit with a period of 15.2 years and a pericenter of 17 light-hours from the center of the central object. From the motion of star S2, the object's mass can be estimated as 4.0 million M☉, or about 7.96×1036 kg. The radius of the central object must be less than 17 light-hours, because otherwise S2 would collide with it. Observations of the star S14 indicate that the radius is no more than 6.25 light-hours, about the diameter of Uranus' orbit. No known astronomical object other than a black hole can contain 4.0 million M☉ in this volume of space.\n"
     ]
    }
   ],
   "source": [
    "i = 0\n",
    "print(df.iloc[i][\"all_wc\"], df.iloc[i][\"prompt_wc\"], df.iloc[i][\"choice_wc\"])\n",
    "print(df.iloc[i][\"prompt\"])\n",
    "print()\n",
    "print(\"A\", df.iloc[i][\"A\"])\n",
    "print()\n",
    "print(\"B\", df.iloc[i][\"B\"])\n",
    "print()\n",
    "print(\"C\", df.iloc[i][\"C\"])\n",
    "print()\n",
    "print(\"D\", df.iloc[i][\"D\"])\n",
    "print()\n",
    "print(\"E\", df.iloc[i][\"E\"])"
   ]
  },
  {
   "cell_type": "code",
   "execution_count": 13,
   "id": "75f4992c",
   "metadata": {},
   "outputs": [
    {
     "name": "stdout",
     "output_type": "stream",
     "text": [
      "22\n",
      "What does the isothermal compressibility represent?\n",
      "context 0: The reciprocal of the bulk modulus at fixed temperature is called the isothermal compressibility.\n"
     ]
    }
   ],
   "source": [
    "print(df.iloc[-1][\"wc\"])\n",
    "print(df.iloc[-1][\"prompt\"])"
   ]
  },
  {
   "cell_type": "code",
   "execution_count": 14,
   "id": "82e7436b",
   "metadata": {},
   "outputs": [
    {
     "data": {
      "text/plain": [
       "(18057, 10)"
      ]
     },
     "execution_count": 14,
     "metadata": {},
     "output_type": "execute_result"
    }
   ],
   "source": [
    "df.shape"
   ]
  },
  {
   "cell_type": "code",
   "execution_count": 15,
   "id": "0adfe10a",
   "metadata": {},
   "outputs": [],
   "source": [
    "long_questions = df[df[\"wc\"] > 100]"
   ]
  },
  {
   "cell_type": "code",
   "execution_count": 16,
   "id": "954e9e98",
   "metadata": {},
   "outputs": [
    {
     "name": "stdout",
     "output_type": "stream",
     "text": [
      "86\n",
      "Which type of equations of state give more accurate results than traditional cubic equations of state?\n",
      "context 0: In general, physically based equations of state give more accurate results than traditional cubic equations of state, especially for systems containing liquids or solids.\n",
      "context 1: For process engineering, cubic equations of state are today still highly relevant, e.g. the Peng Robinson equation of state or the Soave Redlich Kwong equation of state.\n",
      "context 2: There is a large number of physically based equations of state available today.\n",
      "A          Historical equations of state\n",
      "B           Empirical equations of state\n",
      "C    Physically based equations of state\n",
      "D      Multiparameter equations of state\n",
      "E                          Ideal gas law\n",
      "Name: 4805, dtype: object\n"
     ]
    }
   ],
   "source": [
    "i = 100\n",
    "print(df.iloc[i][\"wc\"])\n",
    "print(df.iloc[i][\"prompt\"])\n",
    "print(df.iloc[i][[\"A\", \"B\", \"C\", \"D\", \"E\"]])"
   ]
  },
  {
   "cell_type": "code",
   "execution_count": null,
   "id": "6d606903",
   "metadata": {},
   "outputs": [],
   "source": []
  }
 ],
 "metadata": {
  "kernelspec": {
   "display_name": "Python 3 (ipykernel)",
   "language": "python",
   "name": "python3"
  },
  "language_info": {
   "codemirror_mode": {
    "name": "ipython",
    "version": 3
   },
   "file_extension": ".py",
   "mimetype": "text/x-python",
   "name": "python",
   "nbconvert_exporter": "python",
   "pygments_lexer": "ipython3",
   "version": "3.10.9"
  }
 },
 "nbformat": 4,
 "nbformat_minor": 5
}
