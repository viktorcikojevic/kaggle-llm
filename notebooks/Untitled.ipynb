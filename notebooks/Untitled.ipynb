{
 "cells": [
  {
   "cell_type": "code",
   "execution_count": 9,
   "id": "dc97abda",
   "metadata": {},
   "outputs": [],
   "source": [
    "import pandas as pd\n",
    "\n",
    "\n",
    "df = pd.read_csv(\"/home/clay/research/kaggle/kaggle_llm/data/data_dumps/context_df/more_questions_raw_questions_2.csv\")"
   ]
  },
  {
   "cell_type": "code",
   "execution_count": 10,
   "id": "630be321",
   "metadata": {},
   "outputs": [],
   "source": [
    "def count_words(text):\n",
    "    return sum([1 for i in text.split() if len(i) > 0])\n",
    "\n",
    "\n",
    "df[\"wc\"] = df[\"prompt\"].apply(count_words)\n",
    "df = df.sort_values(\"wc\", ascending=False)"
   ]
  },
  {
   "cell_type": "code",
   "execution_count": 11,
   "id": "568f1b1e",
   "metadata": {},
   "outputs": [
    {
     "data": {
      "text/plain": [
       "<AxesSubplot: >"
      ]
     },
     "execution_count": 11,
     "metadata": {},
     "output_type": "execute_result"
    },
    {
     "data": {
      "image/png": "[encoded data removed]",
      "text/plain": [
       "<Figure size 640x480 with 1 Axes>"
      ]
     },
     "metadata": {},
     "output_type": "display_data"
    }
   ],
   "source": [
    "df[\"wc\"].hist(bins=50)"
   ]
  },
  {
   "cell_type": "code",
   "execution_count": 12,
   "id": "564f2aa2",
   "metadata": {},
   "outputs": [
    {
     "name": "stdout",
     "output_type": "stream",
     "text": [
      "107\n",
      "Betti's theorem states that the work done by set P through the displacements produced by set Q is equal to the work done by set Q through the displacements produced by set P. This theorem is applicable to a:\n",
      "context 0: Betti's theorem, also known as Maxwell–Betti reciprocal work theorem, discovered by Enrico Betti in 1872, states that for a linear elastic structure subject to two sets of forces {Pi} i=1,...,n and {Qj}, j=1,2,...,n, the work done by the set P through the displacements produced by the set Q is equal to the work done by the set Q through the displacements produced by the set P.\n"
     ]
    }
   ],
   "source": [
    "print(df.iloc[0][\"wc\"])\n",
    "print(df.iloc[0][\"prompt\"])"
   ]
  },
  {
   "cell_type": "code",
   "execution_count": 13,
   "id": "8e6c3c4d",
   "metadata": {},
   "outputs": [
    {
     "name": "stdout",
     "output_type": "stream",
     "text": [
      "22\n",
      "What does the isothermal compressibility represent?\n",
      "context 0: The reciprocal of the bulk modulus at fixed temperature is called the isothermal compressibility.\n"
     ]
    }
   ],
   "source": [
    "print(df.iloc[-1][\"wc\"])\n",
    "print(df.iloc[-1][\"prompt\"])"
   ]
  },
  {
   "cell_type": "code",
   "execution_count": 14,
   "id": "be95af59",
   "metadata": {},
   "outputs": [
    {
     "data": {
      "text/plain": [
       "(18057, 10)"
      ]
     },
     "execution_count": 14,
     "metadata": {},
     "output_type": "execute_result"
    }
   ],
   "source": [
    "df.shape"
   ]
  },
  {
   "cell_type": "code",
   "execution_count": 15,
   "id": "a9410f2d",
   "metadata": {},
   "outputs": [],
   "source": [
    "long_questions = df[df[\"wc\"] > 100]"
   ]
  },
  {
   "cell_type": "code",
   "execution_count": 16,
   "id": "9f6c1c03",
   "metadata": {},
   "outputs": [
    {
     "name": "stdout",
     "output_type": "stream",
     "text": [
      "86\n",
      "Which type of equations of state give more accurate results than traditional cubic equations of state?\n",
      "context 0: In general, physically based equations of state give more accurate results than traditional cubic equations of state, especially for systems containing liquids or solids.\n",
      "context 1: For process engineering, cubic equations of state are today still highly relevant, e.g. the Peng Robinson equation of state or the Soave Redlich Kwong equation of state.\n",
      "context 2: There is a large number of physically based equations of state available today.\n",
      "A          Historical equations of state\n",
      "B           Empirical equations of state\n",
      "C    Physically based equations of state\n",
      "D      Multiparameter equations of state\n",
      "E                          Ideal gas law\n",
      "Name: 4805, dtype: object\n"
     ]
    }
   ],
   "source": [
    "i = 100\n",
    "print(df.iloc[i][\"wc\"])\n",
    "print(df.iloc[i][\"prompt\"])\n",
    "print(df.iloc[i][[\"A\", \"B\", \"C\", \"D\", \"E\"]])"
   ]
  },
  {
   "cell_type": "code",
   "execution_count": null,
   "id": "d2c5b26d",
   "metadata": {},
   "outputs": [],
   "source": []
  }
 ],
 "metadata": {
  "kernelspec": {
   "display_name": "Python 3 (ipykernel)",
   "language": "python",
   "name": "python3"
  },
  "language_info": {
   "codemirror_mode": {
    "name": "ipython",
    "version": 3
   },
   "file_extension": ".py",
   "mimetype": "text/x-python",
   "name": "python",
   "nbconvert_exporter": "python",
   "pygments_lexer": "ipython3",
   "version": "3.10.9"
  }
 },
 "nbformat": 4,
 "nbformat_minor": 5
}
