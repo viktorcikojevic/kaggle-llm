{
 "cells": [
  {
   "cell_type": "code",
   "execution_count": 1,
   "id": "36a88132",
   "metadata": {},
   "outputs": [],
   "source": [
    "import sys\n",
    "sys.path.append(\"../src/\")\n",
    "\n",
    "\n",
    "from kaggle_llm.core import (\n",
    "    ROOT_PATH,\n",
    "    count_words,\n",
    ")\n",
    "import pandas as pd\n",
    "import numpy as np\n",
    "from tqdm import tqdm\n",
    "from typing import *\n",
    "from sentence_transformers import SentenceTransformer\n",
    "from pathlib import Path\n",
    "import blingfire as bf\n",
    "import argparse\n",
    "import torch\n",
    "import faiss\n",
    "import json\n",
    "import yaml\n",
    "\n",
    "\n",
    "too_long_prompt_wc = 250\n",
    "context_cutoff_len = 150\n",
    "\n",
    "\n",
    "def split_text_into_chunks(text: str, chunk_size: int) -> List[str]:\n",
    "    tokens = [i for i in text.split() if len(i) > 0]\n",
    "    start = 0\n",
    "    end = chunk_size\n",
    "    chunks = []\n",
    "    while end < len(tokens):\n",
    "        chunks.append(\" \".join(tokens[start: end]))\n",
    "        start += chunk_size\n",
    "        end += chunk_size\n",
    "    return chunks\n",
    "\n",
    "\n",
    "@torch.no_grad()\n",
    "def get_sentence_embeddings(\n",
    "        wiki_df_path: Union[str, Path],\n",
    "        model: SentenceTransformer\n",
    "):\n",
    "    wiki_df = pd.read_csv(wiki_df_path, index_col=0)\n",
    "\n",
    "    wc_per_page = wiki_df.groupby(\"page\")[[\"word_count\"]].sum().sort_values(\"word_count\", ascending=False)\n",
    "    black_list = list(wc_per_page.loc[\n",
    "        (wc_per_page[\"word_count\"] > 10000)\n",
    "        | (wc_per_page.index.map(lambda x: \"list of equations\" in x.lower()))\n",
    "    ].index)\n",
    "    print(json.dumps(black_list, indent=4))\n",
    "\n",
    "    filtered_wiki_df = wiki_df.loc[~wiki_df[\"page\"].isin(black_list), :].copy()\n",
    "    print(len(wiki_df), len(filtered_wiki_df))\n",
    "\n",
    "    batch_size = 16\n",
    "    sentences_df = []\n",
    "\n",
    "    print(\"extracting sentences:\")\n",
    "    for _, row in tqdm(filtered_wiki_df.iterrows(), total=len(filtered_wiki_df)):\n",
    "        _, sentence_offsets = bf.text_to_sentences_and_offsets(row[\"text\"])\n",
    "        for start_idx, end_idx in sentence_offsets:\n",
    "            is_long_enough = (end_idx - start_idx) > 3\n",
    "            is_math = \"\\\\\" in row[\"text\"][start_idx: end_idx]  # leads to excessive tokens\n",
    "            if is_long_enough and (not is_math):\n",
    "                sentences_df.append({\n",
    "                    \"page\": row[\"page\"],\n",
    "                    \"i_sentence\": len(sentences_df),\n",
    "                    \"text\": row[\"text\"][start_idx: end_idx],\n",
    "                    \"topic\": row[\"page\"],\n",
    "                })\n",
    "\n",
    "    sentences_df = pd.DataFrame.from_records(sentences_df)\n",
    "    print(f\"extracted: {len(sentences_df)} sentences\")\n",
    "\n",
    "    print(f\"dropping too long sentences\")\n",
    "    pass_indices = sentences_df.loc[sentences_df[\"text\"].apply(count_words) < context_cutoff_len, \"text\"].index\n",
    "    print(f\"keeping {len(pass_indices) / len(sentences_df) * 100} % at cutoff {context_cutoff_len}\")\n",
    "    sentences_df = sentences_df.loc[pass_indices, :].reset_index().copy()\n",
    "\n",
    "    print(\"computing wiki embeddings:\")\n",
    "    sentence_embeddings = model.encode(\n",
    "        sentences_df[\"text\"].values,\n",
    "        batch_size=batch_size,\n",
    "        device=\"cuda\",\n",
    "        show_progress_bar=True,\n",
    "        convert_to_tensor=True,\n",
    "        normalize_embeddings=True,\n",
    "    ).half()\n",
    "    sentence_embeddings = sentence_embeddings.detach().cpu().numpy()\n",
    "\n",
    "    sentence_index = faiss.IndexFlatIP(sentence_embeddings.shape[1])\n",
    "    sentence_index.add(sentence_embeddings)\n",
    "    print(f\"{sentence_index.ntotal = }\")\n",
    "    return sentences_df, sentence_index"
   ]
  },
  {
   "cell_type": "code",
   "execution_count": 2,
   "id": "837c07f7",
   "metadata": {},
   "outputs": [],
   "source": [
    "train_df_path = \"/home/clay/research/kaggle/kaggle_llm/data/data_dumps/context_df/more_questions_raw_questions.csv\"\n",
    "wiki_df_path = \"/home/clay/research/kaggle/kaggle_llm/data/physics_pages_list/physics_pages_formatted.csv\"\n",
    "sentence_model = \"/home/clay/research/kaggle/kaggle_llm/data/sentence_transformer_model\"\n",
    "# sentence_model = \"/home/clay/research/kaggle/kaggle_llm/data/data_dumps/sentence_embedder_modules/\"\n",
    "# sentence_model = \"sentence-transformers/all-MiniLM-L6-v2\"\n",
    "k = 3"
   ]
  },
  {
   "cell_type": "code",
   "execution_count": 3,
   "id": "70866b23",
   "metadata": {},
   "outputs": [],
   "source": [
    "model = SentenceTransformer(sentence_model, device=\"cuda\")\n",
    "model.max_seq_length = 384\n",
    "model = model.half()"
   ]
  },
  {
   "cell_type": "code",
   "execution_count": 4,
   "id": "d88d328a",
   "metadata": {},
   "outputs": [
    {
     "data": {
      "text/plain": [
       "SentenceTransformer(\n",
       "  (0): Transformer({'max_seq_length': 384, 'do_lower_case': False}) with Transformer model: BertModel \n",
       "  (1): Pooling({'word_embedding_dimension': 384, 'pooling_mode_cls_token': False, 'pooling_mode_mean_tokens': True, 'pooling_mode_max_tokens': False, 'pooling_mode_mean_sqrt_len_tokens': False})\n",
       "  (2): Normalize()\n",
       ")"
      ]
     },
     "execution_count": 4,
     "metadata": {},
     "output_type": "execute_result"
    }
   ],
   "source": [
    "model"
   ]
  },
  {
   "cell_type": "code",
   "execution_count": 5,
   "id": "2457b6de",
   "metadata": {
    "scrolled": true
   },
   "outputs": [
    {
     "name": "stdout",
     "output_type": "stream",
     "text": [
      "computing wiki embeddings\n",
      "[\n",
      "    \"Galactocentric distance\",\n",
      "    \"List of equations in classical mechanics\",\n",
      "    \"List of equations in quantum mechanics\",\n",
      "    \"List of equations in wave theory\",\n",
      "    \"List of equations in fluid mechanics\",\n",
      "    \"List of equations in nuclear and particle physics\",\n",
      "    \"List of equations in gravitation\"\n",
      "]\n",
      "4096 4054\n",
      "extracting sentences:\n"
     ]
    },
    {
     "name": "stderr",
     "output_type": "stream",
     "text": [
      "100%|█████████████████████████████████████████████████████████████| 4054/4054 [00:01<00:00, 3081.04it/s]\n"
     ]
    },
    {
     "name": "stdout",
     "output_type": "stream",
     "text": [
      "extracted: 30079 sentences\n",
      "dropping too long sentences\n",
      "keeping 99.95345589946474 % at cutoff 150\n",
      "computing wiki embeddings:\n"
     ]
    },
    {
     "data": {
      "application/vnd.jupyter.widget-view+json": {
       "model_id": "b03b7b1dae844ac4ab398ad01472ac87",
       "version_major": 2,
       "version_minor": 0
      },
      "text/plain": [
       "Batches:   0%|          | 0/1880 [00:00<?, ?it/s]"
      ]
     },
     "metadata": {},
     "output_type": "display_data"
    },
    {
     "name": "stdout",
     "output_type": "stream",
     "text": [
      "sentence_index.ntotal = 30065\n",
      "computed wiki embeddings\n"
     ]
    }
   ],
   "source": [
    "wiki_df_path = Path(wiki_df_path)\n",
    "print(f\"computing wiki embeddings\")\n",
    "sentences_df, sentence_index = get_sentence_embeddings(wiki_df_path, model)\n",
    "batch_size = 16\n",
    "print(f\"computed wiki embeddings\")"
   ]
  },
  {
   "cell_type": "code",
   "execution_count": 6,
   "id": "6c379eb4",
   "metadata": {},
   "outputs": [
    {
     "data": {
      "application/vnd.jupyter.widget-view+json": {
       "model_id": "f11360361621440cba4ae5786a9c5ba7",
       "version_major": 2,
       "version_minor": 0
      },
      "text/plain": [
       "Batches:   0%|          | 0/1139 [00:00<?, ?it/s]"
      ]
     },
     "metadata": {},
     "output_type": "display_data"
    }
   ],
   "source": [
    "batch_size = 16\n",
    "train_df = pd.read_csv(train_df_path)\n",
    "if \"id\" in train_df.columns:\n",
    "    train_df = train_df.drop(\"id\", axis=1)\n",
    "\n",
    "train_df[\"prompt_and_answer\"] = (\n",
    "        train_df[\"prompt\"]\n",
    "        + \" \" + train_df[\"A\"]\n",
    "        + \" \" + train_df[\"B\"]\n",
    "        + \" \" + train_df[\"C\"]\n",
    "        + \" \" + train_df[\"D\"]\n",
    "        + \" \" + train_df[\"E\"]\n",
    ")\n",
    "question_embeddings = model.encode(\n",
    "    train_df[\"prompt_and_answer\"].values,\n",
    "    batch_size=batch_size,\n",
    "    device=\"cuda\",\n",
    "    show_progress_bar=True,\n",
    "    convert_to_tensor=True,\n",
    "    normalize_embeddings=True,\n",
    ").half()\n",
    "question_embeddings = question_embeddings.detach().cpu().numpy()\n",
    "\n",
    "distance, indices = sentence_index.search(question_embeddings, k)\n",
    "\n",
    "for i in range(k):\n",
    "    train_df[f\"context_{i}_idx\"] = indices[:, i]\n",
    "\n",
    "for i in range(k):\n",
    "    # this is different, we just join the topic here\n",
    "    train_df[f\"context_topic_{i}\"] = train_df.join(\n",
    "        sentences_df[\"topic\"],\n",
    "        on=f\"context_{i}_idx\",\n",
    "        how=\"left\",\n",
    "        rsuffix=f\"_context_{i}\"\n",
    "    )[f\"topic_context_{i}\"]\n",
    "    train_df[f\"context_topic_{i}\"] = train_df[f\"context_topic_{i}\"].apply(\n",
    "        lambda x: x.lower().replace(\" \", \"_\")\\\n",
    "            .replace(\"/\", \"_\")\\\n",
    "            .replace(\"'\", \"_\")\\\n",
    "            .replace(\"(\", \"_\")\\\n",
    "            .replace(\")\", \"_\")\\\n",
    "            .replace(\":\", \"_\")\n",
    "    )\n",
    "\n",
    "assert not train_df[\"prompt\"].isna().any(), f\"{train_df_path} contains {train_df['prompt'].isna().sum()} dumbass prompts\""
   ]
  },
  {
   "cell_type": "code",
   "execution_count": 7,
   "id": "02bf3795",
   "metadata": {},
   "outputs": [
    {
     "data": {
      "text/html": [
       "<div>\n",
       "<style scoped>\n",
       "    .dataframe tbody tr th:only-of-type {\n",
       "        vertical-align: middle;\n",
       "    }\n",
       "\n",
       "    .dataframe tbody tr th {\n",
       "        vertical-align: top;\n",
       "    }\n",
       "\n",
       "    .dataframe thead th {\n",
       "        text-align: right;\n",
       "    }\n",
       "</style>\n",
       "<table border=\"1\" class=\"dataframe\">\n",
       "  <thead>\n",
       "    <tr style=\"text-align: right;\">\n",
       "      <th></th>\n",
       "      <th>Unnamed: 0</th>\n",
       "      <th>prompt</th>\n",
       "      <th>A</th>\n",
       "      <th>B</th>\n",
       "      <th>C</th>\n",
       "      <th>D</th>\n",
       "      <th>E</th>\n",
       "      <th>answer</th>\n",
       "      <th>topic</th>\n",
       "      <th>prompt_and_answer</th>\n",
       "      <th>context_0_idx</th>\n",
       "      <th>context_1_idx</th>\n",
       "      <th>context_2_idx</th>\n",
       "      <th>context_topic_0</th>\n",
       "      <th>context_topic_1</th>\n",
       "      <th>context_topic_2</th>\n",
       "    </tr>\n",
       "  </thead>\n",
       "  <tbody>\n",
       "    <tr>\n",
       "      <th>0</th>\n",
       "      <td>0</td>\n",
       "      <td>What is 3D mirror symmetry?\\ncontext 0: In the...</td>\n",
       "      <td>A version of mirror symmetry in 3-dimensional ...</td>\n",
       "      <td>A reflection symmetry in 3-dimensional objects</td>\n",
       "      <td>A type of symmetry only applicable in 2-dimens...</td>\n",
       "      <td>A symmetry principle in classical mechanics</td>\n",
       "      <td>None of the above</td>\n",
       "      <td>A</td>\n",
       "      <td>3d_mirror_symmetry</td>\n",
       "      <td>What is 3D mirror symmetry?\\ncontext 0: In the...</td>\n",
       "      <td>14413</td>\n",
       "      <td>16901</td>\n",
       "      <td>14416</td>\n",
       "      <td>3d_mirror_symmetry</td>\n",
       "      <td>symmetry__geometry_</td>\n",
       "      <td>3d_mirror_symmetry</td>\n",
       "    </tr>\n",
       "    <tr>\n",
       "      <th>1</th>\n",
       "      <td>1</td>\n",
       "      <td>Who first proposed 3D mirror symmetry?\\ncontex...</td>\n",
       "      <td>Amihay Hanany and Edward Witten</td>\n",
       "      <td>Kenneth Intriligator and Nathan Seiberg</td>\n",
       "      <td>Nathan Seiberg and Edward Witten</td>\n",
       "      <td>Kenneth Intriligator and Amihay Hanany</td>\n",
       "      <td>None of the above</td>\n",
       "      <td>B</td>\n",
       "      <td>3d_mirror_symmetry</td>\n",
       "      <td>Who first proposed 3D mirror symmetry?\\ncontex...</td>\n",
       "      <td>14414</td>\n",
       "      <td>14413</td>\n",
       "      <td>14416</td>\n",
       "      <td>3d_mirror_symmetry</td>\n",
       "      <td>3d_mirror_symmetry</td>\n",
       "      <td>3d_mirror_symmetry</td>\n",
       "    </tr>\n",
       "    <tr>\n",
       "      <th>2</th>\n",
       "      <td>2</td>\n",
       "      <td>What does 3D mirror symmetry relate?\\ncontext ...</td>\n",
       "      <td>Pairs of 2-dimensional gauge theories</td>\n",
       "      <td>Pairs of 3-dimensional gauge theories</td>\n",
       "      <td>Pairs of 4-dimensional gauge theories</td>\n",
       "      <td>Pairs of string theories</td>\n",
       "      <td>None of the above</td>\n",
       "      <td>B</td>\n",
       "      <td>3d_mirror_symmetry</td>\n",
       "      <td>What does 3D mirror symmetry relate?\\ncontext ...</td>\n",
       "      <td>14413</td>\n",
       "      <td>14416</td>\n",
       "      <td>16901</td>\n",
       "      <td>3d_mirror_symmetry</td>\n",
       "      <td>3d_mirror_symmetry</td>\n",
       "      <td>symmetry__geometry_</td>\n",
       "    </tr>\n",
       "    <tr>\n",
       "      <th>3</th>\n",
       "      <td>3</td>\n",
       "      <td>What was the physical interpretation of 3D mir...</td>\n",
       "      <td>Vortices condense on the Higgs branch</td>\n",
       "      <td>Vortices condense on the Coulomb branch</td>\n",
       "      <td>Vortices condense on both the Higgs and Coulom...</td>\n",
       "      <td>Vortices do not condense in 3-dimensional gaug...</td>\n",
       "      <td>None of the above</td>\n",
       "      <td>B</td>\n",
       "      <td>3d_mirror_symmetry</td>\n",
       "      <td>What was the physical interpretation of 3D mir...</td>\n",
       "      <td>14413</td>\n",
       "      <td>14414</td>\n",
       "      <td>14418</td>\n",
       "      <td>3d_mirror_symmetry</td>\n",
       "      <td>3d_mirror_symmetry</td>\n",
       "      <td>3d_mirror_symmetry</td>\n",
       "    </tr>\n",
       "    <tr>\n",
       "      <th>4</th>\n",
       "      <td>4</td>\n",
       "      <td>What are BPS vortices?\\ncontext 0: BPS vortice...</td>\n",
       "      <td>Vortices that preserve some supersymmetry</td>\n",
       "      <td>Vortices that do not preserve supersymmetry</td>\n",
       "      <td>Vortices with negative mass</td>\n",
       "      <td>Vortices with positive mass</td>\n",
       "      <td>None of the above</td>\n",
       "      <td>A</td>\n",
       "      <td>3d_mirror_symmetry</td>\n",
       "      <td>What are BPS vortices?\\ncontext 0: BPS vortice...</td>\n",
       "      <td>14419</td>\n",
       "      <td>14420</td>\n",
       "      <td>14418</td>\n",
       "      <td>3d_mirror_symmetry</td>\n",
       "      <td>3d_mirror_symmetry</td>\n",
       "      <td>3d_mirror_symmetry</td>\n",
       "    </tr>\n",
       "  </tbody>\n",
       "</table>\n",
       "</div>"
      ],
      "text/plain": [
       "   Unnamed: 0                                             prompt  \\\n",
       "0           0  What is 3D mirror symmetry?\\ncontext 0: In the...   \n",
       "1           1  Who first proposed 3D mirror symmetry?\\ncontex...   \n",
       "2           2  What does 3D mirror symmetry relate?\\ncontext ...   \n",
       "3           3  What was the physical interpretation of 3D mir...   \n",
       "4           4  What are BPS vortices?\\ncontext 0: BPS vortice...   \n",
       "\n",
       "                                                   A  \\\n",
       "0  A version of mirror symmetry in 3-dimensional ...   \n",
       "1                    Amihay Hanany and Edward Witten   \n",
       "2              Pairs of 2-dimensional gauge theories   \n",
       "3              Vortices condense on the Higgs branch   \n",
       "4          Vortices that preserve some supersymmetry   \n",
       "\n",
       "                                                B  \\\n",
       "0  A reflection symmetry in 3-dimensional objects   \n",
       "1         Kenneth Intriligator and Nathan Seiberg   \n",
       "2           Pairs of 3-dimensional gauge theories   \n",
       "3         Vortices condense on the Coulomb branch   \n",
       "4     Vortices that do not preserve supersymmetry   \n",
       "\n",
       "                                                   C  \\\n",
       "0  A type of symmetry only applicable in 2-dimens...   \n",
       "1                   Nathan Seiberg and Edward Witten   \n",
       "2              Pairs of 4-dimensional gauge theories   \n",
       "3  Vortices condense on both the Higgs and Coulom...   \n",
       "4                        Vortices with negative mass   \n",
       "\n",
       "                                                   D                  E  \\\n",
       "0        A symmetry principle in classical mechanics  None of the above   \n",
       "1             Kenneth Intriligator and Amihay Hanany  None of the above   \n",
       "2                           Pairs of string theories  None of the above   \n",
       "3  Vortices do not condense in 3-dimensional gaug...  None of the above   \n",
       "4                        Vortices with positive mass  None of the above   \n",
       "\n",
       "  answer               topic  \\\n",
       "0      A  3d_mirror_symmetry   \n",
       "1      B  3d_mirror_symmetry   \n",
       "2      B  3d_mirror_symmetry   \n",
       "3      B  3d_mirror_symmetry   \n",
       "4      A  3d_mirror_symmetry   \n",
       "\n",
       "                                   prompt_and_answer  context_0_idx  \\\n",
       "0  What is 3D mirror symmetry?\\ncontext 0: In the...          14413   \n",
       "1  Who first proposed 3D mirror symmetry?\\ncontex...          14414   \n",
       "2  What does 3D mirror symmetry relate?\\ncontext ...          14413   \n",
       "3  What was the physical interpretation of 3D mir...          14413   \n",
       "4  What are BPS vortices?\\ncontext 0: BPS vortice...          14419   \n",
       "\n",
       "   context_1_idx  context_2_idx     context_topic_0      context_topic_1  \\\n",
       "0          16901          14416  3d_mirror_symmetry  symmetry__geometry_   \n",
       "1          14413          14416  3d_mirror_symmetry   3d_mirror_symmetry   \n",
       "2          14416          16901  3d_mirror_symmetry   3d_mirror_symmetry   \n",
       "3          14414          14418  3d_mirror_symmetry   3d_mirror_symmetry   \n",
       "4          14420          14418  3d_mirror_symmetry   3d_mirror_symmetry   \n",
       "\n",
       "       context_topic_2  \n",
       "0   3d_mirror_symmetry  \n",
       "1   3d_mirror_symmetry  \n",
       "2  symmetry__geometry_  \n",
       "3   3d_mirror_symmetry  \n",
       "4   3d_mirror_symmetry  "
      ]
     },
     "execution_count": 7,
     "metadata": {},
     "output_type": "execute_result"
    }
   ],
   "source": [
    "train_df.head()"
   ]
  },
  {
   "cell_type": "code",
   "execution_count": 8,
   "id": "4a79c7b0",
   "metadata": {},
   "outputs": [
    {
     "name": "stdout",
     "output_type": "stream",
     "text": [
      "[0.7737350455493359, 0.6127208868400834, 0.54115903852486]\n"
     ]
    }
   ],
   "source": [
    "accs = []\n",
    "for i in range(k):\n",
    "    accs.append((train_df[\"topic\"] == train_df[f\"context_topic_{i}\"]).mean())\n",
    "print(accs)"
   ]
  },
  {
   "cell_type": "code",
   "execution_count": null,
   "id": "c8bb8441",
   "metadata": {},
   "outputs": [],
   "source": []
  },
  {
   "cell_type": "code",
   "execution_count": 9,
   "id": "f8c951fe",
   "metadata": {},
   "outputs": [
    {
     "data": {
      "text/plain": [
       "<sklearn.metrics._plot.confusion_matrix.ConfusionMatrixDisplay at 0x7f04343edb40>"
      ]
     },
     "execution_count": 9,
     "metadata": {},
     "output_type": "execute_result"
    },
    {
     "data": {
      "image/png": "[encoded data removed]",
      "text/plain": [
       "<Figure size 640x480 with 2 Axes>"
      ]
     },
     "metadata": {},
     "output_type": "display_data"
    }
   ],
   "source": [
    "import matplotlib.pyplot as plt\n",
    "from sklearn.metrics import confusion_matrix, ConfusionMatrixDisplay\n",
    "\n",
    "\n",
    "ConfusionMatrixDisplay(\n",
    "    confusion_matrix(\n",
    "        train_df[\"topic\"],\n",
    "        train_df[\"context_topic_0\"]\n",
    "    )\n",
    ").plot()"
   ]
  }
 ],
 "metadata": {
  "kernelspec": {
   "display_name": "Python 3 (ipykernel)",
   "language": "python",
   "name": "python3"
  },
  "language_info": {
   "codemirror_mode": {
    "name": "ipython",
    "version": 3
   },
   "file_extension": ".py",
   "mimetype": "text/x-python",
   "name": "python",
   "nbconvert_exporter": "python",
   "pygments_lexer": "ipython3",
   "version": "3.10.9"
  }
 },
 "nbformat": 4,
 "nbformat_minor": 5
}
