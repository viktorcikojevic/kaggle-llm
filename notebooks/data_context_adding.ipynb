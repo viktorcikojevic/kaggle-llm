{
 "cells": [
  {
   "cell_type": "code",
   "execution_count": 14,
   "id": "36a88132",
   "metadata": {},
   "outputs": [],
   "source": [
    "import pandas as pd\n",
    "import numpy as np\n",
    "from tqdm.auto import tqdm\n",
    "from typing import *\n",
    "from sentence_transformers import SentenceTransformer\n",
    "from faiss import write_index, read_index\n",
    "import blingfire as bf\n",
    "import torch\n",
    "import faiss\n",
    "import json\n",
    "import re"
   ]
  },
  {
   "cell_type": "code",
   "execution_count": 15,
   "id": "837c07f7",
   "metadata": {},
   "outputs": [],
   "source": [
    "train_df = pd.read_csv(\"/home/clay/research/kaggle/kaggle_llm/data/kaggle-llm-science-exam/train.csv\", index_col=0)\n",
    "wiki_df = pd.read_csv(\"/home/clay/research/kaggle/kaggle_llm/data/physics_pages_list/physics_pages_formatted.csv\", index_col=0)"
   ]
  },
  {
   "cell_type": "code",
   "execution_count": 16,
   "id": "70866b23",
   "metadata": {},
   "outputs": [
    {
     "name": "stdout",
     "output_type": "stream",
     "text": [
      "[\n",
      "    \"Galactocentric distance\",\n",
      "    \"List of equations in classical mechanics\",\n",
      "    \"List of equations in quantum mechanics\",\n",
      "    \"List of equations in wave theory\",\n",
      "    \"List of equations in fluid mechanics\",\n",
      "    \"List of equations in nuclear and particle physics\",\n",
      "    \"List of equations in gravitation\"\n",
      "]\n",
      "4096 4054\n"
     ]
    }
   ],
   "source": [
    "wc_per_page = wiki_df.groupby(\"page\")[[\"word_count\"]].sum().sort_values(\"word_count\", ascending=False)\n",
    "black_list = list(wc_per_page.loc[\n",
    "    (wc_per_page[\"word_count\"] > 10000)\n",
    "    | (wc_per_page.index.map(lambda x: \"list of equations\" in x.lower()))\n",
    "].index)\n",
    "print(json.dumps(black_list, indent=4))\n",
    "\n",
    "\n",
    "filtered_wiki_df = wiki_df.loc[~wiki_df[\"page\"].isin(black_list), :].copy()\n",
    "print(len(wiki_df), len(filtered_wiki_df))"
   ]
  },
  {
   "cell_type": "code",
   "execution_count": 17,
   "id": "2457b6de",
   "metadata": {},
   "outputs": [
    {
     "data": {
      "text/html": [
       "<div>\n",
       "<style scoped>\n",
       "    .dataframe tbody tr th:only-of-type {\n",
       "        vertical-align: middle;\n",
       "    }\n",
       "\n",
       "    .dataframe tbody tr th {\n",
       "        vertical-align: top;\n",
       "    }\n",
       "\n",
       "    .dataframe thead th {\n",
       "        text-align: right;\n",
       "    }\n",
       "</style>\n",
       "<table border=\"1\" class=\"dataframe\">\n",
       "  <thead>\n",
       "    <tr style=\"text-align: right;\">\n",
       "      <th></th>\n",
       "      <th>page</th>\n",
       "      <th>section_title</th>\n",
       "      <th>text</th>\n",
       "      <th>word_count</th>\n",
       "    </tr>\n",
       "  </thead>\n",
       "  <tbody>\n",
       "    <tr>\n",
       "      <th>0</th>\n",
       "      <td>Electric field</td>\n",
       "      <td>Description</td>\n",
       "      <td>The electric field is defined at each point in...</td>\n",
       "      <td>441</td>\n",
       "    </tr>\n",
       "    <tr>\n",
       "      <th>1</th>\n",
       "      <td>Electric field</td>\n",
       "      <td>Mathematical formulation</td>\n",
       "      <td>Electric fields are caused by electric charges...</td>\n",
       "      <td>71</td>\n",
       "    </tr>\n",
       "    <tr>\n",
       "      <th>2</th>\n",
       "      <td>Electric field</td>\n",
       "      <td>Electrostatic fields</td>\n",
       "      <td>Electrostatic fields are electric fields that ...</td>\n",
       "      <td>37</td>\n",
       "    </tr>\n",
       "    <tr>\n",
       "      <th>3</th>\n",
       "      <td>Electric field</td>\n",
       "      <td>Electrodynamic fields</td>\n",
       "      <td>Electrodynamic fields are electric fields whic...</td>\n",
       "      <td>166</td>\n",
       "    </tr>\n",
       "    <tr>\n",
       "      <th>4</th>\n",
       "      <td>Electric field</td>\n",
       "      <td>Energy in the electric field</td>\n",
       "      <td>The total energy per unit volume stored by the...</td>\n",
       "      <td>119</td>\n",
       "    </tr>\n",
       "  </tbody>\n",
       "</table>\n",
       "</div>"
      ],
      "text/plain": [
       "             page                 section_title  \\\n",
       "0  Electric field                   Description   \n",
       "1  Electric field      Mathematical formulation   \n",
       "2  Electric field          Electrostatic fields   \n",
       "3  Electric field         Electrodynamic fields   \n",
       "4  Electric field  Energy in the electric field   \n",
       "\n",
       "                                                text  word_count  \n",
       "0  The electric field is defined at each point in...         441  \n",
       "1  Electric fields are caused by electric charges...          71  \n",
       "2  Electrostatic fields are electric fields that ...          37  \n",
       "3  Electrodynamic fields are electric fields whic...         166  \n",
       "4  The total energy per unit volume stored by the...         119  "
      ]
     },
     "execution_count": 17,
     "metadata": {},
     "output_type": "execute_result"
    }
   ],
   "source": [
    "filtered_wiki_df.head()"
   ]
  },
  {
   "cell_type": "code",
   "execution_count": null,
   "id": "6c379eb4",
   "metadata": {},
   "outputs": [],
   "source": []
  },
  {
   "cell_type": "code",
   "execution_count": 18,
   "id": "02bf3795",
   "metadata": {},
   "outputs": [],
   "source": [
    "sentence_model = \"/home/clay/research/kaggle/kaggle_llm/data/sentence_transformer_model\"\n",
    "max_length = 384\n",
    "batch_size = 16\n",
    "\n",
    "\n",
    "model = SentenceTransformer(sentence_model, device=\"cuda\")\n",
    "model.max_seq_length = max_length\n",
    "model = model.half()"
   ]
  },
  {
   "cell_type": "code",
   "execution_count": null,
   "id": "4a79c7b0",
   "metadata": {},
   "outputs": [],
   "source": []
  },
  {
   "cell_type": "code",
   "execution_count": 19,
   "id": "be50c201",
   "metadata": {},
   "outputs": [
    {
     "data": {
      "application/vnd.jupyter.widget-view+json": {
       "model_id": "ec3977e86fdf482c9aa4e8fd1ffc63ac",
       "version_major": 2,
       "version_minor": 0
      },
      "text/plain": [
       "  0%|          | 0/4054 [00:00<?, ?it/s]"
      ]
     },
     "metadata": {},
     "output_type": "display_data"
    },
    {
     "name": "stdout",
     "output_type": "stream",
     "text": [
      "extracted: 33207 sentences\n"
     ]
    }
   ],
   "source": [
    "sentences_df = []\n",
    "\n",
    "\n",
    "for _, row in tqdm(filtered_wiki_df.iterrows(), total=len(filtered_wiki_df)):\n",
    "    _, sentence_offsets = bf.text_to_sentences_and_offsets(row[\"text\"])\n",
    "    for i, (start_idx, end_idx) in enumerate(sentence_offsets):\n",
    "        if (end_idx - start_idx) > 3:\n",
    "            sentences_df.append({\n",
    "                \"page\": row[\"page\"],\n",
    "                \"i_sentence\": i,\n",
    "                \"text\": row[\"text\"][start_idx: end_idx],\n",
    "            })\n",
    "\n",
    "            \n",
    "sentences_df = pd.DataFrame.from_records(sentences_df)\n",
    "print(f\"extracted: {len(sentences_df)} sentences\")"
   ]
  },
  {
   "cell_type": "code",
   "execution_count": 20,
   "id": "ae745c36",
   "metadata": {},
   "outputs": [
    {
     "data": {
      "text/html": [
       "<div>\n",
       "<style scoped>\n",
       "    .dataframe tbody tr th:only-of-type {\n",
       "        vertical-align: middle;\n",
       "    }\n",
       "\n",
       "    .dataframe tbody tr th {\n",
       "        vertical-align: top;\n",
       "    }\n",
       "\n",
       "    .dataframe thead th {\n",
       "        text-align: right;\n",
       "    }\n",
       "</style>\n",
       "<table border=\"1\" class=\"dataframe\">\n",
       "  <thead>\n",
       "    <tr style=\"text-align: right;\">\n",
       "      <th></th>\n",
       "      <th>page</th>\n",
       "      <th>i_sentence</th>\n",
       "      <th>text</th>\n",
       "    </tr>\n",
       "  </thead>\n",
       "  <tbody>\n",
       "    <tr>\n",
       "      <th>0</th>\n",
       "      <td>Electric field</td>\n",
       "      <td>0</td>\n",
       "      <td>The electric field is defined at each point in...</td>\n",
       "    </tr>\n",
       "    <tr>\n",
       "      <th>1</th>\n",
       "      <td>Electric field</td>\n",
       "      <td>1</td>\n",
       "      <td>The electric field acts between two charges si...</td>\n",
       "    </tr>\n",
       "    <tr>\n",
       "      <th>2</th>\n",
       "      <td>Electric field</td>\n",
       "      <td>2</td>\n",
       "      <td>This is the basis for Coulomb's law, which sta...</td>\n",
       "    </tr>\n",
       "    <tr>\n",
       "      <th>3</th>\n",
       "      <td>Electric field</td>\n",
       "      <td>3</td>\n",
       "      <td>This means that if the source charge were doub...</td>\n",
       "    </tr>\n",
       "    <tr>\n",
       "      <th>4</th>\n",
       "      <td>Electric field</td>\n",
       "      <td>4</td>\n",
       "      <td>The electric field can be visualized with a se...</td>\n",
       "    </tr>\n",
       "  </tbody>\n",
       "</table>\n",
       "</div>"
      ],
      "text/plain": [
       "             page  i_sentence  \\\n",
       "0  Electric field           0   \n",
       "1  Electric field           1   \n",
       "2  Electric field           2   \n",
       "3  Electric field           3   \n",
       "4  Electric field           4   \n",
       "\n",
       "                                                text  \n",
       "0  The electric field is defined at each point in...  \n",
       "1  The electric field acts between two charges si...  \n",
       "2  This is the basis for Coulomb's law, which sta...  \n",
       "3  This means that if the source charge were doub...  \n",
       "4  The electric field can be visualized with a se...  "
      ]
     },
     "execution_count": 20,
     "metadata": {},
     "output_type": "execute_result"
    }
   ],
   "source": [
    "sentences_df.head()"
   ]
  },
  {
   "cell_type": "code",
   "execution_count": 39,
   "id": "7d465d7d",
   "metadata": {},
   "outputs": [
    {
     "data": {
      "image/png": "[encoded data removed]",
      "text/plain": [
       "<Figure size 640x480 with 1 Axes>"
      ]
     },
     "metadata": {},
     "output_type": "display_data"
    }
   ],
   "source": [
    "import matplotlib.pyplot as plt\n",
    "\n",
    "\n",
    "def count_words(text):\n",
    "    return sum([1 for i in text.split() if len(i) > 0])\n",
    "\n",
    "\n",
    "_ = plt.hist(sentences_df[\"text\"].apply(count_words), bins=50)"
   ]
  },
  {
   "cell_type": "code",
   "execution_count": 44,
   "id": "ede0201c",
   "metadata": {},
   "outputs": [
    {
     "data": {
      "application/vnd.jupyter.widget-view+json": {
       "model_id": "f2fe5e5d56c243a09761c17620a1b068",
       "version_major": 2,
       "version_minor": 0
      },
      "text/plain": [
       "Batches:   0%|          | 0/13 [00:00<?, ?it/s]"
      ]
     },
     "metadata": {},
     "output_type": "display_data"
    },
    {
     "data": {
      "application/vnd.jupyter.widget-view+json": {
       "model_id": "46bbc36ff59d42c383533e800a44d5ed",
       "version_major": 2,
       "version_minor": 0
      },
      "text/plain": [
       "Batches:   0%|          | 0/13 [00:00<?, ?it/s]"
      ]
     },
     "metadata": {},
     "output_type": "display_data"
    },
    {
     "data": {
      "application/vnd.jupyter.widget-view+json": {
       "model_id": "a84fc84d15f84371a317784e6c0dd69e",
       "version_major": 2,
       "version_minor": 0
      },
      "text/plain": [
       "Batches:   0%|          | 0/13 [00:00<?, ?it/s]"
      ]
     },
     "metadata": {},
     "output_type": "display_data"
    },
    {
     "data": {
      "application/vnd.jupyter.widget-view+json": {
       "model_id": "29aa5f228946406aaa64d6d3de8e37e3",
       "version_major": 2,
       "version_minor": 0
      },
      "text/plain": [
       "Batches:   0%|          | 0/13 [00:00<?, ?it/s]"
      ]
     },
     "metadata": {},
     "output_type": "display_data"
    },
    {
     "data": {
      "application/vnd.jupyter.widget-view+json": {
       "model_id": "a05114868efc4e14843035f9d413304b",
       "version_major": 2,
       "version_minor": 0
      },
      "text/plain": [
       "Batches:   0%|          | 0/13 [00:00<?, ?it/s]"
      ]
     },
     "metadata": {},
     "output_type": "display_data"
    },
    {
     "data": {
      "application/vnd.jupyter.widget-view+json": {
       "model_id": "573a328ce6304a69962e0ff86cb4908a",
       "version_major": 2,
       "version_minor": 0
      },
      "text/plain": [
       "Batches:   0%|          | 0/13 [00:00<?, ?it/s]"
      ]
     },
     "metadata": {},
     "output_type": "display_data"
    },
    {
     "data": {
      "application/vnd.jupyter.widget-view+json": {
       "model_id": "c225302e57d94f9eae57d45da730adb4",
       "version_major": 2,
       "version_minor": 0
      },
      "text/plain": [
       "Batches:   0%|          | 0/2076 [00:00<?, ?it/s]"
      ]
     },
     "metadata": {},
     "output_type": "display_data"
    }
   ],
   "source": [
    "train_df[\"prompt_and_answer\"] = (\n",
    "    train_df[\"prompt\"]\n",
    "    + \" \" + train_df[\"A\"]\n",
    "    + \" \" + train_df[\"B\"]\n",
    "    + \" \" + train_df[\"C\"]\n",
    "    + \" \" + train_df[\"D\"]\n",
    "    + \" \" + train_df[\"E\"]\n",
    ")\n",
    "\n",
    "\n",
    "choice_embeddings = []\n",
    "\n",
    "\n",
    "with torch.no_grad():\n",
    "    question_embeddings = model.encode(\n",
    "        train_df[\"prompt_and_answer\"].values, \n",
    "        batch_size=batch_size, \n",
    "        device=0, \n",
    "        show_progress_bar=True, \n",
    "        convert_to_tensor=True, \n",
    "        normalize_embeddings=True,\n",
    "    ).half()\n",
    "    question_embeddings = question_embeddings.detach().cpu().numpy()\n",
    "    \n",
    "    for choice in [\"A\", \"B\", \"C\", \"D\", \"E\"]:\n",
    "        embeddings = model.encode(\n",
    "            train_df[choice].values, \n",
    "            batch_size=batch_size, \n",
    "            device=0, \n",
    "            show_progress_bar=True, \n",
    "            convert_to_tensor=True, \n",
    "            normalize_embeddings=True,\n",
    "        ).half()\n",
    "        choice_embeddings.append(embeddings.detach().cpu().numpy())\n",
    "    \n",
    "    sentence_embeddings = model.encode(\n",
    "        sentences_df[\"text\"].values, \n",
    "        batch_size=batch_size,\n",
    "        device=0, \n",
    "        show_progress_bar=True, \n",
    "        convert_to_tensor=True, \n",
    "        normalize_embeddings=True,\n",
    "    ).half()\n",
    "    sentence_embeddings = sentence_embeddings.detach().cpu().numpy()"
   ]
  },
  {
   "cell_type": "code",
   "execution_count": null,
   "id": "ec890f30",
   "metadata": {},
   "outputs": [],
   "source": []
  },
  {
   "cell_type": "code",
   "execution_count": 45,
   "id": "1bd69321",
   "metadata": {},
   "outputs": [
    {
     "name": "stdout",
     "output_type": "stream",
     "text": [
      "sentence_index.ntotal = 33207\n"
     ]
    }
   ],
   "source": [
    "sentence_index = faiss.IndexFlatL2(sentence_embeddings.shape[1])\n",
    "sentence_index.add(sentence_embeddings)\n",
    "print(f\"{sentence_index.ntotal = }\")"
   ]
  },
  {
   "cell_type": "code",
   "execution_count": 46,
   "id": "142ac85c",
   "metadata": {},
   "outputs": [
    {
     "data": {
      "text/html": [
       "<div>\n",
       "<style scoped>\n",
       "    .dataframe tbody tr th:only-of-type {\n",
       "        vertical-align: middle;\n",
       "    }\n",
       "\n",
       "    .dataframe tbody tr th {\n",
       "        vertical-align: top;\n",
       "    }\n",
       "\n",
       "    .dataframe thead th {\n",
       "        text-align: right;\n",
       "    }\n",
       "</style>\n",
       "<table border=\"1\" class=\"dataframe\">\n",
       "  <thead>\n",
       "    <tr style=\"text-align: right;\">\n",
       "      <th></th>\n",
       "      <th>prompt</th>\n",
       "      <th>A</th>\n",
       "      <th>B</th>\n",
       "      <th>C</th>\n",
       "      <th>D</th>\n",
       "      <th>E</th>\n",
       "      <th>answer</th>\n",
       "      <th>prompt_and_answer</th>\n",
       "      <th>context_0</th>\n",
       "      <th>context_1</th>\n",
       "      <th>context_2</th>\n",
       "      <th>total_wc</th>\n",
       "      <th>context_A</th>\n",
       "      <th>context_B</th>\n",
       "      <th>context_C</th>\n",
       "      <th>context_D</th>\n",
       "      <th>context_E</th>\n",
       "    </tr>\n",
       "    <tr>\n",
       "      <th>id</th>\n",
       "      <th></th>\n",
       "      <th></th>\n",
       "      <th></th>\n",
       "      <th></th>\n",
       "      <th></th>\n",
       "      <th></th>\n",
       "      <th></th>\n",
       "      <th></th>\n",
       "      <th></th>\n",
       "      <th></th>\n",
       "      <th></th>\n",
       "      <th></th>\n",
       "      <th></th>\n",
       "      <th></th>\n",
       "      <th></th>\n",
       "      <th></th>\n",
       "      <th></th>\n",
       "    </tr>\n",
       "  </thead>\n",
       "  <tbody>\n",
       "    <tr>\n",
       "      <th>0</th>\n",
       "      <td>Which of the following statements accurately d...</td>\n",
       "      <td>MOND is a theory that reduces the observed mis...</td>\n",
       "      <td>MOND is a theory that increases the discrepanc...</td>\n",
       "      <td>MOND is a theory that explains the missing bar...</td>\n",
       "      <td>MOND is a theory that reduces the discrepancy ...</td>\n",
       "      <td>MOND is a theory that eliminates the observed ...</td>\n",
       "      <td>D</td>\n",
       "      <td>Which of the following statements accurately d...</td>\n",
       "      <td>MOND reduces the discrepancy between the veloc...</td>\n",
       "      <td>Modified Newtonian dynamics (MOND) is a hypoth...</td>\n",
       "      <td>MOND departs from Newton's laws at extremely s...</td>\n",
       "      <td>328</td>\n",
       "      <td>MOND departs from Newton's laws at extremely s...</td>\n",
       "      <td>MOND reduces the discrepancy between the veloc...</td>\n",
       "      <td>MOND departs from Newton's laws at extremely s...</td>\n",
       "      <td>MOND reduces the discrepancy between the veloc...</td>\n",
       "      <td>MOND departs from Newton's laws at extremely s...</td>\n",
       "    </tr>\n",
       "    <tr>\n",
       "      <th>1</th>\n",
       "      <td>Which of the following is an accurate definiti...</td>\n",
       "      <td>Dynamic scaling refers to the evolution of sel...</td>\n",
       "      <td>Dynamic scaling refers to the non-evolution of...</td>\n",
       "      <td>Dynamic scaling refers to the evolution of sel...</td>\n",
       "      <td>Dynamic scaling refers to the non-evolution of...</td>\n",
       "      <td>Dynamic scaling refers to the evolution of sel...</td>\n",
       "      <td>A</td>\n",
       "      <td>Which of the following is an accurate definiti...</td>\n",
       "      <td>Many other seemingly disparate systems which a...</td>\n",
       "      <td>Dynamic scaling (sometimes known as Family-Vic...</td>\n",
       "      <td>The litmus test of such self-similarity is pro...</td>\n",
       "      <td>298</td>\n",
       "      <td>Many of these systems evolve in a self-similar...</td>\n",
       "      <td>Many of these systems evolve in a self-similar...</td>\n",
       "      <td>Many other seemingly disparate systems which a...</td>\n",
       "      <td>Many other seemingly disparate systems which a...</td>\n",
       "      <td>Many of these systems evolve in a self-similar...</td>\n",
       "    </tr>\n",
       "    <tr>\n",
       "      <th>2</th>\n",
       "      <td>Which of the following statements accurately d...</td>\n",
       "      <td>The triskeles symbol was reconstructed as a fe...</td>\n",
       "      <td>The triskeles symbol is a representation of th...</td>\n",
       "      <td>The triskeles symbol is a representation of a ...</td>\n",
       "      <td>The triskeles symbol represents three interloc...</td>\n",
       "      <td>The triskeles symbol is a representation of th...</td>\n",
       "      <td>A</td>\n",
       "      <td>Which of the following statements accurately d...</td>\n",
       "      <td>The actual triskeles symbol of three human leg...</td>\n",
       "      <td>A triskelion or triskeles is an ancient motif ...</td>\n",
       "      <td>While the Greek adjective τρισκελής 'three-leg...</td>\n",
       "      <td>380</td>\n",
       "      <td>An early flag of Sicily, proposed in 1848, inc...</td>\n",
       "      <td>An early flag of Sicily, proposed in 1848, inc...</td>\n",
       "      <td>An early flag of Sicily, proposed in 1848, inc...</td>\n",
       "      <td>An early flag of Sicily, proposed in 1848, inc...</td>\n",
       "      <td>An early flag of Sicily, proposed in 1848, inc...</td>\n",
       "    </tr>\n",
       "    <tr>\n",
       "      <th>3</th>\n",
       "      <td>What is the significance of regularization in ...</td>\n",
       "      <td>Regularizing the mass-energy of an electron wi...</td>\n",
       "      <td>Regularizing the mass-energy of an electron wi...</td>\n",
       "      <td>Regularizing the mass-energy of an electron wi...</td>\n",
       "      <td>Regularizing the mass-energy of an electron wi...</td>\n",
       "      <td>Regularizing the mass-energy of an electron wi...</td>\n",
       "      <td>C</td>\n",
       "      <td>What is the significance of regularization in ...</td>\n",
       "      <td>Regularization is the first step towards obtai...</td>\n",
       "      <td>Renormalization is distinct from regularizatio...</td>\n",
       "      <td>Similar regularization arguments work in other...</td>\n",
       "      <td>271</td>\n",
       "      <td>For instance, in this case, assuming a finite ...</td>\n",
       "      <td>Renormalization is distinct from regularizatio...</td>\n",
       "      <td>For instance, in this case, assuming a finite ...</td>\n",
       "      <td>For instance, in this case, assuming a finite ...</td>\n",
       "      <td>For instance, in this case, assuming a finite ...</td>\n",
       "    </tr>\n",
       "    <tr>\n",
       "      <th>4</th>\n",
       "      <td>Which of the following statements accurately d...</td>\n",
       "      <td>The angular spacing of features in the diffrac...</td>\n",
       "      <td>The angular spacing of features in the diffrac...</td>\n",
       "      <td>The angular spacing of features in the diffrac...</td>\n",
       "      <td>The angular spacing of features in the diffrac...</td>\n",
       "      <td>The angular spacing of features in the diffrac...</td>\n",
       "      <td>D</td>\n",
       "      <td>Which of the following statements accurately d...</td>\n",
       "      <td>Several qualitative observations can be made o...</td>\n",
       "      <td>Several qualitative observations can be made o...</td>\n",
       "      <td>The simplest descriptions of diffraction are t...</td>\n",
       "      <td>290</td>\n",
       "      <td>In other words: the smaller the diffracting ob...</td>\n",
       "      <td>In other words: the smaller the diffracting ob...</td>\n",
       "      <td>Several qualitative observations can be made o...</td>\n",
       "      <td>In other words: The smaller the diffracting ob...</td>\n",
       "      <td>In other words: the smaller the diffracting ob...</td>\n",
       "    </tr>\n",
       "  </tbody>\n",
       "</table>\n",
       "</div>"
      ],
      "text/plain": [
       "                                               prompt  \\\n",
       "id                                                      \n",
       "0   Which of the following statements accurately d...   \n",
       "1   Which of the following is an accurate definiti...   \n",
       "2   Which of the following statements accurately d...   \n",
       "3   What is the significance of regularization in ...   \n",
       "4   Which of the following statements accurately d...   \n",
       "\n",
       "                                                    A  \\\n",
       "id                                                      \n",
       "0   MOND is a theory that reduces the observed mis...   \n",
       "1   Dynamic scaling refers to the evolution of sel...   \n",
       "2   The triskeles symbol was reconstructed as a fe...   \n",
       "3   Regularizing the mass-energy of an electron wi...   \n",
       "4   The angular spacing of features in the diffrac...   \n",
       "\n",
       "                                                    B  \\\n",
       "id                                                      \n",
       "0   MOND is a theory that increases the discrepanc...   \n",
       "1   Dynamic scaling refers to the non-evolution of...   \n",
       "2   The triskeles symbol is a representation of th...   \n",
       "3   Regularizing the mass-energy of an electron wi...   \n",
       "4   The angular spacing of features in the diffrac...   \n",
       "\n",
       "                                                    C  \\\n",
       "id                                                      \n",
       "0   MOND is a theory that explains the missing bar...   \n",
       "1   Dynamic scaling refers to the evolution of sel...   \n",
       "2   The triskeles symbol is a representation of a ...   \n",
       "3   Regularizing the mass-energy of an electron wi...   \n",
       "4   The angular spacing of features in the diffrac...   \n",
       "\n",
       "                                                    D  \\\n",
       "id                                                      \n",
       "0   MOND is a theory that reduces the discrepancy ...   \n",
       "1   Dynamic scaling refers to the non-evolution of...   \n",
       "2   The triskeles symbol represents three interloc...   \n",
       "3   Regularizing the mass-energy of an electron wi...   \n",
       "4   The angular spacing of features in the diffrac...   \n",
       "\n",
       "                                                    E answer  \\\n",
       "id                                                             \n",
       "0   MOND is a theory that eliminates the observed ...      D   \n",
       "1   Dynamic scaling refers to the evolution of sel...      A   \n",
       "2   The triskeles symbol is a representation of th...      A   \n",
       "3   Regularizing the mass-energy of an electron wi...      C   \n",
       "4   The angular spacing of features in the diffrac...      D   \n",
       "\n",
       "                                    prompt_and_answer  \\\n",
       "id                                                      \n",
       "0   Which of the following statements accurately d...   \n",
       "1   Which of the following is an accurate definiti...   \n",
       "2   Which of the following statements accurately d...   \n",
       "3   What is the significance of regularization in ...   \n",
       "4   Which of the following statements accurately d...   \n",
       "\n",
       "                                            context_0  \\\n",
       "id                                                      \n",
       "0   MOND reduces the discrepancy between the veloc...   \n",
       "1   Many other seemingly disparate systems which a...   \n",
       "2   The actual triskeles symbol of three human leg...   \n",
       "3   Regularization is the first step towards obtai...   \n",
       "4   Several qualitative observations can be made o...   \n",
       "\n",
       "                                            context_1  \\\n",
       "id                                                      \n",
       "0   Modified Newtonian dynamics (MOND) is a hypoth...   \n",
       "1   Dynamic scaling (sometimes known as Family-Vic...   \n",
       "2   A triskelion or triskeles is an ancient motif ...   \n",
       "3   Renormalization is distinct from regularizatio...   \n",
       "4   Several qualitative observations can be made o...   \n",
       "\n",
       "                                            context_2  total_wc  \\\n",
       "id                                                                \n",
       "0   MOND departs from Newton's laws at extremely s...       328   \n",
       "1   The litmus test of such self-similarity is pro...       298   \n",
       "2   While the Greek adjective τρισκελής 'three-leg...       380   \n",
       "3   Similar regularization arguments work in other...       271   \n",
       "4   The simplest descriptions of diffraction are t...       290   \n",
       "\n",
       "                                            context_A  \\\n",
       "id                                                      \n",
       "0   MOND departs from Newton's laws at extremely s...   \n",
       "1   Many of these systems evolve in a self-similar...   \n",
       "2   An early flag of Sicily, proposed in 1848, inc...   \n",
       "3   For instance, in this case, assuming a finite ...   \n",
       "4   In other words: the smaller the diffracting ob...   \n",
       "\n",
       "                                            context_B  \\\n",
       "id                                                      \n",
       "0   MOND reduces the discrepancy between the veloc...   \n",
       "1   Many of these systems evolve in a self-similar...   \n",
       "2   An early flag of Sicily, proposed in 1848, inc...   \n",
       "3   Renormalization is distinct from regularizatio...   \n",
       "4   In other words: the smaller the diffracting ob...   \n",
       "\n",
       "                                            context_C  \\\n",
       "id                                                      \n",
       "0   MOND departs from Newton's laws at extremely s...   \n",
       "1   Many other seemingly disparate systems which a...   \n",
       "2   An early flag of Sicily, proposed in 1848, inc...   \n",
       "3   For instance, in this case, assuming a finite ...   \n",
       "4   Several qualitative observations can be made o...   \n",
       "\n",
       "                                            context_D  \\\n",
       "id                                                      \n",
       "0   MOND reduces the discrepancy between the veloc...   \n",
       "1   Many other seemingly disparate systems which a...   \n",
       "2   An early flag of Sicily, proposed in 1848, inc...   \n",
       "3   For instance, in this case, assuming a finite ...   \n",
       "4   In other words: The smaller the diffracting ob...   \n",
       "\n",
       "                                            context_E  \n",
       "id                                                     \n",
       "0   MOND departs from Newton's laws at extremely s...  \n",
       "1   Many of these systems evolve in a self-similar...  \n",
       "2   An early flag of Sicily, proposed in 1848, inc...  \n",
       "3   For instance, in this case, assuming a finite ...  \n",
       "4   In other words: the smaller the diffracting ob...  "
      ]
     },
     "execution_count": 46,
     "metadata": {},
     "output_type": "execute_result"
    }
   ],
   "source": [
    "k = 3\n",
    "distance, indices = sentence_index.search(question_embeddings, k)\n",
    "\n",
    "for i in range(k):\n",
    "    train_df[f\"context_{i}_idx\"] = indices[:, i]\n",
    "    \n",
    "for i in range(k):\n",
    "    train_df[f\"context_{i}\"] = train_df.join(\n",
    "        sentences_df[\"text\"],\n",
    "        on=f\"context_{i}_idx\",\n",
    "        how=\"left\",\n",
    "    )[\"text\"]\n",
    "\n",
    "\n",
    "choice_k = 1\n",
    "for emb, choice in zip(choice_embeddings, [\"A\", \"B\", \"C\", \"D\", \"E\"]):\n",
    "    choice_distance, choice_indices = sentence_index.search(emb, choice_k)\n",
    "    for i in range(choice_k):\n",
    "        train_df[f\"context_{choice}_idx\"] = choice_indices[:, i]\n",
    "        train_df[f\"context_{choice}\"] = train_df.join(\n",
    "            sentences_df[\"text\"],\n",
    "            on=f\"context_{choice}_idx\",\n",
    "            how=\"left\",\n",
    "        )[\"text\"]\n",
    "\n",
    "    \n",
    "train_df = train_df.drop([f\"context_{i}_idx\" for i in range(k)], axis=1)\n",
    "train_df = train_df.drop([f\"context_{i}_idx\" for i in [\"A\", \"B\", \"C\", \"D\", \"E\"]], axis=1)\n",
    "train_df.head()"
   ]
  },
  {
   "cell_type": "code",
   "execution_count": 47,
   "id": "5683556d",
   "metadata": {},
   "outputs": [],
   "source": [
    "def count_words(text):\n",
    "    return sum([1 for i in text.split() if len(i) > 0])\n",
    "\n",
    "\n",
    "train_df[\"total_wc\"] = (\n",
    "    train_df[\"prompt\"] \n",
    "    + \" \" + train_df[\"A\"]\n",
    "    + \" \" + train_df[\"B\"]\n",
    "    + \" \" + train_df[\"C\"]\n",
    "    + \" \" + train_df[\"D\"]\n",
    "    + \" \" + train_df[\"E\"]\n",
    "    + \" \" + train_df[\"context_0\"]\n",
    "    + \" \" + train_df[\"context_1\"]\n",
    "    + \" \" + train_df[\"context_2\"]\n",
    "    + \" \" + train_df[\"context_A\"]\n",
    "    + \" \" + train_df[\"context_B\"]\n",
    "    + \" \" + train_df[\"context_C\"]\n",
    "    + \" \" + train_df[\"context_D\"]\n",
    "    + \" \" + train_df[\"context_E\"]\n",
    ").apply(count_words)\n"
   ]
  },
  {
   "cell_type": "code",
   "execution_count": 48,
   "id": "9c5811f1",
   "metadata": {},
   "outputs": [
    {
     "data": {
      "image/png": "[encoded data removed]",
      "text/plain": [
       "<Figure size 640x480 with 1 Axes>"
      ]
     },
     "metadata": {},
     "output_type": "display_data"
    }
   ],
   "source": [
    "import matplotlib.pyplot as plt\n",
    "\n",
    "\n",
    "_ = plt.hist(train_df[\"total_wc\"], bins=50)"
   ]
  },
  {
   "cell_type": "code",
   "execution_count": 50,
   "id": "087ffcb9",
   "metadata": {},
   "outputs": [
    {
     "name": "stdout",
     "output_type": "stream",
     "text": [
      "question: Which of the following is an accurate definition of dynamic scaling in self-similar systems?\n",
      "\n",
      "context_0: Many other seemingly disparate systems which are found to exhibit dynamic scaling.\n",
      "\n",
      "context_1: Dynamic scaling (sometimes known as Family-Vicsek scaling) is a litmus test that shows whether an evolving system exhibits self-similarity.\n",
      "\n",
      "context_2: The litmus test of such self-similarity is provided by the dynamic scaling.\n",
      "\n",
      "A: Dynamic scaling refers to the evolution of self-similar systems, where data obtained from snapshots at fixed times exhibits similarity to the respective data taken from snapshots of any earlier or later time. This similarity is tested by a certain time-dependent stochastic variable x.\n",
      "\n",
      "context_A: Many of these systems evolve in a self-similar fashion in the sense that data obtained from the snapshot at any fixed time is similar to the respective data taken from the snapshot of any earlier or later time.\n",
      "\n",
      "B: Dynamic scaling refers to the non-evolution of self-similar systems, where data obtained from snapshots at fixed times is similar to the respective data taken from snapshots of any earlier or later time. This similarity is tested by a certain time-dependent stochastic variable x.\n",
      "\n",
      "context_B: Many of these systems evolve in a self-similar fashion in the sense that data obtained from the snapshot at any fixed time is similar to the respective data taken from the snapshot of any earlier or later time.\n",
      "\n",
      "C: Dynamic scaling refers to the evolution of self-similar systems, where data obtained from snapshots at fixed times is dissimilar to the respective data taken from snapshots of any earlier or later time. This dissimilarity is tested by a certain time-independent stochastic variable y.\n",
      "\n",
      "context_C: Many other seemingly disparate systems which are found to exhibit dynamic scaling.\n",
      "\n",
      "D: Dynamic scaling refers to the non-evolution of self-similar systems, where data obtained from snapshots at fixed times is dissimilar to the respective data taken from snapshots of any earlier or later time. This dissimilarity is tested by a certain time-independent stochastic variable y.\n",
      "\n",
      "context_D: Many other seemingly disparate systems which are found to exhibit dynamic scaling.\n",
      "\n",
      "E: Dynamic scaling refers to the evolution of self-similar systems, where data obtained from snapshots at fixed times is independent of the respective data taken from snapshots of any earlier or later time. This independence is tested by a certain time-dependent stochastic variable z.\n",
      "\n",
      "context_E: Many of these systems evolve in a self-similar fashion in the sense that data obtained from the snapshot at any fixed time is similar to the respective data taken from the snapshot of any earlier or later time.\n",
      "\n",
      "answer: A\n",
      "\n"
     ]
    }
   ],
   "source": [
    "row = train_df.iloc[1]\n",
    "print(f\"question: {row['prompt']}\\n\")\n",
    "print(f\"context_0: {row['context_0']}\\n\")\n",
    "print(f\"context_1: {row['context_1']}\\n\")\n",
    "print(f\"context_2: {row['context_2']}\\n\")\n",
    "print(f\"A: {row['A']}\\n\")\n",
    "print(f\"context_A: {row['context_A']}\\n\")\n",
    "print(f\"B: {row['B']}\\n\")\n",
    "print(f\"context_B: {row['context_B']}\\n\")\n",
    "print(f\"C: {row['C']}\\n\")\n",
    "print(f\"context_C: {row['context_C']}\\n\")\n",
    "print(f\"D: {row['D']}\\n\")\n",
    "print(f\"context_D: {row['context_D']}\\n\")\n",
    "print(f\"E: {row['E']}\\n\")\n",
    "print(f\"context_E: {row['context_E']}\\n\")\n",
    "print(f\"answer: {row['answer']}\\n\")"
   ]
  }
 ],
 "metadata": {
  "kernelspec": {
   "display_name": "Python 3 (ipykernel)",
   "language": "python",
   "name": "python3"
  },
  "language_info": {
   "codemirror_mode": {
    "name": "ipython",
    "version": 3
   },
   "file_extension": ".py",
   "mimetype": "text/x-python",
   "name": "python",
   "nbconvert_exporter": "python",
   "pygments_lexer": "ipython3",
   "version": "3.10.9"
  }
 },
 "nbformat": 4,
 "nbformat_minor": 5
}
