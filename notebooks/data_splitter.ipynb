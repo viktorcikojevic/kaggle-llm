{
 "cells": [
  {
   "cell_type": "code",
   "execution_count": null,
   "id": "3c751e8a",
   "metadata": {},
   "outputs": [],
   "source": [
    "from pathlib import Path\n",
    "import pandas as pd"
   ]
  },
  {
   "cell_type": "code",
   "execution_count": null,
   "id": "4b858e46",
   "metadata": {},
   "outputs": [],
   "source": [
    "csv = pd.read_csv(\"/home/clay/research/kaggle/kaggle_llm/data/data_dumps/more_questions/more_questions_raw_questions_2.csv\", index_col=0)\n",
    "csv.head()"
   ]
  },
  {
   "cell_type": "code",
   "execution_count": null,
   "id": "69bf5b6c",
   "metadata": {},
   "outputs": [],
   "source": [
    "n = 1000\n",
    "train_csv = csv.head(-n)\n",
    "test_csv = csv.tail(n)"
   ]
  },
  {
   "cell_type": "code",
   "execution_count": null,
   "id": "19a59b4c",
   "metadata": {},
   "outputs": [],
   "source": [
    "train_csv.tail()"
   ]
  },
  {
   "cell_type": "code",
   "execution_count": null,
   "id": "ce34e995",
   "metadata": {},
   "outputs": [],
   "source": [
    "test_csv.head()"
   ]
  },
  {
   "cell_type": "code",
   "execution_count": null,
   "id": "dd4788dc",
   "metadata": {},
   "outputs": [],
   "source": [
    "test_csv.index = list(range(len(test_csv)))\n",
    "test_csv.index.name = \"id\"\n",
    "test_csv.head()"
   ]
  },
  {
   "cell_type": "code",
   "execution_count": null,
   "id": "fbdb880e",
   "metadata": {},
   "outputs": [],
   "source": [
    "out_dir = Path(\"/home/clay/research/kaggle/kaggle_llm/data/kaggle-llm-science-exam-splitted/\")\n",
    "out_dir.mkdir(exist_ok=True, parents=True)\n",
    "\n",
    "train_csv.to_csv(out_dir / \"train.csv\")\n",
    "test_csv.to_csv(out_dir / \"test.csv\")"
   ]
  },
  {
   "cell_type": "code",
   "execution_count": null,
   "id": "c2394c02",
   "metadata": {},
   "outputs": [],
   "source": []
  }
 ],
 "metadata": {
  "kernelspec": {
   "display_name": "Python 3 (ipykernel)",
   "language": "python",
   "name": "python3"
  },
  "language_info": {
   "codemirror_mode": {
    "name": "ipython",
    "version": 3
   },
   "file_extension": ".py",
   "mimetype": "text/x-python",
   "name": "python",
   "nbconvert_exporter": "python",
   "pygments_lexer": "ipython3",
   "version": "3.10.9"
  }
 },
 "nbformat": 4,
 "nbformat_minor": 5
}
