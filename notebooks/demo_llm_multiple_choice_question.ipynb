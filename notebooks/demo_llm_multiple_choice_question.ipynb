{
 "cells": [
  {
   "cell_type": "code",
   "execution_count": 2,
   "id": "a7583069",
   "metadata": {},
   "outputs": [],
   "source": [
    "import pandas as pd\n",
    "import openai\n",
    "import json\n",
    "import os\n",
    "\n",
    "openai.api_key = os.environ[\"OPENAI_API_KEY\"]\n",
    "train_df = pd.read_csv(\"/home/clay/research/kaggle/kaggle_llm/data/kaggle-llm-science-exam/train.csv\", index_col=0)"
   ]
  },
  {
   "cell_type": "code",
   "execution_count": 3,
   "id": "abf710e9",
   "metadata": {},
   "outputs": [],
   "source": []
  },
  {
   "cell_type": "code",
   "execution_count": 4,
   "id": "f9a95194",
   "metadata": {},
   "outputs": [
    {
     "name": "stderr",
     "output_type": "stream",
     "text": [
      "/tmp/ipykernel_206746/2629185306.py:59: FutureWarning: The frame.append method is deprecated and will be removed from pandas in a future version. Use pandas.concat instead.\n",
      "  submission_df = submission_df.append({\"id\": index, \"prediction\": prediction}, ignore_index=True)\n",
      "/tmp/ipykernel_206746/2629185306.py:59: FutureWarning: The frame.append method is deprecated and will be removed from pandas in a future version. Use pandas.concat instead.\n",
      "  submission_df = submission_df.append({\"id\": index, \"prediction\": prediction}, ignore_index=True)\n",
      "/tmp/ipykernel_206746/2629185306.py:59: FutureWarning: The frame.append method is deprecated and will be removed from pandas in a future version. Use pandas.concat instead.\n",
      "  submission_df = submission_df.append({\"id\": index, \"prediction\": prediction}, ignore_index=True)\n",
      "/tmp/ipykernel_206746/2629185306.py:59: FutureWarning: The frame.append method is deprecated and will be removed from pandas in a future version. Use pandas.concat instead.\n",
      "  submission_df = submission_df.append({\"id\": index, \"prediction\": prediction}, ignore_index=True)\n",
      "/tmp/ipykernel_206746/2629185306.py:59: FutureWarning: The frame.append method is deprecated and will be removed from pandas in a future version. Use pandas.concat instead.\n",
      "  submission_df = submission_df.append({\"id\": index, \"prediction\": prediction}, ignore_index=True)\n"
     ]
    }
   ],
   "source": [
    "def create_prompt(row):\n",
    "    return f'''\n",
    "{row.prompt}\n",
    "A) {row.A}\n",
    "B) {row.B}\n",
    "C) {row.C}\n",
    "D) {row.D}\n",
    "E) {row.E}\n",
    "Select the 3 best answers for that question then rank them from best to worst\n",
    "'''\n",
    "\n",
    "\n",
    "def Answer_question_LLM(prompt):\n",
    "    messages = [{\n",
    "        \"role\": \"system\", \n",
    "        \"content\": f'You are an AI designed to help me answer questions'\n",
    "    }]\n",
    "    message=f\"{prompt} \"\n",
    "    messages.append({\"role\": \"user\", \"content\": message})\n",
    "    response = openai.ChatCompletion.create(\n",
    "#             model=\"gpt-4-0613\",\n",
    "        model=\"gpt-3.5-turbo-0613\",\n",
    "        messages=messages,\n",
    "        functions=[\n",
    "            {\n",
    "                \"name\": \"Answer_question\",\n",
    "                \"description\": \"Answer a given multiple choice question\",\n",
    "                \"parameters\": {\n",
    "                    \"type\": \"object\",\n",
    "                    \"properties\": {\n",
    "                        \"Answer\": {\n",
    "                            \"type\": \"string\",\n",
    "                            \"description\": \"The 3 best answers for that question then rank them from best to worst. Example : 'A B C'\",\n",
    "                        },\n",
    "                    },\n",
    "                    \"required\": [\"Answer\"],\n",
    "                },\n",
    "            }\n",
    "        ],\n",
    "        function_call={\"name\": \"Answer_question\"},\n",
    "    )\n",
    "\n",
    "    assistant_msg = response['choices'][0]['message']\n",
    "    response_options = assistant_msg.to_dict()['function_call']['arguments']\n",
    "    options = json.loads(response_options)\n",
    "    return options[\"Answer\"]\n",
    "\n",
    "    \n",
    "submission_df = pd.DataFrame(columns=[\"id\", \"prediction\"])\n",
    "for index, row in train_df.head(1).iterrows():\n",
    "    prompt = create_prompt(row)\n",
    "    prediction = Answer_question_LLM(prompt)\n",
    "    submission_df = submission_df.append({\"id\": index, \"prediction\": prediction}, ignore_index=True)"
   ]
  },
  {
   "cell_type": "code",
   "execution_count": 5,
   "id": "f96d18a2",
   "metadata": {},
   "outputs": [
    {
     "data": {
      "text/html": [
       "<div>\n",
       "<style scoped>\n",
       "    .dataframe tbody tr th:only-of-type {\n",
       "        vertical-align: middle;\n",
       "    }\n",
       "\n",
       "    .dataframe tbody tr th {\n",
       "        vertical-align: top;\n",
       "    }\n",
       "\n",
       "    .dataframe thead th {\n",
       "        text-align: right;\n",
       "    }\n",
       "</style>\n",
       "<table border=\"1\" class=\"dataframe\">\n",
       "  <thead>\n",
       "    <tr style=\"text-align: right;\">\n",
       "      <th></th>\n",
       "      <th>id</th>\n",
       "      <th>prediction</th>\n",
       "    </tr>\n",
       "  </thead>\n",
       "  <tbody>\n",
       "    <tr>\n",
       "      <th>0</th>\n",
       "      <td>0</td>\n",
       "      <td>A D E</td>\n",
       "    </tr>\n",
       "    <tr>\n",
       "      <th>1</th>\n",
       "      <td>1</td>\n",
       "      <td>A B C</td>\n",
       "    </tr>\n",
       "    <tr>\n",
       "      <th>2</th>\n",
       "      <td>2</td>\n",
       "      <td>A B C</td>\n",
       "    </tr>\n",
       "    <tr>\n",
       "      <th>3</th>\n",
       "      <td>3</td>\n",
       "      <td>A C D</td>\n",
       "    </tr>\n",
       "    <tr>\n",
       "      <th>4</th>\n",
       "      <td>4</td>\n",
       "      <td>B A E</td>\n",
       "    </tr>\n",
       "  </tbody>\n",
       "</table>\n",
       "</div>"
      ],
      "text/plain": [
       "  id prediction\n",
       "0  0      A D E\n",
       "1  1      A B C\n",
       "2  2      A B C\n",
       "3  3      A C D\n",
       "4  4      B A E"
      ]
     },
     "execution_count": 5,
     "metadata": {},
     "output_type": "execute_result"
    }
   ],
   "source": []
  },
  {
   "cell_type": "code",
   "execution_count": 6,
   "id": "cf7a4376",
   "metadata": {},
   "outputs": [
    {
     "ename": "NameError",
     "evalue": "name 'response' is not defined",
     "output_type": "error",
     "traceback": [
      "\u001b[0;31m---------------------------------------------------------------------------\u001b[0m",
      "\u001b[0;31mNameError\u001b[0m                                 Traceback (most recent call last)",
      "Cell \u001b[0;32mIn[6], line 1\u001b[0m\n\u001b[0;32m----> 1\u001b[0m \u001b[43mresponse\u001b[49m\n",
      "\u001b[0;31mNameError\u001b[0m: name 'response' is not defined"
     ]
    }
   ],
   "source": [
    "response"
   ]
  },
  {
   "cell_type": "code",
   "execution_count": null,
   "id": "6213cd5a",
   "metadata": {},
   "outputs": [],
   "source": [
    "# Save the submission dataframe to a csv file\n",
    "submission_df.to_csv('GPT-4-train.csv', index=False)"
   ]
  }
 ],
 "metadata": {
  "kernelspec": {
   "display_name": "Python 3 (ipykernel)",
   "language": "python",
   "name": "python3"
  },
  "language_info": {
   "codemirror_mode": {
    "name": "ipython",
    "version": 3
   },
   "file_extension": ".py",
   "mimetype": "text/x-python",
   "name": "python",
   "nbconvert_exporter": "python",
   "pygments_lexer": "ipython3",
   "version": "3.10.9"
  }
 },
 "nbformat": 4,
 "nbformat_minor": 5
}
