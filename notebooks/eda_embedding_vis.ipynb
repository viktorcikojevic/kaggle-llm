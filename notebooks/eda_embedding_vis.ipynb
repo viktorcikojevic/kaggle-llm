{
 "cells": [
  {
   "cell_type": "code",
   "execution_count": 1,
   "id": "4e4f3658",
   "metadata": {},
   "outputs": [],
   "source": [
    "import sys\n",
    "sys.path.append(\"../src/\")\n",
    "\n",
    "\n",
    "from kaggle_llm.core import (\n",
    "    ROOT_PATH,\n",
    "    count_words,\n",
    ")\n",
    "import pandas as pd\n",
    "import numpy as np\n",
    "from tqdm import tqdm\n",
    "from typing import *\n",
    "from sentence_transformers import SentenceTransformer\n",
    "from pathlib import Path\n",
    "import blingfire as bf\n",
    "import argparse\n",
    "import torch\n",
    "import faiss\n",
    "import json\n",
    "import yaml\n",
    "\n",
    "\n",
    "too_long_prompt_wc = 250\n",
    "context_cutoff_len = 150\n",
    "\n",
    "\n",
    "def split_text_into_chunks(text: str, chunk_size: int) -> List[str]:\n",
    "    tokens = [i for i in text.split() if len(i) > 0]\n",
    "    start = 0\n",
    "    end = chunk_size\n",
    "    chunks = []\n",
    "    while end < len(tokens):\n",
    "        chunks.append(\" \".join(tokens[start: end]))\n",
    "        start += chunk_size\n",
    "        end += chunk_size\n",
    "    return chunks\n",
    "\n",
    "\n",
    "@torch.no_grad()\n",
    "def get_sentence_embeddings(\n",
    "        wiki_df_path: Union[str, Path],\n",
    "        model: SentenceTransformer\n",
    "):\n",
    "    wiki_df = pd.read_csv(wiki_df_path, index_col=0)\n",
    "\n",
    "    wc_per_page = wiki_df.groupby(\"page\")[[\"word_count\"]].sum().sort_values(\"word_count\", ascending=False)\n",
    "    black_list = list(wc_per_page.loc[\n",
    "        (wc_per_page[\"word_count\"] > 10000)\n",
    "        | (wc_per_page.index.map(lambda x: \"list of equations\" in x.lower()))\n",
    "    ].index)\n",
    "    print(json.dumps(black_list, indent=4))\n",
    "\n",
    "    filtered_wiki_df = wiki_df.loc[~wiki_df[\"page\"].isin(black_list), :].copy()\n",
    "    print(len(wiki_df), len(filtered_wiki_df))\n",
    "\n",
    "    batch_size = 16\n",
    "    sentences_df = []\n",
    "\n",
    "    print(\"extracting sentences:\")\n",
    "    for _, row in tqdm(filtered_wiki_df.iterrows(), total=len(filtered_wiki_df)):\n",
    "        _, sentence_offsets = bf.text_to_sentences_and_offsets(row[\"text\"])\n",
    "        for start_idx, end_idx in sentence_offsets:\n",
    "            is_long_enough = (end_idx - start_idx) > 3\n",
    "            is_math = \"\\\\\" in row[\"text\"][start_idx: end_idx]  # leads to excessive tokens\n",
    "            if is_long_enough and (not is_math):\n",
    "                sentences_df.append({\n",
    "                    \"page\": row[\"page\"],\n",
    "                    \"i_sentence\": len(sentences_df),\n",
    "                    \"text\": row[\"text\"][start_idx: end_idx],\n",
    "                })\n",
    "\n",
    "    sentences_df = pd.DataFrame.from_records(sentences_df)\n",
    "    print(f\"extracted: {len(sentences_df)} sentences\")\n",
    "\n",
    "    print(f\"dropping too long sentences\")\n",
    "    pass_indices = sentences_df.loc[sentences_df[\"text\"].apply(count_words) < context_cutoff_len, \"text\"].index\n",
    "    print(f\"keeping {len(pass_indices) / len(sentences_df) * 100} % at cutoff {context_cutoff_len}\")\n",
    "    sentences_df = sentences_df.loc[pass_indices, :].reset_index().copy()\n",
    "\n",
    "    print(\"computing wiki embeddings:\")\n",
    "    sentence_embeddings = model.encode(\n",
    "        sentences_df[\"text\"].values,\n",
    "        batch_size=batch_size,\n",
    "        device=\"cuda\",\n",
    "        show_progress_bar=True,\n",
    "        convert_to_tensor=True,\n",
    "        normalize_embeddings=True,\n",
    "    ).half()\n",
    "    sentence_embeddings = sentence_embeddings.detach().cpu().numpy()\n",
    "\n",
    "    sentence_index = faiss.IndexFlatIP(sentence_embeddings.shape[1])\n",
    "    sentence_index.add(sentence_embeddings)\n",
    "    print(f\"{sentence_index.ntotal = }\")\n",
    "    return sentences_df, sentence_index, sentence_embeddings\n"
   ]
  },
  {
   "cell_type": "code",
   "execution_count": 2,
   "id": "98bcf9c4",
   "metadata": {},
   "outputs": [],
   "source": [
    "wiki_path = \"/home/clay/research/kaggle/kaggle_llm/data/physics_pages_list/physics_pages_formatted.csv\"\n",
    "sentence_model = \"/home/clay/research/kaggle/kaggle_llm/data/sentence_transformer_model\"\n",
    "model = SentenceTransformer(sentence_model, device=\"cuda\")\n",
    "model.max_seq_length = 384\n",
    "model = model.half()"
   ]
  },
  {
   "cell_type": "code",
   "execution_count": 3,
   "id": "b519b0c7",
   "metadata": {},
   "outputs": [
    {
     "name": "stdout",
     "output_type": "stream",
     "text": [
      "[\n",
      "    \"Galactocentric distance\",\n",
      "    \"List of equations in classical mechanics\",\n",
      "    \"List of equations in quantum mechanics\",\n",
      "    \"List of equations in wave theory\",\n",
      "    \"List of equations in fluid mechanics\",\n",
      "    \"List of equations in nuclear and particle physics\",\n",
      "    \"List of equations in gravitation\"\n",
      "]\n",
      "4096 4054\n",
      "extracting sentences:\n"
     ]
    },
    {
     "name": "stderr",
     "output_type": "stream",
     "text": [
      "100%|█████████████████████████████████████████████████████████████| 4054/4054 [00:01<00:00, 3072.55it/s]\n"
     ]
    },
    {
     "name": "stdout",
     "output_type": "stream",
     "text": [
      "extracted: 30079 sentences\n",
      "dropping too long sentences\n",
      "keeping 99.95345589946474 % at cutoff 150\n",
      "computing wiki embeddings:\n"
     ]
    },
    {
     "data": {
      "application/vnd.jupyter.widget-view+json": {
       "model_id": "0fb3ec7989114ddca08b9fdb35f5fb8f",
       "version_major": 2,
       "version_minor": 0
      },
      "text/plain": [
       "Batches:   0%|          | 0/1880 [00:00<?, ?it/s]"
      ]
     },
     "metadata": {},
     "output_type": "display_data"
    },
    {
     "name": "stdout",
     "output_type": "stream",
     "text": [
      "sentence_index.ntotal = 30065\n"
     ]
    }
   ],
   "source": [
    "s_df, s_idx, s_embs = get_sentence_embeddings(\n",
    "    wiki_path,\n",
    "    model,\n",
    ")"
   ]
  },
  {
   "cell_type": "code",
   "execution_count": 4,
   "id": "302b5a86",
   "metadata": {},
   "outputs": [
    {
     "data": {
      "text/plain": [
       "(30065, 384)"
      ]
     },
     "execution_count": 4,
     "metadata": {},
     "output_type": "execute_result"
    }
   ],
   "source": [
    "s_embs.shape"
   ]
  },
  {
   "cell_type": "code",
   "execution_count": 5,
   "id": "2b3dae29",
   "metadata": {},
   "outputs": [
    {
     "name": "stdout",
     "output_type": "stream",
     "text": [
      "Sampling a subset of 1280 / 30065 for training\n",
      "Clustering 1280 points in 384D to 5 clusters, redo 1 times, 200 iterations\n",
      "  Preprocessing in 0.01 s\n",
      "  Iteration 0 (0.00 s, search 0.00 s): objective=1983.2 imbalance=1.200 nsplit=0       \r",
      "  Iteration 1 (0.00 s, search 0.00 s): objective=1114.3 imbalance=1.064 nsplit=0       \r",
      "  Iteration 2 (0.00 s, search 0.00 s): objective=1106.01 imbalance=1.029 nsplit=0       \r",
      "  Iteration 3 (0.00 s, search 0.00 s): objective=1101.02 imbalance=1.020 nsplit=0       \r",
      "  Iteration 4 (0.00 s, search 0.00 s): objective=1097.43 imbalance=1.019 nsplit=0       \r",
      "  Iteration 5 (0.00 s, search 0.00 s): objective=1095.03 imbalance=1.015 nsplit=0       \r",
      "  Iteration 6 (0.00 s, search 0.00 s): objective=1093.49 imbalance=1.015 nsplit=0       \r",
      "  Iteration 7 (0.00 s, search 0.00 s): objective=1092.4 imbalance=1.011 nsplit=0       \r",
      "  Iteration 8 (0.01 s, search 0.00 s): objective=1091.65 imbalance=1.010 nsplit=0       \r",
      "  Iteration 9 (0.01 s, search 0.00 s): objective=1091.09 imbalance=1.009 nsplit=0       \r",
      "  Iteration 10 (0.01 s, search 0.00 s): objective=1090.59 imbalance=1.012 nsplit=0       \r",
      "  Iteration 11 (0.01 s, search 0.00 s): objective=1090.22 imbalance=1.013 nsplit=0       \r",
      "  Iteration 12 (0.01 s, search 0.00 s): objective=1089.96 imbalance=1.013 nsplit=0       \r",
      "  Iteration 13 (0.01 s, search 0.00 s): objective=1089.75 imbalance=1.011 nsplit=0       \r",
      "  Iteration 14 (0.01 s, search 0.00 s): objective=1089.62 imbalance=1.010 nsplit=0       \r",
      "  Iteration 15 (0.01 s, search 0.00 s): objective=1089.54 imbalance=1.010 nsplit=0       \r",
      "  Iteration 16 (0.01 s, search 0.00 s): objective=1089.46 imbalance=1.010 nsplit=0       \r",
      "  Iteration 17 (0.01 s, search 0.00 s): objective=1089.42 imbalance=1.009 nsplit=0       \r",
      "  Iteration 18 (0.01 s, search 0.00 s): objective=1089.36 imbalance=1.009 nsplit=0       \r",
      "  Iteration 19 (0.01 s, search 0.00 s): objective=1089.3 imbalance=1.009 nsplit=0       \r",
      "  Iteration 20 (0.01 s, search 0.00 s): objective=1089.26 imbalance=1.009 nsplit=0       \r",
      "  Iteration 21 (0.01 s, search 0.00 s): objective=1089.23 imbalance=1.009 nsplit=0       \r",
      "  Iteration 22 (0.01 s, search 0.00 s): objective=1089.21 imbalance=1.010 nsplit=0       \r",
      "  Iteration 23 (0.01 s, search 0.01 s): objective=1089.19 imbalance=1.010 nsplit=0       \r",
      "  Iteration 24 (0.01 s, search 0.01 s): objective=1089.18 imbalance=1.010 nsplit=0       \r",
      "  Iteration 25 (0.01 s, search 0.01 s): objective=1089.17 imbalance=1.010 nsplit=0       \r",
      "  Iteration 26 (0.01 s, search 0.01 s): objective=1089.14 imbalance=1.010 nsplit=0       \r",
      "  Iteration 27 (0.01 s, search 0.01 s): objective=1089.12 imbalance=1.010 nsplit=0       \r",
      "  Iteration 28 (0.01 s, search 0.01 s): objective=1089.11 imbalance=1.011 nsplit=0       \r",
      "  Iteration 29 (0.01 s, search 0.01 s): objective=1089.09 imbalance=1.010 nsplit=0       \r",
      "  Iteration 30 (0.01 s, search 0.01 s): objective=1089.06 imbalance=1.011 nsplit=0       \r",
      "  Iteration 31 (0.01 s, search 0.01 s): objective=1089.01 imbalance=1.011 nsplit=0       \r",
      "  Iteration 32 (0.01 s, search 0.01 s): objective=1088.84 imbalance=1.013 nsplit=0       \r",
      "  Iteration 33 (0.01 s, search 0.01 s): objective=1088.64 imbalance=1.013 nsplit=0       \r",
      "  Iteration 34 (0.01 s, search 0.01 s): objective=1088.51 imbalance=1.013 nsplit=0       \r",
      "  Iteration 35 (0.01 s, search 0.01 s): objective=1088.44 imbalance=1.012 nsplit=0       \r",
      "  Iteration 36 (0.01 s, search 0.01 s): objective=1088.4 imbalance=1.012 nsplit=0       \r",
      "  Iteration 37 (0.01 s, search 0.01 s): objective=1088.29 imbalance=1.010 nsplit=0       \r",
      "  Iteration 38 (0.01 s, search 0.01 s): objective=1088.21 imbalance=1.010 nsplit=0       \r",
      "  Iteration 39 (0.01 s, search 0.01 s): objective=1088.13 imbalance=1.009 nsplit=0       \r",
      "  Iteration 40 (0.01 s, search 0.01 s): objective=1088.01 imbalance=1.009 nsplit=0       \r",
      "  Iteration 41 (0.01 s, search 0.01 s): objective=1087.9 imbalance=1.008 nsplit=0       \r",
      "  Iteration 42 (0.01 s, search 0.01 s): objective=1087.81 imbalance=1.007 nsplit=0       \r",
      "  Iteration 43 (0.01 s, search 0.01 s): objective=1087.73 imbalance=1.007 nsplit=0       \r",
      "  Iteration 44 (0.01 s, search 0.01 s): objective=1087.69 imbalance=1.007 nsplit=0       \r",
      "  Iteration 45 (0.01 s, search 0.01 s): objective=1087.66 imbalance=1.007 nsplit=0       \r",
      "  Iteration 46 (0.01 s, search 0.01 s): objective=1087.63 imbalance=1.007 nsplit=0       \r",
      "  Iteration 47 (0.01 s, search 0.01 s): objective=1087.61 imbalance=1.006 nsplit=0       \r",
      "  Iteration 48 (0.01 s, search 0.01 s): objective=1087.6 imbalance=1.006 nsplit=0       \r",
      "  Iteration 49 (0.01 s, search 0.01 s): objective=1087.6 imbalance=1.006 nsplit=0       \r",
      "  Iteration 50 (0.01 s, search 0.01 s): objective=1087.6 imbalance=1.006 nsplit=0       \r",
      "  Iteration 51 (0.01 s, search 0.01 s): objective=1087.6 imbalance=1.006 nsplit=0       \r",
      "  Iteration 52 (0.01 s, search 0.01 s): objective=1087.6 imbalance=1.006 nsplit=0       \r",
      "  Iteration 53 (0.01 s, search 0.01 s): objective=1087.6 imbalance=1.006 nsplit=0       \r",
      "  Iteration 54 (0.01 s, search 0.01 s): objective=1087.6 imbalance=1.006 nsplit=0       \r",
      "  Iteration 55 (0.01 s, search 0.01 s): objective=1087.6 imbalance=1.006 nsplit=0       \r",
      "  Iteration 56 (0.01 s, search 0.01 s): objective=1087.6 imbalance=1.006 nsplit=0       \r",
      "  Iteration 57 (0.01 s, search 0.01 s): objective=1087.6 imbalance=1.006 nsplit=0       \r",
      "  Iteration 58 (0.01 s, search 0.01 s): objective=1087.6 imbalance=1.006 nsplit=0       \r",
      "  Iteration 59 (0.01 s, search 0.01 s): objective=1087.6 imbalance=1.006 nsplit=0       \r",
      "  Iteration 60 (0.02 s, search 0.01 s): objective=1087.6 imbalance=1.006 nsplit=0       \r",
      "  Iteration 61 (0.02 s, search 0.01 s): objective=1087.6 imbalance=1.006 nsplit=0       \r",
      "  Iteration 62 (0.02 s, search 0.01 s): objective=1087.6 imbalance=1.006 nsplit=0       \r",
      "  Iteration 63 (0.02 s, search 0.01 s): objective=1087.6 imbalance=1.006 nsplit=0       \r",
      "  Iteration 64 (0.02 s, search 0.01 s): objective=1087.6 imbalance=1.006 nsplit=0       \r",
      "  Iteration 65 (0.02 s, search 0.01 s): objective=1087.6 imbalance=1.006 nsplit=0       \r",
      "  Iteration 66 (0.02 s, search 0.01 s): objective=1087.6 imbalance=1.006 nsplit=0       \r",
      "  Iteration 67 (0.02 s, search 0.01 s): objective=1087.6 imbalance=1.006 nsplit=0       \r",
      "  Iteration 68 (0.02 s, search 0.01 s): objective=1087.6 imbalance=1.006 nsplit=0       \r",
      "  Iteration 69 (0.02 s, search 0.01 s): objective=1087.6 imbalance=1.006 nsplit=0       \r",
      "  Iteration 70 (0.02 s, search 0.01 s): objective=1087.6 imbalance=1.006 nsplit=0       \r",
      "  Iteration 71 (0.02 s, search 0.01 s): objective=1087.6 imbalance=1.006 nsplit=0       \r",
      "  Iteration 72 (0.02 s, search 0.01 s): objective=1087.6 imbalance=1.006 nsplit=0       \r",
      "  Iteration 73 (0.02 s, search 0.01 s): objective=1087.6 imbalance=1.006 nsplit=0       \r",
      "  Iteration 74 (0.02 s, search 0.01 s): objective=1087.6 imbalance=1.006 nsplit=0       \r",
      "  Iteration 75 (0.02 s, search 0.01 s): objective=1087.6 imbalance=1.006 nsplit=0       \r",
      "  Iteration 76 (0.02 s, search 0.01 s): objective=1087.6 imbalance=1.006 nsplit=0       \r",
      "  Iteration 77 (0.02 s, search 0.01 s): objective=1087.6 imbalance=1.006 nsplit=0       \r",
      "  Iteration 78 (0.02 s, search 0.01 s): objective=1087.6 imbalance=1.006 nsplit=0       \r",
      "  Iteration 79 (0.02 s, search 0.01 s): objective=1087.6 imbalance=1.006 nsplit=0       \r",
      "  Iteration 80 (0.02 s, search 0.01 s): objective=1087.6 imbalance=1.006 nsplit=0       \r",
      "  Iteration 81 (0.02 s, search 0.01 s): objective=1087.6 imbalance=1.006 nsplit=0       \r",
      "  Iteration 82 (0.02 s, search 0.01 s): objective=1087.6 imbalance=1.006 nsplit=0       \r",
      "  Iteration 83 (0.02 s, search 0.01 s): objective=1087.6 imbalance=1.006 nsplit=0       \r",
      "  Iteration 84 (0.02 s, search 0.01 s): objective=1087.6 imbalance=1.006 nsplit=0       \r",
      "  Iteration 85 (0.02 s, search 0.01 s): objective=1087.6 imbalance=1.006 nsplit=0       \r",
      "  Iteration 86 (0.02 s, search 0.01 s): objective=1087.6 imbalance=1.006 nsplit=0       \r",
      "  Iteration 87 (0.02 s, search 0.01 s): objective=1087.6 imbalance=1.006 nsplit=0       \r",
      "  Iteration 88 (0.02 s, search 0.01 s): objective=1087.6 imbalance=1.006 nsplit=0       \r",
      "  Iteration 89 (0.02 s, search 0.01 s): objective=1087.6 imbalance=1.006 nsplit=0       \r",
      "  Iteration 90 (0.02 s, search 0.01 s): objective=1087.6 imbalance=1.006 nsplit=0       \r",
      "  Iteration 91 (0.02 s, search 0.01 s): objective=1087.6 imbalance=1.006 nsplit=0       \r",
      "  Iteration 92 (0.02 s, search 0.01 s): objective=1087.6 imbalance=1.006 nsplit=0       \r",
      "  Iteration 93 (0.02 s, search 0.01 s): objective=1087.6 imbalance=1.006 nsplit=0       \r",
      "  Iteration 94 (0.02 s, search 0.01 s): objective=1087.6 imbalance=1.006 nsplit=0       \r",
      "  Iteration 95 (0.02 s, search 0.01 s): objective=1087.6 imbalance=1.006 nsplit=0       \r",
      "  Iteration 96 (0.02 s, search 0.01 s): objective=1087.6 imbalance=1.006 nsplit=0       \r",
      "  Iteration 97 (0.02 s, search 0.01 s): objective=1087.6 imbalance=1.006 nsplit=0       \r",
      "  Iteration 98 (0.02 s, search 0.01 s): objective=1087.6 imbalance=1.006 nsplit=0       \r",
      "  Iteration 99 (0.02 s, search 0.01 s): objective=1087.6 imbalance=1.006 nsplit=0       \r",
      "  Iteration 100 (0.02 s, search 0.01 s): objective=1087.6 imbalance=1.006 nsplit=0       \r",
      "  Iteration 101 (0.02 s, search 0.01 s): objective=1087.6 imbalance=1.006 nsplit=0       \r",
      "  Iteration 102 (0.02 s, search 0.01 s): objective=1087.6 imbalance=1.006 nsplit=0       \r",
      "  Iteration 103 (0.02 s, search 0.01 s): objective=1087.6 imbalance=1.006 nsplit=0       \r",
      "  Iteration 104 (0.02 s, search 0.01 s): objective=1087.6 imbalance=1.006 nsplit=0       \r",
      "  Iteration 105 (0.02 s, search 0.01 s): objective=1087.6 imbalance=1.006 nsplit=0       \r",
      "  Iteration 106 (0.02 s, search 0.01 s): objective=1087.6 imbalance=1.006 nsplit=0       \r",
      "  Iteration 107 (0.02 s, search 0.01 s): objective=1087.6 imbalance=1.006 nsplit=0       \r",
      "  Iteration 108 (0.02 s, search 0.01 s): objective=1087.6 imbalance=1.006 nsplit=0       \r",
      "  Iteration 109 (0.02 s, search 0.01 s): objective=1087.6 imbalance=1.006 nsplit=0       \r",
      "  Iteration 110 (0.02 s, search 0.01 s): objective=1087.6 imbalance=1.006 nsplit=0       \r",
      "  Iteration 111 (0.02 s, search 0.01 s): objective=1087.6 imbalance=1.006 nsplit=0       \r",
      "  Iteration 112 (0.02 s, search 0.01 s): objective=1087.6 imbalance=1.006 nsplit=0       \r",
      "  Iteration 113 (0.02 s, search 0.01 s): objective=1087.6 imbalance=1.006 nsplit=0       \r",
      "  Iteration 114 (0.02 s, search 0.01 s): objective=1087.6 imbalance=1.006 nsplit=0       \r",
      "  Iteration 115 (0.02 s, search 0.01 s): objective=1087.6 imbalance=1.006 nsplit=0       \r",
      "  Iteration 116 (0.03 s, search 0.01 s): objective=1087.6 imbalance=1.006 nsplit=0       \r",
      "  Iteration 117 (0.03 s, search 0.01 s): objective=1087.6 imbalance=1.006 nsplit=0       \r",
      "  Iteration 118 (0.03 s, search 0.01 s): objective=1087.6 imbalance=1.006 nsplit=0       \r",
      "  Iteration 119 (0.03 s, search 0.01 s): objective=1087.6 imbalance=1.006 nsplit=0       \r",
      "  Iteration 120 (0.03 s, search 0.01 s): objective=1087.6 imbalance=1.006 nsplit=0       \r",
      "  Iteration 121 (0.03 s, search 0.01 s): objective=1087.6 imbalance=1.006 nsplit=0       \r",
      "  Iteration 122 (0.03 s, search 0.01 s): objective=1087.6 imbalance=1.006 nsplit=0       \r",
      "  Iteration 123 (0.03 s, search 0.01 s): objective=1087.6 imbalance=1.006 nsplit=0       \r",
      "  Iteration 124 (0.03 s, search 0.01 s): objective=1087.6 imbalance=1.006 nsplit=0       \r",
      "  Iteration 125 (0.03 s, search 0.01 s): objective=1087.6 imbalance=1.006 nsplit=0       \r",
      "  Iteration 126 (0.03 s, search 0.01 s): objective=1087.6 imbalance=1.006 nsplit=0       \r",
      "  Iteration 127 (0.03 s, search 0.01 s): objective=1087.6 imbalance=1.006 nsplit=0       \r",
      "  Iteration 128 (0.03 s, search 0.01 s): objective=1087.6 imbalance=1.006 nsplit=0       \r",
      "  Iteration 129 (0.03 s, search 0.01 s): objective=1087.6 imbalance=1.006 nsplit=0       \r",
      "  Iteration 130 (0.03 s, search 0.01 s): objective=1087.6 imbalance=1.006 nsplit=0       \r",
      "  Iteration 131 (0.03 s, search 0.01 s): objective=1087.6 imbalance=1.006 nsplit=0       \r",
      "  Iteration 132 (0.03 s, search 0.02 s): objective=1087.6 imbalance=1.006 nsplit=0       \r",
      "  Iteration 133 (0.03 s, search 0.02 s): objective=1087.6 imbalance=1.006 nsplit=0       \r",
      "  Iteration 134 (0.03 s, search 0.02 s): objective=1087.6 imbalance=1.006 nsplit=0       \r",
      "  Iteration 135 (0.03 s, search 0.02 s): objective=1087.6 imbalance=1.006 nsplit=0       \r",
      "  Iteration 136 (0.03 s, search 0.02 s): objective=1087.6 imbalance=1.006 nsplit=0       \r",
      "  Iteration 137 (0.03 s, search 0.02 s): objective=1087.6 imbalance=1.006 nsplit=0       \r",
      "  Iteration 138 (0.03 s, search 0.02 s): objective=1087.6 imbalance=1.006 nsplit=0       \r",
      "  Iteration 139 (0.03 s, search 0.02 s): objective=1087.6 imbalance=1.006 nsplit=0       \r",
      "  Iteration 140 (0.03 s, search 0.02 s): objective=1087.6 imbalance=1.006 nsplit=0       \r",
      "  Iteration 141 (0.03 s, search 0.02 s): objective=1087.6 imbalance=1.006 nsplit=0       \r",
      "  Iteration 142 (0.03 s, search 0.02 s): objective=1087.6 imbalance=1.006 nsplit=0       \r",
      "  Iteration 143 (0.03 s, search 0.02 s): objective=1087.6 imbalance=1.006 nsplit=0       \r",
      "  Iteration 144 (0.03 s, search 0.02 s): objective=1087.6 imbalance=1.006 nsplit=0       \r",
      "  Iteration 145 (0.03 s, search 0.02 s): objective=1087.6 imbalance=1.006 nsplit=0       \r",
      "  Iteration 146 (0.03 s, search 0.02 s): objective=1087.6 imbalance=1.006 nsplit=0       \r",
      "  Iteration 147 (0.03 s, search 0.02 s): objective=1087.6 imbalance=1.006 nsplit=0       \r",
      "  Iteration 148 (0.03 s, search 0.02 s): objective=1087.6 imbalance=1.006 nsplit=0       \r",
      "  Iteration 149 (0.03 s, search 0.02 s): objective=1087.6 imbalance=1.006 nsplit=0       \r",
      "  Iteration 150 (0.03 s, search 0.02 s): objective=1087.6 imbalance=1.006 nsplit=0       \r",
      "  Iteration 151 (0.03 s, search 0.02 s): objective=1087.6 imbalance=1.006 nsplit=0       \r",
      "  Iteration 152 (0.03 s, search 0.02 s): objective=1087.6 imbalance=1.006 nsplit=0       \r",
      "  Iteration 153 (0.03 s, search 0.02 s): objective=1087.6 imbalance=1.006 nsplit=0       \r",
      "  Iteration 154 (0.03 s, search 0.02 s): objective=1087.6 imbalance=1.006 nsplit=0       \r",
      "  Iteration 155 (0.03 s, search 0.02 s): objective=1087.6 imbalance=1.006 nsplit=0       \r",
      "  Iteration 156 (0.03 s, search 0.02 s): objective=1087.6 imbalance=1.006 nsplit=0       \r",
      "  Iteration 157 (0.03 s, search 0.02 s): objective=1087.6 imbalance=1.006 nsplit=0       \r",
      "  Iteration 158 (0.03 s, search 0.02 s): objective=1087.6 imbalance=1.006 nsplit=0       \r",
      "  Iteration 159 (0.03 s, search 0.02 s): objective=1087.6 imbalance=1.006 nsplit=0       \r",
      "  Iteration 160 (0.03 s, search 0.02 s): objective=1087.6 imbalance=1.006 nsplit=0       \r",
      "  Iteration 161 (0.03 s, search 0.02 s): objective=1087.6 imbalance=1.006 nsplit=0       \r",
      "  Iteration 162 (0.03 s, search 0.02 s): objective=1087.6 imbalance=1.006 nsplit=0       \r",
      "  Iteration 163 (0.03 s, search 0.02 s): objective=1087.6 imbalance=1.006 nsplit=0       \r",
      "  Iteration 164 (0.03 s, search 0.02 s): objective=1087.6 imbalance=1.006 nsplit=0       \r",
      "  Iteration 165 (0.03 s, search 0.02 s): objective=1087.6 imbalance=1.006 nsplit=0       \r",
      "  Iteration 166 (0.03 s, search 0.02 s): objective=1087.6 imbalance=1.006 nsplit=0       \r",
      "  Iteration 167 (0.03 s, search 0.02 s): objective=1087.6 imbalance=1.006 nsplit=0       \r",
      "  Iteration 168 (0.03 s, search 0.02 s): objective=1087.6 imbalance=1.006 nsplit=0       \r",
      "  Iteration 169 (0.03 s, search 0.02 s): objective=1087.6 imbalance=1.006 nsplit=0       \r",
      "  Iteration 170 (0.03 s, search 0.02 s): objective=1087.6 imbalance=1.006 nsplit=0       \r",
      "  Iteration 171 (0.03 s, search 0.02 s): objective=1087.6 imbalance=1.006 nsplit=0       \r",
      "  Iteration 172 (0.04 s, search 0.02 s): objective=1087.6 imbalance=1.006 nsplit=0       \r",
      "  Iteration 173 (0.04 s, search 0.02 s): objective=1087.6 imbalance=1.006 nsplit=0       \r",
      "  Iteration 174 (0.04 s, search 0.02 s): objective=1087.6 imbalance=1.006 nsplit=0       \r",
      "  Iteration 175 (0.04 s, search 0.02 s): objective=1087.6 imbalance=1.006 nsplit=0       \r",
      "  Iteration 176 (0.04 s, search 0.02 s): objective=1087.6 imbalance=1.006 nsplit=0       \r",
      "  Iteration 177 (0.04 s, search 0.02 s): objective=1087.6 imbalance=1.006 nsplit=0       \r",
      "  Iteration 178 (0.04 s, search 0.02 s): objective=1087.6 imbalance=1.006 nsplit=0       \r",
      "  Iteration 179 (0.04 s, search 0.02 s): objective=1087.6 imbalance=1.006 nsplit=0       \r",
      "  Iteration 180 (0.04 s, search 0.02 s): objective=1087.6 imbalance=1.006 nsplit=0       \r",
      "  Iteration 181 (0.04 s, search 0.02 s): objective=1087.6 imbalance=1.006 nsplit=0       \r",
      "  Iteration 182 (0.04 s, search 0.02 s): objective=1087.6 imbalance=1.006 nsplit=0       \r",
      "  Iteration 183 (0.04 s, search 0.02 s): objective=1087.6 imbalance=1.006 nsplit=0       \r",
      "  Iteration 184 (0.04 s, search 0.02 s): objective=1087.6 imbalance=1.006 nsplit=0       \r",
      "  Iteration 185 (0.04 s, search 0.02 s): objective=1087.6 imbalance=1.006 nsplit=0       \r",
      "  Iteration 186 (0.04 s, search 0.02 s): objective=1087.6 imbalance=1.006 nsplit=0       \r",
      "  Iteration 187 (0.04 s, search 0.02 s): objective=1087.6 imbalance=1.006 nsplit=0       \r",
      "  Iteration 188 (0.04 s, search 0.02 s): objective=1087.6 imbalance=1.006 nsplit=0       \r",
      "  Iteration 189 (0.04 s, search 0.02 s): objective=1087.6 imbalance=1.006 nsplit=0       \r",
      "  Iteration 190 (0.04 s, search 0.02 s): objective=1087.6 imbalance=1.006 nsplit=0       \r",
      "  Iteration 191 (0.04 s, search 0.02 s): objective=1087.6 imbalance=1.006 nsplit=0       \r",
      "  Iteration 192 (0.04 s, search 0.02 s): objective=1087.6 imbalance=1.006 nsplit=0       \r",
      "  Iteration 193 (0.04 s, search 0.02 s): objective=1087.6 imbalance=1.006 nsplit=0       \r",
      "  Iteration 194 (0.04 s, search 0.02 s): objective=1087.6 imbalance=1.006 nsplit=0       \r",
      "  Iteration 195 (0.04 s, search 0.02 s): objective=1087.6 imbalance=1.006 nsplit=0       \r",
      "  Iteration 196 (0.04 s, search 0.02 s): objective=1087.6 imbalance=1.006 nsplit=0       \r",
      "  Iteration 197 (0.04 s, search 0.02 s): objective=1087.6 imbalance=1.006 nsplit=0       \r",
      "  Iteration 198 (0.04 s, search 0.02 s): objective=1087.6 imbalance=1.006 nsplit=0       \r",
      "  Iteration 199 (0.04 s, search 0.02 s): objective=1087.6 imbalance=1.006 nsplit=0       \r"
     ]
    }
   ],
   "source": [
    "k = 5\n",
    "niter = 200\n",
    "verbose = True\n",
    "kmeans = faiss.Kmeans(\n",
    "    s_embs.shape[1], \n",
    "    k, \n",
    "    niter=niter, \n",
    "    verbose=verbose\n",
    ")\n",
    "kmeans.train(s_embs)\n",
    "kmeans_index = faiss.IndexFlatIP(s_embs.shape[1])\n",
    "kmeans_index.add(kmeans.centroids)"
   ]
  },
  {
   "cell_type": "code",
   "execution_count": 6,
   "id": "58e4fc28",
   "metadata": {},
   "outputs": [],
   "source": [
    "scores, neighbours = kmeans_index.search(s_embs, k)"
   ]
  },
  {
   "cell_type": "code",
   "execution_count": 8,
   "id": "6a18b3fb",
   "metadata": {},
   "outputs": [
    {
     "data": {
      "text/plain": [
       "<matplotlib.legend.Legend at 0x7f3e2837b310>"
      ]
     },
     "execution_count": 8,
     "metadata": {},
     "output_type": "execute_result"
    },
    {
     "data": {
      "image/png": "[encoded data removed]",
      "text/plain": [
       "<Figure size 640x480 with 1 Axes>"
      ]
     },
     "metadata": {},
     "output_type": "display_data"
    }
   ],
   "source": [
    "import matplotlib.pyplot as plt\n",
    "import numpy as np\n",
    "plt.style.use(\"ggplot\")\n",
    "\n",
    "\n",
    "plt.close()\n",
    "plt.figure()\n",
    "for i in range(k):\n",
    "    _ = plt.hist(np.arccos(scores[:, i]) / np.pi * 180, bins=50, alpha=0.8, label=f\"k={i}\")\n",
    "plt.legend()"
   ]
  },
  {
   "cell_type": "code",
   "execution_count": null,
   "id": "364c741e",
   "metadata": {},
   "outputs": [],
   "source": []
  },
  {
   "cell_type": "code",
   "execution_count": null,
   "id": "1fdcc753",
   "metadata": {},
   "outputs": [],
   "source": []
  },
  {
   "cell_type": "code",
   "execution_count": null,
   "id": "4657aaa8",
   "metadata": {},
   "outputs": [],
   "source": [
    "import matplotlib.pyplot as plt\n",
    "import sklearn\n",
    "\n",
    "\n",
    "dummy_data, y = sklearn.datasets.make_blobs(\n",
    "    n_samples=1000, \n",
    "    n_features=2\n",
    ")\n",
    "\n",
    "dummy_kmeans = faiss.Kmeans(\n",
    "    dummy_data.shape[1], \n",
    "    3,\n",
    "    niter=20, \n",
    "    verbose=True,\n",
    ")\n",
    "dummy_kmeans.train(dummy_data)\n",
    "\n",
    "plt.scatter(dummy_data[:, 0], dummy_data[:, 1])"
   ]
  },
  {
   "cell_type": "code",
   "execution_count": null,
   "id": "a0155aff",
   "metadata": {},
   "outputs": [],
   "source": [
    "import umap\n",
    "import matplotlib.pyplot as plt\n",
    "import seaborn as sns\n",
    "\n",
    "\n",
    "reducer = umap.UMAP(random_state=42, metric=\"cosine\")\n",
    "reduced_embs = reducer.fit_transform(s_embs)"
   ]
  },
  {
   "cell_type": "code",
   "execution_count": null,
   "id": "3c4b85d0",
   "metadata": {},
   "outputs": [],
   "source": [
    "plt.scatter(\n",
    "    reduced_embs[::10, 0],\n",
    "    reduced_embs[::10, 1],\n",
    ")"
   ]
  },
  {
   "cell_type": "code",
   "execution_count": null,
   "id": "638ca27a",
   "metadata": {},
   "outputs": [],
   "source": [
    "from sklearn.cluster import HDBSCAN"
   ]
  },
  {
   "cell_type": "code",
   "execution_count": null,
   "id": "fe4c8ac1",
   "metadata": {},
   "outputs": [],
   "source": [
    "clusterer = HDBSCAN()"
   ]
  },
  {
   "cell_type": "code",
   "execution_count": null,
   "id": "432fef69",
   "metadata": {},
   "outputs": [],
   "source": [
    "clusterer.fit(s_embs)"
   ]
  },
  {
   "cell_type": "code",
   "execution_count": null,
   "id": "5f514bed",
   "metadata": {},
   "outputs": [],
   "source": []
  }
 ],
 "metadata": {
  "kernelspec": {
   "display_name": "Python 3 (ipykernel)",
   "language": "python",
   "name": "python3"
  },
  "language_info": {
   "codemirror_mode": {
    "name": "ipython",
    "version": 3
   },
   "file_extension": ".py",
   "mimetype": "text/x-python",
   "name": "python",
   "nbconvert_exporter": "python",
   "pygments_lexer": "ipython3",
   "version": "3.10.9"
  }
 },
 "nbformat": 4,
 "nbformat_minor": 5
}
