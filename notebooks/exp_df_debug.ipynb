{
 "cells": [
  {
   "cell_type": "code",
   "execution_count": 2,
   "id": "837bb504",
   "metadata": {},
   "outputs": [],
   "source": [
    "import pandas as pd"
   ]
  },
  {
   "cell_type": "code",
   "execution_count": 3,
   "id": "b3c5a0ce",
   "metadata": {},
   "outputs": [
    {
     "data": {
      "text/html": [
       "<div>\n",
       "<style scoped>\n",
       "    .dataframe tbody tr th:only-of-type {\n",
       "        vertical-align: middle;\n",
       "    }\n",
       "\n",
       "    .dataframe tbody tr th {\n",
       "        vertical-align: top;\n",
       "    }\n",
       "\n",
       "    .dataframe thead th {\n",
       "        text-align: right;\n",
       "    }\n",
       "</style>\n",
       "<table border=\"1\" class=\"dataframe\">\n",
       "  <thead>\n",
       "    <tr style=\"text-align: right;\">\n",
       "      <th></th>\n",
       "      <th>score0</th>\n",
       "      <th>score1</th>\n",
       "      <th>score2</th>\n",
       "      <th>score3</th>\n",
       "      <th>score4</th>\n",
       "    </tr>\n",
       "    <tr>\n",
       "      <th>id</th>\n",
       "      <th></th>\n",
       "      <th></th>\n",
       "      <th></th>\n",
       "      <th></th>\n",
       "      <th></th>\n",
       "    </tr>\n",
       "  </thead>\n",
       "  <tbody>\n",
       "    <tr>\n",
       "      <th>0</th>\n",
       "      <td>-0.279435</td>\n",
       "      <td>-0.556641</td>\n",
       "      <td>-0.366573</td>\n",
       "      <td>-0.492334</td>\n",
       "      <td>-0.477445</td>\n",
       "    </tr>\n",
       "    <tr>\n",
       "      <th>1</th>\n",
       "      <td>0.273608</td>\n",
       "      <td>0.746012</td>\n",
       "      <td>-0.076788</td>\n",
       "      <td>0.030197</td>\n",
       "      <td>-0.039976</td>\n",
       "    </tr>\n",
       "    <tr>\n",
       "      <th>2</th>\n",
       "      <td>-0.365693</td>\n",
       "      <td>-0.589089</td>\n",
       "      <td>-0.437781</td>\n",
       "      <td>-0.382569</td>\n",
       "      <td>-0.401302</td>\n",
       "    </tr>\n",
       "    <tr>\n",
       "      <th>3</th>\n",
       "      <td>-0.039820</td>\n",
       "      <td>-0.605160</td>\n",
       "      <td>-0.615621</td>\n",
       "      <td>-0.092390</td>\n",
       "      <td>-0.108684</td>\n",
       "    </tr>\n",
       "    <tr>\n",
       "      <th>4</th>\n",
       "      <td>-0.267837</td>\n",
       "      <td>-0.434627</td>\n",
       "      <td>-0.410417</td>\n",
       "      <td>-0.559552</td>\n",
       "      <td>-0.485565</td>\n",
       "    </tr>\n",
       "  </tbody>\n",
       "</table>\n",
       "</div>"
      ],
      "text/plain": [
       "      score0    score1    score2    score3    score4\n",
       "id                                                  \n",
       "0  -0.279435 -0.556641 -0.366573 -0.492334 -0.477445\n",
       "1   0.273608  0.746012 -0.076788  0.030197 -0.039976\n",
       "2  -0.365693 -0.589089 -0.437781 -0.382569 -0.401302\n",
       "3  -0.039820 -0.605160 -0.615621 -0.092390 -0.108684\n",
       "4  -0.267837 -0.434627 -0.410417 -0.559552 -0.485565"
      ]
     },
     "execution_count": 3,
     "metadata": {},
     "output_type": "execute_result"
    }
   ],
   "source": [
    "csv = pd.read_csv(\"/home/clay/research/kaggle/kaggle_llm/tools/ensembled.csv\", index_col=0)\n",
    "csv.head()"
   ]
  },
  {
   "cell_type": "code",
   "execution_count": 7,
   "id": "5987d731",
   "metadata": {},
   "outputs": [],
   "source": [
    "df = pd.read_csv(\"/home/clay/research/kaggle/kaggle_llm/data/data_dumps/more_questions/more_questions_raw_questions_2.csv\")"
   ]
  },
  {
   "cell_type": "code",
   "execution_count": 8,
   "id": "fe13f32e",
   "metadata": {},
   "outputs": [
    {
     "data": {
      "text/plain": [
       "(18043, 9)"
      ]
     },
     "execution_count": 8,
     "metadata": {},
     "output_type": "execute_result"
    }
   ],
   "source": [
    "df.shape"
   ]
  },
  {
   "cell_type": "code",
   "execution_count": null,
   "id": "a9c8d869",
   "metadata": {},
   "outputs": [],
   "source": []
  }
 ],
 "metadata": {
  "kernelspec": {
   "display_name": "Python 3 (ipykernel)",
   "language": "python",
   "name": "python3"
  },
  "language_info": {
   "codemirror_mode": {
    "name": "ipython",
    "version": 3
   },
   "file_extension": ".py",
   "mimetype": "text/x-python",
   "name": "python",
   "nbconvert_exporter": "python",
   "pygments_lexer": "ipython3",
   "version": "3.10.9"
  }
 },
 "nbformat": 4,
 "nbformat_minor": 5
}
