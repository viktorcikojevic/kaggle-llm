{
 "cells": [
  {
   "cell_type": "code",
   "execution_count": 8,
   "id": "98dbc96a",
   "metadata": {},
   "outputs": [],
   "source": [
    "import pandas as pd\n",
    "from pathlib import Path"
   ]
  },
  {
   "cell_type": "code",
   "execution_count": 9,
   "id": "d959c4cc",
   "metadata": {},
   "outputs": [],
   "source": [
    "paths = sorted(list(Path(\"/home/clay/research/kaggle/kaggle_llm/data/wikipedia_pages2/\").glob(\"*\")))\n",
    "df = pd.concat([\n",
    "    pd.read_parquet(p)\n",
    "    for p in paths\n",
    "])"
   ]
  },
  {
   "cell_type": "code",
   "execution_count": 10,
   "id": "785369a7",
   "metadata": {},
   "outputs": [
    {
     "data": {
      "text/plain": [
       "(131049, 3)"
      ]
     },
     "execution_count": 10,
     "metadata": {},
     "output_type": "execute_result"
    }
   ],
   "source": [
    "df.shape"
   ]
  },
  {
   "cell_type": "code",
   "execution_count": 14,
   "id": "bc456b64",
   "metadata": {},
   "outputs": [],
   "source": [
    "topics = sorted(list(df[\"title\"].unique()))"
   ]
  },
  {
   "cell_type": "code",
   "execution_count": 16,
   "id": "5e9bb5c9",
   "metadata": {},
   "outputs": [
    {
     "data": {
      "text/plain": [
       "['2015 RX245',\n",
       " '2015 TB145',\n",
       " '2015 TC25',\n",
       " '2015 TH367',\n",
       " '2015 XJ351',\n",
       " '2015 in paleomammalogy',\n",
       " '2015 in paleontology',\n",
       " '2016 AZ8',\n",
       " '2016 CP31',\n",
       " '2016 DV1',\n",
       " '2016 PQ',\n",
       " '2016 United States Elizabethkingia outbreak',\n",
       " '2016 WF9',\n",
       " '2016 in Antarctica',\n",
       " '2016 in archosaur paleontology',\n",
       " '2016 in arthropod paleontology',\n",
       " '2017 AG13',\n",
       " '2017 BS5',\n",
       " '2017 DB120',\n",
       " '2017 FO161',\n",
       " '2017 MB7',\n",
       " '2017 QC36',\n",
       " '2017 QP1',\n",
       " '2017 SG33',\n",
       " '2017 SV13',\n",
       " '2017 SX17',\n",
       " '2017 VL2',\n",
       " '2017 VR12',\n",
       " '2017 VW13',\n",
       " '2017 in arthropod paleontology',\n",
       " '2017 in paleobotany',\n",
       " '2017 in paleomammalogy',\n",
       " '2017–2018 United States flu season',\n",
       " '2017–2019 world oil market chronology',\n",
       " '2018 EC4',\n",
       " '2018 FC4',\n",
       " '2018 RY7',\n",
       " '2018 VG18',\n",
       " '2018 VM35',\n",
       " '2018 heat wave',\n",
       " '2018 in amphibian paleontology',\n",
       " '2018 in arthropod paleontology',\n",
       " '2018 in echinoderm paleontology',\n",
       " '2018 in paleomammalogy',\n",
       " '2018 in paleontology',\n",
       " '2018 in spaceflight',\n",
       " '2019 AQ3',\n",
       " '2019 BE5',\n",
       " '2019 BZ3',\n",
       " '2019 EU5']"
      ]
     },
     "execution_count": 16,
     "metadata": {},
     "output_type": "execute_result"
    }
   ],
   "source": [
    "i = 2000\n",
    "topics[i: i+50]"
   ]
  },
  {
   "cell_type": "code",
   "execution_count": 37,
   "id": "d9eb31ab",
   "metadata": {},
   "outputs": [
    {
     "data": {
      "text/plain": [
       "231                           2018 RY7\n",
       "347                           2018 FC4\n",
       "757                         2000 SG344\n",
       "945                      1458 (number)\n",
       "1862     1884 Baltimore Orioles season\n",
       "                     ...              \n",
       "24727                       2002 RN109\n",
       "24774                          2014 RC\n",
       "24801             3102 aluminium alloy\n",
       "24806                         2014 XL7\n",
       "24922                        2013 RF98\n",
       "Name: title, Length: 334, dtype: object"
      ]
     },
     "execution_count": 37,
     "metadata": {},
     "output_type": "execute_result"
    }
   ],
   "source": [
    "def begins_with_year(item):\n",
    "    try:\n",
    "        _ = int(item[:4])\n",
    "    except:\n",
    "        return False\n",
    "    return len(item) > 5 and item[4] == \" \"\n",
    "\n",
    "\n",
    "def is_year_in_something(item):\n",
    "    try:\n",
    "        _ = int(item[:4])\n",
    "    except:\n",
    "        return False\n",
    "    return item[4:8] == \" in \"\n",
    "\n",
    "\n",
    "def is_list_of_equations(item):\n",
    "    return (\"list of\" in item) and (\"equation\" in item)\n",
    "\n",
    "\n",
    "df[\n",
    "    (\n",
    "        df[\"title\"].apply(begins_with_year)\n",
    "        | df[\"title\"].apply(is_year_in_something)\n",
    "        | df[\"title\"].apply(is_list_of_equations)\n",
    "    )\n",
    "][\"title\"]"
   ]
  },
  {
   "cell_type": "code",
   "execution_count": 33,
   "id": "c82349ed",
   "metadata": {},
   "outputs": [
    {
     "data": {
      "text/plain": [
       "'A non-blanching rash (NBR) is a skin rash that does not fade when pressed with, and viewed through, a glass.\\n\\nIt is a characteristic of both purpuric and petechial rashes. Individual purpura measure 3–10\\xa0mm (0.3–1\\xa0cm, -\\xa0in), whereas petechiae measure less than 3\\xa0mm.\\n\\nA non-blanching rash can be a symptom of bacterial meningitis, but this is not the exclusive cause.\\n\\nReferences\\n\\nExternal links \\n\\nCutaneous conditions'"
      ]
     },
     "execution_count": 33,
     "metadata": {},
     "output_type": "execute_result"
    }
   ],
   "source": [
    "df.set_index(\"title\").loc[\"Non-blanching rash\"][\"text\"]"
   ]
  },
  {
   "cell_type": "code",
   "execution_count": 34,
   "id": "63b63a06",
   "metadata": {},
   "outputs": [
    {
     "data": {
      "text/plain": [
       "\"Gradient-enhanced kriging (GEK) is a surrogate modeling technique used in engineering. A surrogate model (alternatively known as a metamodel, response surface or emulator) is a prediction of the output of an expensive computer code. \\nThis prediction is based on a small number of evaluations of the expensive computer code.\\n\\nIntroduction \\n\\nAdjoint solvers are now becoming available in a range of computational fluid dynamics (CFD) solvers, such as Fluent, OpenFOAM, SU2 and US3D. Originally developed for optimization, adjoint solvers are now finding more and more use in uncertainty quantification.\\n\\nLinear speedup \\nAn adjoint solver allows one to compute the gradient of the quantity of interest with respect to all design parameters at the cost of one additional solve. This, potentially, leads to a linear speedup: the computational cost of constructing an accurate surrogate decrease, and the resulting computational speedup  scales linearly with the number  of design parameters.\\n\\nThe reasoning behind this linear speedup is straightforward. Assume we run  primal solves and  adjoint solves, at a total cost of . This results in  data;  values for the quantity of interest and  partial derivatives in each of the  gradients. Now assume that each partial derivative provides as much information for our surrogate as a single primal solve. Then, the total cost of getting the same amount of information from primal solves only is . The speedup is the ratio of these costs:\\n\\nA linear speedup has been demonstrated for a fluid-structure interaction problem  and for a transonic airfoil.\\n\\nNoise \\nOne issue with adjoint-based gradients in CFD is that they can be particularly noisy.\\n \\n \\nWhen derived in a Bayesian framework, GEK allows one to incorporate not only the gradient information, but also the uncertainty in that gradient information.\\n\\nApproach \\nWhen using GEK one takes the following steps:\\n\\n Create a design of experiment (DoE): The DoE or 'sampling plan' is a list of different locations in the design space. The DoE indicates which combinations of parameters one will use to sample the computer simulation. With Kriging and GEK, a common choice is to use a Latin Hypercube Design (LHS) design with a 'maximin' criterion. The LHS-design is available in scripting codes like MATLAB or Python.\\n Make observations: For each sample in our DoE one runs the computer simulation to obtain the Quantity of Interest (QoI).\\n Construct the surrogate: One uses the GEK predictor equations to construct the surrogate conditional on the obtained observations.\\n\\nOnce the surrogate has been constructed it can be used in different ways, for example for surrogate-based uncertainty quantification (UQ) or optimization.\\n\\nPredictor equations \\nIn a Bayesian framework, we use Bayes' Theorem to predict the Kriging mean and covariance conditional on the observations. When using GEK, the observations are usually the results of a number of computer simulations. GEK can be interpreted as a form of Gaussian process regression.\\n\\nKriging \\nAlong the lines of,  we are interested in the output  of our computer simulation, for which we assume the normal prior probability distribution:\\n\\nwith prior mean  and prior covariance matrix . The observations  have the normal likelihood:\\n\\nwith  the observation matrix and  the observation error covariance matrix, which contains the observation uncertainties. After applying Bayes' Theorem we obtain a normally distributed posterior probability distribution, with Kriging mean:\\n\\nand Kriging covariance:\\n\\nwhere we have the gain matrix:\\n\\nIn Kriging, the prior covariance matrix  is generated from a covariance function. One example of a covariance function is the Gaussian covariance:\\n\\nwhere we sum over the dimensions  and  are the input parameters. The hyperparameters ,  and  can be estimated from a Maximum Likelihood Estimate (MLE).\\n\\nIndirect GEK \\nThere are several ways of implementing GEK. The first method, indirect GEK, defines a small but finite stepsize , and uses the gradient information to append synthetic data to the observations , see for example. Indirect Kriging is sensitive to the choice of the step-size  and cannot include observation uncertainties.\\n\\nDirect GEK (through prior covariance matrix) \\nDirect GEK is a form of co-Kriging, where we add the gradient information as co-variables. This can be done by modifying the prior covariance  or by modifying the observation matrix ; both approaches lead to the same GEK predictor. When we construct direct GEK through the prior covariance matrix, we append the partial derivatives to , and modify the prior covariance matrix  such that it also contains the derivatives (and second derivatives) of the covariance function, see for example \\n\\n.\\nThe main advantages of direct GEK over indirect GEK are: 1) we do not have to choose a step-size, 2) we can include observation uncertainties for the gradients in , and 3) it is less susceptible to poor conditioning of the gain matrix .\\n\\nDirect GEK (through observation matrix) \\nAnother way of arriving at the same direct GEK predictor is to append the partial derivatives to the observations  and include partial derivative operators in the observation matrix , see for example.\\n\\nGradient-enhanced kriging for high-dimensional problems (Indirect method) \\n\\nCurrent gradient-enhanced kriging methods do not scale well with the number of sampling points due to the rapid growth in the size of the correlation matrix, where new information is added for each sampling point in each direction of the design space. Furthermore, they do not scale well with the number of independent variables due to the increase in the number of hyperparameters that needs to be estimated.\\nTo address this issue, a new gradient-enhanced surrogate model approach that drastically reduced the number of hyperparameters through the use of the partial-least squares method that maintains accuracy is developed. In addition, this method is able to control the size of the correlation matrix by adding only relevant points defined through the information provided by the partial-least squares method. For more details, see.\\nThis approach is implemented into the Surrogate Modeling Toolbox (SMT) in Python (https://github.com/SMTorg/SMT), and it runs on Linux, macOS, and Windows. SMT is distributed under the New BSD license.\\n\\nAugmented gradient-enhanced kriging (direct method) \\nA universal augmented framework is proposed in  to append derivatives of any order to the observations. This method can be viewed as a generalization of Direct GEK that takes into account higher-order derivatives. Also, the observations and derivatives are not required to be measured at the same location under this framework.\\n\\nExample: Drag coefficient of a transonic airfoil \\n\\nAs an example, consider the flow over a transonic airfoil. The airfoil is operating at a Mach number of 0.8 and an angle of attack of 1.25 degrees. We assume that the shape of the airfoil is uncertain; the top and the bottom of the airfoil might have shifted up or down due to manufacturing tolerances. In other words, the shape of the airfoil that we are using might be slightly different from the airfoil that we designed.\\n\\nOn the right we see the reference results for the drag coefficient of the airfoil, based on a large number of CFD simulations. Note that the lowest drag, which corresponds to 'optimal' performance, is close to the undeformed 'baseline' design of the airfoil at (0,0).\\n\\nAfter designing a sampling plan (indicated by the gray dots) and running the CFD solver at those sample locations, we obtain the Kriging surrogate model. The Kriging surrogate is close to the reference, but perhaps not as close as we would desire.\\n\\nIn the last figure, we have improved the accuracy of this surrogate model by including the adjoint-based gradient information, indicated by the arrows, and applying GEK.\\n\\nApplications \\nGEK has found the following applications:\\n\\n 1993: Design problem for a borehole model test-function.\\n 2002: Aerodynamic design of a supersonic business jet.\\n 2008: Uncertainty quantification for a transonic airfoil with uncertain shape parameters.\\n 2009: Uncertainty quantification for a transonic airfoil with uncertain shape parameters.\\n 2012: Surrogate model construction for a panel divergence problem, a fluid-structure interaction problem. Demonstration of a linear speedup.\\n 2013: Uncertainty quantification for a transonic airfoil with uncertain angle of attack and Mach number.\\n 2014: Uncertainty quantification for the RANS simulation of an airfoil, with the model parameters of the k-epsilon turbulence model as uncertain inputs.\\n 2015: Uncertainty quantification for the Euler simulation of a transonic airfoil with uncertain shape parameters. Demonstration of a linear speedup.\\n 2016: Surrogate model construction for two fluid-structure interaction problems.\\n 2017: Large review of gradient-enhanced surrogate models including many details concerning gradient-enhanced kriging.\\n 2017: Uncertainty propagation for a nuclear energy system.\\n 2020: Molecular geometry optimization.\\n\\nReferences \\n\\nMathematical modeling\\nComputational fluid dynamics\""
      ]
     },
     "execution_count": 34,
     "metadata": {},
     "output_type": "execute_result"
    }
   ],
   "source": [
    "df.set_index(\"title\").loc[\"Gradient-enhanced kriging\"][\"text\"]"
   ]
  }
 ],
 "metadata": {
  "kernelspec": {
   "display_name": "Python 3 (ipykernel)",
   "language": "python",
   "name": "python3"
  },
  "language_info": {
   "codemirror_mode": {
    "name": "ipython",
    "version": 3
   },
   "file_extension": ".py",
   "mimetype": "text/x-python",
   "name": "python",
   "nbconvert_exporter": "python",
   "pygments_lexer": "ipython3",
   "version": "3.10.9"
  }
 },
 "nbformat": 4,
 "nbformat_minor": 5
}
