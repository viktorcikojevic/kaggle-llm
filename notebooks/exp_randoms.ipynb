{
 "cells": [
  {
   "cell_type": "code",
   "execution_count": null,
   "id": "565cf7e3",
   "metadata": {},
   "outputs": [],
   "source": [
    "import pandas as pd\n",
    "\n",
    "\n",
    "# df = pd.read_csv(\"/home/clay/research/kaggle/kaggle_llm/data/kaggle-llm-science-exam/train.csv\")\n",
    "df = pd.read_csv(\"/home/clay/research/kaggle/kaggle_llm/work_dirs/peft-big_science_mt0_xl-2023-07-31-23-08-01/train_df.csv\")"
   ]
  },
  {
   "cell_type": "code",
   "execution_count": null,
   "id": "144cca2e",
   "metadata": {},
   "outputs": [],
   "source": [
    "choices = [\"A\", \"B\", \"C\", \"D\", \"E\"]\n",
    "\n",
    "\n",
    "def count_words(text):\n",
    "    return sum([1 for i in text.split() if len(i) > 0])\n",
    "\n",
    "\n",
    "df[\"prompt_wc\"] = df[\"prompt\"].apply(count_words)\n",
    "for c in choices:\n",
    "    df[f\"{c}_wc\"] = df[c].apply(count_words)\n",
    "df[\"choice_wc\"] = df[[f\"{c}_wc\" for c in choices]].max(axis=1)\n",
    "df[\"all_wc\"] = df[\"prompt_wc\"] + df[\"choice_wc\"]\n",
    "df = df.sort_values(\"all_wc\", ascending=False)"
   ]
  },
  {
   "cell_type": "code",
   "execution_count": null,
   "id": "25475a53",
   "metadata": {},
   "outputs": [],
   "source": [
    "df[df[[\"prompt\", \"A\", \"B\", \"C\", \"D\", \"E\"]].isna().any(axis=1)]"
   ]
  },
  {
   "cell_type": "code",
   "execution_count": null,
   "id": "74218e44",
   "metadata": {},
   "outputs": [],
   "source": [
    "df[\"all_wc\"].describe()"
   ]
  },
  {
   "cell_type": "code",
   "execution_count": null,
   "id": "542bdf08",
   "metadata": {},
   "outputs": [],
   "source": [
    "df[\"prompt_wc\"].describe()"
   ]
  },
  {
   "cell_type": "code",
   "execution_count": null,
   "id": "1af55e1f",
   "metadata": {},
   "outputs": [],
   "source": [
    "df[\"choice_wc\"].describe()"
   ]
  },
  {
   "cell_type": "code",
   "execution_count": null,
   "id": "d066a45c",
   "metadata": {},
   "outputs": [],
   "source": [
    "df[\"all_wc\"].hist(bins=50)\n",
    "df[\"prompt_wc\"].hist(bins=50)\n",
    "df[\"choice_wc\"].hist(bins=50)"
   ]
  },
  {
   "cell_type": "code",
   "execution_count": null,
   "id": "c3a58907",
   "metadata": {},
   "outputs": [],
   "source": [
    "i = 0\n",
    "print(df.iloc[i][\"all_wc\"], df.iloc[i][\"prompt_wc\"], df.iloc[i][\"choice_wc\"])\n",
    "print(df.iloc[i][\"prompt\"])\n",
    "print()\n",
    "print(\"A\", df.iloc[i][\"A\"])\n",
    "print()\n",
    "print(\"B\", df.iloc[i][\"B\"])\n",
    "print()\n",
    "print(\"C\", df.iloc[i][\"C\"])\n",
    "print()\n",
    "print(\"D\", df.iloc[i][\"D\"])\n",
    "print()\n",
    "print(\"E\", df.iloc[i][\"E\"])"
   ]
  },
  {
   "cell_type": "code",
   "execution_count": null,
   "id": "1224d340",
   "metadata": {},
   "outputs": [],
   "source": [
    "print(df.iloc[-1][\"wc\"])\n",
    "print(df.iloc[-1][\"prompt\"])"
   ]
  },
  {
   "cell_type": "code",
   "execution_count": null,
   "id": "7097e9d2",
   "metadata": {},
   "outputs": [],
   "source": [
    "df.shape"
   ]
  },
  {
   "cell_type": "code",
   "execution_count": null,
   "id": "c977e343",
   "metadata": {},
   "outputs": [],
   "source": [
    "long_questions = df[df[\"wc\"] > 100]"
   ]
  },
  {
   "cell_type": "code",
   "execution_count": null,
   "id": "a704626a",
   "metadata": {},
   "outputs": [],
   "source": [
    "i = 100\n",
    "print(df.iloc[i][\"wc\"])\n",
    "print(df.iloc[i][\"prompt\"])\n",
    "print(df.iloc[i][[\"A\", \"B\", \"C\", \"D\", \"E\"]])"
   ]
  },
  {
   "cell_type": "code",
   "execution_count": null,
   "id": "b5803db3",
   "metadata": {},
   "outputs": [],
   "source": []
  },
  {
   "cell_type": "code",
   "execution_count": null,
   "id": "03739b8e",
   "metadata": {},
   "outputs": [],
   "source": []
  },
  {
   "cell_type": "code",
   "execution_count": null,
   "id": "1310619b",
   "metadata": {},
   "outputs": [],
   "source": [
    "from pathlib import Path\n",
    "\n",
    "\n",
    "lines = []\n",
    "\n",
    "for line in Path(\"/home/clay/delete_me.txt\").read_text().split(\"\\n\"):\n",
    "    try:\n",
    "        lines.append(int(line))\n",
    "    except:\n",
    "        continue"
   ]
  },
  {
   "cell_type": "code",
   "execution_count": null,
   "id": "ee1abd71",
   "metadata": {},
   "outputs": [],
   "source": [
    "import matplotlib.pyplot as plt\n",
    "\n",
    "\n",
    "plt.hist(lines, bins=50)"
   ]
  },
  {
   "cell_type": "code",
   "execution_count": null,
   "id": "31078113",
   "metadata": {},
   "outputs": [],
   "source": []
  },
  {
   "cell_type": "code",
   "execution_count": null,
   "id": "772faa7f",
   "metadata": {},
   "outputs": [],
   "source": []
  },
  {
   "cell_type": "code",
   "execution_count": null,
   "id": "91f839ea",
   "metadata": {},
   "outputs": [],
   "source": []
  },
  {
   "cell_type": "code",
   "execution_count": null,
   "id": "7e9d94eb",
   "metadata": {},
   "outputs": [],
   "source": [
    "import matplotlib.pyplot as plt\n",
    "import numpy as np\n",
    "plt.style.use(\"ggplot\")\n",
    "\n",
    "\n",
    "xs = np.arange(1, 100000)\n",
    "ys = 32 * ((xs + 31) // 32)\n",
    "plt.plot(xs[:100], ys[:100])"
   ]
  },
  {
   "cell_type": "code",
   "execution_count": null,
   "id": "f84cf1ff",
   "metadata": {},
   "outputs": [],
   "source": []
  }
 ],
 "metadata": {
  "kernelspec": {
   "display_name": "Python 3 (ipykernel)",
   "language": "python",
   "name": "python3"
  },
  "language_info": {
   "codemirror_mode": {
    "name": "ipython",
    "version": 3
   },
   "file_extension": ".py",
   "mimetype": "text/x-python",
   "name": "python",
   "nbconvert_exporter": "python",
   "pygments_lexer": "ipython3",
   "version": "3.10.9"
  }
 },
 "nbformat": 4,
 "nbformat_minor": 5
}
