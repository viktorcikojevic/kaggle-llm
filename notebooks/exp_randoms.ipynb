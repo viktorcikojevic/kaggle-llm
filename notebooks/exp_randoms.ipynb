{
 "cells": [
  {
   "cell_type": "code",
   "execution_count": 82,
   "id": "1f499456",
   "metadata": {},
   "outputs": [],
   "source": [
    "import pandas as pd\n",
    "\n",
    "\n",
    "# df = pd.read_csv(\"/home/clay/research/kaggle/kaggle_llm/data/kaggle-llm-science-exam/train.csv\")\n",
    "df = pd.read_csv(\"/home/clay/research/kaggle/kaggle_llm/work_dirs/peft-big_science_mt0_xl-2023-07-31-23-08-01/train_df.csv\")"
   ]
  },
  {
   "cell_type": "code",
   "execution_count": 83,
   "id": "c6d82131",
   "metadata": {},
   "outputs": [],
   "source": [
    "choices = [\"A\", \"B\", \"C\", \"D\", \"E\"]\n",
    "\n",
    "\n",
    "def count_words(text):\n",
    "    return sum([1 for i in text.split() if len(i) > 0])\n",
    "\n",
    "\n",
    "df[\"prompt_wc\"] = df[\"prompt\"].apply(count_words)\n",
    "for c in choices:\n",
    "    df[f\"{c}_wc\"] = df[c].apply(count_words)\n",
    "df[\"choice_wc\"] = df[[f\"{c}_wc\" for c in choices]].max(axis=1)\n",
    "df[\"all_wc\"] = df[\"prompt_wc\"] + df[\"choice_wc\"]\n",
    "df = df.sort_values(\"all_wc\", ascending=False)"
   ]
  },
  {
   "cell_type": "code",
   "execution_count": 86,
   "id": "086385ae",
   "metadata": {},
   "outputs": [
    {
     "data": {
      "text/html": [
       "<div>\n",
       "<style scoped>\n",
       "    .dataframe tbody tr th:only-of-type {\n",
       "        vertical-align: middle;\n",
       "    }\n",
       "\n",
       "    .dataframe tbody tr th {\n",
       "        vertical-align: top;\n",
       "    }\n",
       "\n",
       "    .dataframe thead th {\n",
       "        text-align: right;\n",
       "    }\n",
       "</style>\n",
       "<table border=\"1\" class=\"dataframe\">\n",
       "  <thead>\n",
       "    <tr style=\"text-align: right;\">\n",
       "      <th></th>\n",
       "      <th>Unnamed: 0</th>\n",
       "      <th>index</th>\n",
       "      <th>prompt</th>\n",
       "      <th>A</th>\n",
       "      <th>B</th>\n",
       "      <th>C</th>\n",
       "      <th>D</th>\n",
       "      <th>E</th>\n",
       "      <th>answer</th>\n",
       "      <th>topic</th>\n",
       "      <th>prompt_wc</th>\n",
       "      <th>A_wc</th>\n",
       "      <th>B_wc</th>\n",
       "      <th>C_wc</th>\n",
       "      <th>D_wc</th>\n",
       "      <th>E_wc</th>\n",
       "      <th>choice_wc</th>\n",
       "      <th>all_wc</th>\n",
       "    </tr>\n",
       "  </thead>\n",
       "  <tbody>\n",
       "  </tbody>\n",
       "</table>\n",
       "</div>"
      ],
      "text/plain": [
       "Empty DataFrame\n",
       "Columns: [Unnamed: 0, index, prompt, A, B, C, D, E, answer, topic, prompt_wc, A_wc, B_wc, C_wc, D_wc, E_wc, choice_wc, all_wc]\n",
       "Index: []"
      ]
     },
     "execution_count": 86,
     "metadata": {},
     "output_type": "execute_result"
    }
   ],
   "source": [
    "df[df[[\"prompt\", \"A\", \"B\", \"C\", \"D\", \"E\"]].isna().any(axis=1)]"
   ]
  },
  {
   "cell_type": "code",
   "execution_count": 70,
   "id": "4ecfff81",
   "metadata": {},
   "outputs": [
    {
     "data": {
      "text/plain": [
       "count    200.000000\n",
       "mean      41.575000\n",
       "std       19.657478\n",
       "min       10.000000\n",
       "25%       26.750000\n",
       "50%       38.500000\n",
       "75%       53.000000\n",
       "max      138.000000\n",
       "Name: all_wc, dtype: float64"
      ]
     },
     "execution_count": 70,
     "metadata": {},
     "output_type": "execute_result"
    }
   ],
   "source": [
    "df[\"all_wc\"].describe()"
   ]
  },
  {
   "cell_type": "code",
   "execution_count": 71,
   "id": "bd1cbfd1",
   "metadata": {},
   "outputs": [
    {
     "data": {
      "text/plain": [
       "count    200.000000\n",
       "mean      11.360000\n",
       "std        6.321408\n",
       "min        3.000000\n",
       "25%        6.000000\n",
       "50%       10.000000\n",
       "75%       14.000000\n",
       "max       42.000000\n",
       "Name: prompt_wc, dtype: float64"
      ]
     },
     "execution_count": 71,
     "metadata": {},
     "output_type": "execute_result"
    }
   ],
   "source": [
    "df[\"prompt_wc\"].describe()"
   ]
  },
  {
   "cell_type": "code",
   "execution_count": 72,
   "id": "9093b899",
   "metadata": {},
   "outputs": [
    {
     "data": {
      "text/plain": [
       "count    200.000000\n",
       "mean      30.215000\n",
       "std       18.629387\n",
       "min        1.000000\n",
       "25%       17.000000\n",
       "50%       28.000000\n",
       "75%       42.000000\n",
       "max      118.000000\n",
       "Name: choice_wc, dtype: float64"
      ]
     },
     "execution_count": 72,
     "metadata": {},
     "output_type": "execute_result"
    }
   ],
   "source": [
    "df[\"choice_wc\"].describe()"
   ]
  },
  {
   "cell_type": "code",
   "execution_count": 73,
   "id": "8f6376bf",
   "metadata": {},
   "outputs": [
    {
     "data": {
      "text/plain": [
       "<AxesSubplot: >"
      ]
     },
     "execution_count": 73,
     "metadata": {},
     "output_type": "execute_result"
    },
    {
     "data": {
      "image/png": "[encoded data removed]",
      "text/plain": [
       "<Figure size 640x480 with 1 Axes>"
      ]
     },
     "metadata": {},
     "output_type": "display_data"
    }
   ],
   "source": [
    "df[\"all_wc\"].hist(bins=50)\n",
    "df[\"prompt_wc\"].hist(bins=50)\n",
    "df[\"choice_wc\"].hist(bins=50)"
   ]
  },
  {
   "cell_type": "code",
   "execution_count": 74,
   "id": "a4337da9",
   "metadata": {},
   "outputs": [
    {
     "name": "stdout",
     "output_type": "stream",
     "text": [
      "138 20 118\n",
      "What is the evidence for the existence of a supermassive black hole at the center of the Milky Way galaxy?\n",
      "\n",
      "A The Milky Way galaxy has a supermassive black hole at its center because of the bright flare activity observed near Sagittarius A*. The radius of the central object must be less than 17 light-hours, because otherwise S2 would collide with it. Observations of the star S14 indicate that the radius is no more than 6.25 light-hours, about the diameter of Uranus' orbit. No known astronomical object other than a black hole can contain 4.0 million M☉ in this volume of space.\n",
      "\n",
      "B The Milky Way galaxy has a supermassive black hole at its center because the star S14 follows an elliptical orbit with a period of 15.2 years and a pericenter of 17 light-hours from the center of the central object. From the motion of star S14, the object's mass can be estimated as 4.0 million M☉, or about 7.96×1036 kg. The radius of the central object must be less than 17 light-hours, because otherwise S14 would collide with it. Observations of the star S2 indicate that the radius is no more than 6.25 light-hours, about the diameter of Uranus' orbit. No known astronomical object other than a black hole can contain 4.0 million M☉ in this volume of space.\n",
      "\n",
      "C The Milky Way galaxy has a supermassive black hole at its center because of the bright flare activity observed near Sagittarius A*. The radius of the central object must be less than 6.25 light-hours, about the diameter of Uranus' orbit. Observations of the star S2 indicate that the radius is no more than 17 light-hours, because otherwise S2 would collide with it. No known astronomical object other than a black hole can contain 4.0 million M☉ in this volume of space.\n",
      "\n",
      "D The Milky Way galaxy has a supermassive black hole at its center because it is the only explanation for the bright flare activity observed near Sagittarius A* at a separation of six to ten times the gravitational radius of the candidate SMBH.\n",
      "\n",
      "E The star S2 follows an elliptical orbit with a period of 15.2 years and a pericenter of 17 light-hours from the center of the central object. From the motion of star S2, the object's mass can be estimated as 4.0 million M☉, or about 7.96×1036 kg. The radius of the central object must be less than 17 light-hours, because otherwise S2 would collide with it. Observations of the star S14 indicate that the radius is no more than 6.25 light-hours, about the diameter of Uranus' orbit. No known astronomical object other than a black hole can contain 4.0 million M☉ in this volume of space.\n"
     ]
    }
   ],
   "source": [
    "i = 0\n",
    "print(df.iloc[i][\"all_wc\"], df.iloc[i][\"prompt_wc\"], df.iloc[i][\"choice_wc\"])\n",
    "print(df.iloc[i][\"prompt\"])\n",
    "print()\n",
    "print(\"A\", df.iloc[i][\"A\"])\n",
    "print()\n",
    "print(\"B\", df.iloc[i][\"B\"])\n",
    "print()\n",
    "print(\"C\", df.iloc[i][\"C\"])\n",
    "print()\n",
    "print(\"D\", df.iloc[i][\"D\"])\n",
    "print()\n",
    "print(\"E\", df.iloc[i][\"E\"])"
   ]
  },
  {
   "cell_type": "code",
   "execution_count": 13,
   "id": "aa2e4c93",
   "metadata": {},
   "outputs": [
    {
     "name": "stdout",
     "output_type": "stream",
     "text": [
      "22\n",
      "What does the isothermal compressibility represent?\n",
      "context 0: The reciprocal of the bulk modulus at fixed temperature is called the isothermal compressibility.\n"
     ]
    }
   ],
   "source": [
    "print(df.iloc[-1][\"wc\"])\n",
    "print(df.iloc[-1][\"prompt\"])"
   ]
  },
  {
   "cell_type": "code",
   "execution_count": 14,
   "id": "40334966",
   "metadata": {},
   "outputs": [
    {
     "data": {
      "text/plain": [
       "(18057, 10)"
      ]
     },
     "execution_count": 14,
     "metadata": {},
     "output_type": "execute_result"
    }
   ],
   "source": [
    "df.shape"
   ]
  },
  {
   "cell_type": "code",
   "execution_count": 15,
   "id": "8cafa0d0",
   "metadata": {},
   "outputs": [],
   "source": [
    "long_questions = df[df[\"wc\"] > 100]"
   ]
  },
  {
   "cell_type": "code",
   "execution_count": 16,
   "id": "4980c7f9",
   "metadata": {},
   "outputs": [
    {
     "name": "stdout",
     "output_type": "stream",
     "text": [
      "86\n",
      "Which type of equations of state give more accurate results than traditional cubic equations of state?\n",
      "context 0: In general, physically based equations of state give more accurate results than traditional cubic equations of state, especially for systems containing liquids or solids.\n",
      "context 1: For process engineering, cubic equations of state are today still highly relevant, e.g. the Peng Robinson equation of state or the Soave Redlich Kwong equation of state.\n",
      "context 2: There is a large number of physically based equations of state available today.\n",
      "A          Historical equations of state\n",
      "B           Empirical equations of state\n",
      "C    Physically based equations of state\n",
      "D      Multiparameter equations of state\n",
      "E                          Ideal gas law\n",
      "Name: 4805, dtype: object\n"
     ]
    }
   ],
   "source": [
    "i = 100\n",
    "print(df.iloc[i][\"wc\"])\n",
    "print(df.iloc[i][\"prompt\"])\n",
    "print(df.iloc[i][[\"A\", \"B\", \"C\", \"D\", \"E\"]])"
   ]
  },
  {
   "cell_type": "code",
   "execution_count": null,
   "id": "af6951d7",
   "metadata": {},
   "outputs": [],
   "source": []
  },
  {
   "cell_type": "code",
   "execution_count": null,
   "id": "8d32d4a9",
   "metadata": {},
   "outputs": [],
   "source": []
  },
  {
   "cell_type": "code",
   "execution_count": 80,
   "id": "1b44844a",
   "metadata": {},
   "outputs": [],
   "source": [
    "from pathlib import Path\n",
    "\n",
    "\n",
    "lines = []\n",
    "\n",
    "for line in Path(\"/home/clay/delete_me.txt\").read_text().split(\"\\n\"):\n",
    "    try:\n",
    "        lines.append(int(line))\n",
    "    except:\n",
    "        continue"
   ]
  },
  {
   "cell_type": "code",
   "execution_count": 81,
   "id": "3041b1fb",
   "metadata": {},
   "outputs": [
    {
     "data": {
      "text/plain": [
       "(array([   3.,    2.,   15.,   21.,   53.,   80.,  135.,  214.,  283.,\n",
       "         416.,  435.,  658.,  651.,  857.,  805., 1005.,  897.,  874.,\n",
       "        1038.,  811.,  964.,  789.,  920.,  682.,  599.,  731.,  571.,\n",
       "         577.,  472.,  549.,  387.,  403.,  275.,  260.,  272.,  165.,\n",
       "         164.,  100.,   70.,   40.,   31.,   18.,   11.,   11.,   10.,\n",
       "           3.,    2.,    3.,    2.,    3.]),\n",
       " array([ 51.  ,  56.44,  61.88,  67.32,  72.76,  78.2 ,  83.64,  89.08,\n",
       "         94.52,  99.96, 105.4 , 110.84, 116.28, 121.72, 127.16, 132.6 ,\n",
       "        138.04, 143.48, 148.92, 154.36, 159.8 , 165.24, 170.68, 176.12,\n",
       "        181.56, 187.  , 192.44, 197.88, 203.32, 208.76, 214.2 , 219.64,\n",
       "        225.08, 230.52, 235.96, 241.4 , 246.84, 252.28, 257.72, 263.16,\n",
       "        268.6 , 274.04, 279.48, 284.92, 290.36, 295.8 , 301.24, 306.68,\n",
       "        312.12, 317.56, 323.  ]),\n",
       " <BarContainer object of 50 artists>)"
      ]
     },
     "execution_count": 81,
     "metadata": {},
     "output_type": "execute_result"
    },
    {
     "data": {
      "image/png": "[encoded data removed]",
      "text/plain": [
       "<Figure size 640x480 with 1 Axes>"
      ]
     },
     "metadata": {},
     "output_type": "display_data"
    }
   ],
   "source": [
    "import matplotlib.pyplot as plt\n",
    "\n",
    "\n",
    "plt.hist(lines, bins=50)"
   ]
  },
  {
   "cell_type": "code",
   "execution_count": null,
   "id": "424dfd72",
   "metadata": {},
   "outputs": [],
   "source": []
  }
 ],
 "metadata": {
  "kernelspec": {
   "display_name": "Python 3 (ipykernel)",
   "language": "python",
   "name": "python3"
  },
  "language_info": {
   "codemirror_mode": {
    "name": "ipython",
    "version": 3
   },
   "file_extension": ".py",
   "mimetype": "text/x-python",
   "name": "python",
   "nbconvert_exporter": "python",
   "pygments_lexer": "ipython3",
   "version": "3.10.9"
  }
 },
 "nbformat": 4,
 "nbformat_minor": 5
}
