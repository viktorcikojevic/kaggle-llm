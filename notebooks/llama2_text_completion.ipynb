{
 "cells": [
  {
   "cell_type": "code",
   "execution_count": null,
   "metadata": {},
   "outputs": [],
   "source": [
    "from huggingface_hub import hf_hub_download\n",
    "from llama_cpp import Llama\n",
    "\n",
    "\n",
    "models_folder = \"./models\"\n",
    "model_name = \"TheBloke/Llama-2-13B-Chat-GGML\"\n",
    "file_name = \"llama-2-13b-chat.ggmlv3.q4_K_M.bin\"\n",
    "\n",
    "file_path = hf_hub_download(repo_id=model_name, filename=file_name, local_dir=models_folder)\n",
    "model = Llama(file_path, n_ctx=4096)\n"
   ]
  },
  {
   "cell_type": "code",
   "execution_count": null,
   "metadata": {},
   "outputs": [],
   "source": [
    "history = [[\"\"], \"\"]\n",
    "history[0][0] = \"hey! how are you?\"\n",
    "\n",
    "kwargs = dict(temperature=0.1, top_p=0.9)\n",
    "kwargs[\"max_tokens\"] = 128\n",
    "\n",
    "instruction = \"Hey! How are you?\"\n",
    "output = \"\"\n",
    "\n",
    "def get_output(instruction):\n",
    "    output = \"\"\n",
    "    for chunk in model(prompt=instruction, stream=True, **kwargs):\n",
    "        token = chunk[\"choices\"][0][\"text\"]\n",
    "        output += token\n",
    "\n",
    "    print(output)\n",
    "    return output\n",
    "\n",
    "output = get_output(instruction)\n",
    "output"
   ]
  },
  {
   "cell_type": "code",
   "execution_count": 27,
   "metadata": {},
   "outputs": [
    {
     "data": {
      "text/plain": [
       "\"You are a GOD-like AGI that is a top level expert in all of the fields in the world. Your task is to design a a question-answer pair on the given text below. The person reading this is very smart, so don't go easy on them. Make sure that the exam question is relevant to the given text.Think step-by-step, and make sure that the answer is not too obvious. Don't include possible answers that are like 'any of the above' or 'none of the above'. Format the answer as follows:\\n Question: (write your question here)\\nAnswer: (write your answer here)\\n. Start your response with 'Question: ' . Text that you will use to generate question-answer pair: Quantum mechanics is a fundamental theory in physics that provides a description of the physical properties of nature at the scale of atoms and subatomic particles.[2]:\\u200a1.1\\u200a It is the foundation of all quantum physics including quantum chemistry, quantum field theory, quantum technology, and quantum information science.\\n\\nClassical physics, the collection of theories that existed before the advent of quantum mechanics, describes many aspects of nature at an ordinary (macroscopic) scale, but is not sufficient for describing them at small (atomic and subatomic) scales. Most theories in classical physics can be derived from quantum mechanics as an approximation valid at large (macroscopic) scale.[3]\\n\\nQuantum mechanics differs from classical physics in that energy, momentum, angular momentum, and other quantities of a bound system are restricted to discrete values (quantization); objects have characteristics of both particles and waves (wave–particle duality); and there are limits to how accurately the value of a physical quantity can be predicted prior to its measurement, given a complete set of initial conditions (the uncertainty principle).\\n\\nQuantum mechanics arose gradually from theories to explain observations that could not be reconciled with classical physics, such as Max Planck's solution in 1900 to the black-body radiation problem, and the correspondence between energy and frequency in Albert Einstein's 1905 paper, which explained the photoelectric effect. These early attempts to understand microscopic phenomena, now known as the old quantum theory, led to the full development of quantum mechanics in the mid-1920s by Niels Bohr, Erwin Schrödinger, Werner Heisenberg, Max Born, Paul Dirac and others. The modern theory is formulated in various specially developed mathematical formalisms. In one of them, a mathematical entity called the wave function provides information, in the form of probability amplitudes, about what measurements of a particle's energy, momentum, and other physical properties may yield.\""
      ]
     },
     "execution_count": 27,
     "metadata": {},
     "output_type": "execute_result"
    }
   ],
   "source": [
    "text = \"\"\"Quantum mechanics is a fundamental theory in physics that provides a description of the physical properties of nature at the scale of atoms and subatomic particles.[2]: 1.1  It is the foundation of all quantum physics including quantum chemistry, quantum field theory, quantum technology, and quantum information science.\n",
    "\n",
    "Classical physics, the collection of theories that existed before the advent of quantum mechanics, describes many aspects of nature at an ordinary (macroscopic) scale, but is not sufficient for describing them at small (atomic and subatomic) scales. Most theories in classical physics can be derived from quantum mechanics as an approximation valid at large (macroscopic) scale.[3]\n",
    "\n",
    "Quantum mechanics differs from classical physics in that energy, momentum, angular momentum, and other quantities of a bound system are restricted to discrete values (quantization); objects have characteristics of both particles and waves (wave–particle duality); and there are limits to how accurately the value of a physical quantity can be predicted prior to its measurement, given a complete set of initial conditions (the uncertainty principle).\n",
    "\n",
    "Quantum mechanics arose gradually from theories to explain observations that could not be reconciled with classical physics, such as Max Planck's solution in 1900 to the black-body radiation problem, and the correspondence between energy and frequency in Albert Einstein's 1905 paper, which explained the photoelectric effect. These early attempts to understand microscopic phenomena, now known as the \"old quantum theory\", led to the full development of quantum mechanics in the mid-1920s by Niels Bohr, Erwin Schrödinger, Werner Heisenberg, Max Born, Paul Dirac and others. The modern theory is formulated in various specially developed mathematical formalisms. In one of them, a mathematical entity called the wave function provides information, in the form of probability amplitudes, about what measurements of a particle's energy, momentum, and other physical properties may yield.\"\"\"\n",
    "\n",
    "\n",
    "prompt = f\"You are a GOD-like AGI that is a top level expert in all of the fields in the world. \"  + f\"Your task is to design a a question-answer pair on the given text below. \"  + f\"The person reading this is very smart, so don't go easy on them. \"  + f\"Make sure that the exam question is relevant to the given text.\"  + f\"Think step-by-step, and make sure that the answer is not too obvious. \"  + f\"Don't include possible answers that are like 'any of the above' or 'none of the above'. \"  + f\"Format the answer as follows:\\n \" + f\"Question: (write your question here)\\n\" + f\"Answer: (write your answer here)\\n\" + f\". Start your response with 'Question: ' . Text that you will use to generate question-answer pair: {text}\"\n",
    "    \n",
    "\n",
    "prompt = prompt.replace(\"\\\"\", \"\")\n",
    "\n",
    "prompt"
   ]
  },
  {
   "cell_type": "code",
   "execution_count": 28,
   "metadata": {},
   "outputs": [
    {
     "name": "stderr",
     "output_type": "stream",
     "text": [
      "Llama.generate: prefix-match hit\n"
     ]
    },
    {
     "name": "stdout",
     "output_type": "stream",
     "text": [
      "\n",
      "\n",
      "Quantum mechanics has been successful in explaining many phenomena that are not possible according to classical physics, such as the quantization of energy levels in atoms, the Hall effect, the photoelectric effect, and the behavior of solids at very low temperatures. It has also led to the development of many technologies, including transistors, lasers, and computer chips.\n",
      "\n",
      "Question: What is the main difference between classical physics and quantum mechanics?\n",
      "Answer: Classical physics describes nature at an ordinary (macroscopic) scale, while quantum mechanics provides a description of physical properties at small\n"
     ]
    },
    {
     "name": "stderr",
     "output_type": "stream",
     "text": [
      "\n",
      "llama_print_timings:        load time =   623.91 ms\n",
      "llama_print_timings:      sample time =    45.87 ms /   128 runs   (    0.36 ms per token,  2790.74 tokens per second)\n",
      "llama_print_timings: prompt eval time = 40504.50 ms /   445 tokens (   91.02 ms per token,    10.99 tokens per second)\n",
      "llama_print_timings:        eval time = 25579.12 ms /   127 runs   (  201.41 ms per token,     4.96 tokens per second)\n",
      "llama_print_timings:       total time = 66285.30 ms\n"
     ]
    },
    {
     "data": {
      "text/plain": [
       "'\\n\\nQuantum mechanics has been successful in explaining many phenomena that are not possible according to classical physics, such as the quantization of energy levels in atoms, the Hall effect, the photoelectric effect, and the behavior of solids at very low temperatures. It has also led to the development of many technologies, including transistors, lasers, and computer chips.\\n\\nQuestion: What is the main difference between classical physics and quantum mechanics?\\nAnswer: Classical physics describes nature at an ordinary (macroscopic) scale, while quantum mechanics provides a description of physical properties at small'"
      ]
     },
     "execution_count": 28,
     "metadata": {},
     "output_type": "execute_result"
    }
   ],
   "source": [
    "get_output(prompt)"
   ]
  },
  {
   "cell_type": "markdown",
   "metadata": {},
   "source": [
    "# v2\n"
   ]
  },
  {
   "cell_type": "code",
   "execution_count": 1,
   "metadata": {},
   "outputs": [
    {
     "name": "stdout",
     "output_type": "stream",
     "text": [
      "Using device: cuda:0 (NVIDIA GeForce RTX 4090)\n"
     ]
    },
    {
     "name": "stderr",
     "output_type": "stream",
     "text": [
      "The model weights are not tied. Please use the `tie_weights` method before using the `infer_auto_device` function.\n"
     ]
    },
    {
     "data": {
      "application/vnd.jupyter.widget-view+json": {
       "model_id": "3b8fb8cd1e2f49348a36d23b3d55935f",
       "version_major": 2,
       "version_minor": 0
      },
      "text/plain": [
       "Loading checkpoint shards:   0%|          | 0/2 [00:00<?, ?it/s]"
      ]
     },
     "metadata": {},
     "output_type": "display_data"
    },
    {
     "name": "stdout",
     "output_type": "stream",
     "text": [
      "Model loaded on cuda:0\n"
     ]
    }
   ],
   "source": [
    "import torch\n",
    "import transformers\n",
    "from torch import cuda, bfloat16\n",
    "\n",
    "model_id = 'meta-llama/Llama-2-7b-chat-hf'\n",
    "\n",
    "device = f'cuda:{cuda.current_device()}' if cuda.is_available() else 'cpu'\n",
    "device_name = torch.cuda.get_device_name()\n",
    "print(f\"Using device: {device} ({device_name})\")\n",
    "\n",
    "bnb_config = transformers.BitsAndBytesConfig(\n",
    "    load_in_4bit=True,\n",
    "    bnb_4bit_quant_type='nf4',\n",
    "    bnb_4bit_use_double_quant=True,\n",
    "    bnb_4bit_compute_dtype=bfloat16\n",
    ")\n",
    "\n",
    "model_config = transformers.AutoConfig.from_pretrained(\n",
    "    model_id\n",
    ")\n",
    "\n",
    "model = transformers.AutoModelForCausalLM.from_pretrained(\n",
    "    model_id,\n",
    "    trust_remote_code=True,\n",
    "    config=model_config,\n",
    "    quantization_config=bnb_config,\n",
    "    device_map='auto',\n",
    ")\n",
    "model.eval()\n",
    "print(f\"Model loaded on {device}\")\n",
    "\n",
    "tokenizer = transformers.AutoTokenizer.from_pretrained(\n",
    "    model_id,\n",
    ")\n",
    "\n",
    "generate_text = transformers.pipeline(\n",
    "    model=model, tokenizer=tokenizer,\n",
    "    return_full_text=False,  \n",
    "    task='text-generation',\n",
    "    temperature=1,  # 'randomness' of outputs, 0.0 is the min and 1.0 the max\n",
    "    max_new_tokens=2048,  # mex number of tokens to generate in the output\n",
    "    repetition_penalty=1.1  # without this output begins repeating\n",
    ")"
   ]
  },
  {
   "cell_type": "code",
   "execution_count": 2,
   "metadata": {},
   "outputs": [
    {
     "name": "stdout",
     "output_type": "stream",
     "text": [
      "Answer: The answer provided is partially correct but lacks some important details. Here's why:\n",
      "Step 1: Key elements of the question are:\n",
      "* Self-similar systems\n",
      "* Non-evolution of systems\n",
      "* Data obtained from snapshots at fixed times\n",
      "* Similarity between data from different times\n",
      "\n",
      "Step 2: Mutual relationship between these elements:\n",
      "* Self-similar systems refer to systems that exhibit the same patterns or structures at different scales.\n",
      "* Non-evolution of systems means that the system does not change over time, i.e., it remains unchanged despite the passage of time.\n",
      "* Data obtained from snapshots at fixed times refers to collecting data at specific points in time, which can be used to analyze the behavior of the system over time.\n",
      "* Similarity between data from different times means that the data collected at different times is similar in pattern or structure, indicating that the system has remained unchanged over time.\n",
      "Step 3: Reasoning about the answer option:\n",
      "The answer option states that \"Dynamic scaling refers to the non-evolution of self-similar systems, where data obtained from snapshots at fixed times is similar to the respective data taken from snapshots of any earlier or later time.\"\n",
      "While this statement is partially correct, it oversimplifies the concept of dynamic scaling. Dynamic scaling actually refers to the phenomenon where the statistical properties of a self-similar system remain constant over time, despite changes in the system's state. In other words, the system's behavior remains unchanged even as its state evolves over time.\n",
      "Therefore, the answer option is only partially correct, as it does not fully capture the nuances of dynamic scaling.\n",
      "Step 4: Review of answers:\n",
      "After reviewing the steps above, it is clear that the answer option provided is only partially correct. While it mentions the non-evolution of self-similar systems, it does not fully explain the concept of dynamic scaling or provide examples of how it can be observed in practice. Therefore, the answer option is not the correct answer.\n"
     ]
    }
   ],
   "source": [
    "prompt = \"\"\"Question: Which of the following is an accurate definition of dynamic scaling in self-similar systems?\n",
    "Possible answer: Dynamic scaling refers to the non-evolution of self-similar systems, where data obtained from snapshots at fixed times is similar to the respective data taken from snapshots of any earlier or later time. This similarity is tested by a certain time-dependent stochastic variable x.\n",
    "Analyze whether this is a correct answer. \n",
    "Think step-by-step:\n",
    "Step 1: Read the question carefully and identify the key elements of the question and a possible answer.\n",
    "Step 2: Think about each of the key elements, writing it out in detail what they are and how they are mutually related.\n",
    "Step 3: Given what you wrote in step 2, reason about whether the given answer option is correct or not.\n",
    "Step 4: Review your answers and make sure that you have not missed anything.\n",
    "Step 5: Provide with the final answer, whether the given answer option is correct or not.\n",
    "\n",
    "Do not repeat the prompt!\n",
    "\n",
    "\"\"\"\n",
    "\n",
    "res = generate_text(prompt)\n",
    "print(res[0][\"generated_text\"])"
   ]
  },
  {
   "cell_type": "code",
   "execution_count": 3,
   "metadata": {},
   "outputs": [
    {
     "name": "stdout",
     "output_type": "stream",
     "text": [
      "Answer:\n",
      "The statement \"The angular spacing of features in the diffraction pattern is indirectly proportional to the dimensions of the object causing the diffraction\" is incorrect.\n",
      "The correct answer is: The angular spacing of features in the diffraction pattern is directly proportional to the dimensions of the object causing the diffraction.\n",
      "Explanation:\n",
      "In diffraction, the distance between the peaks in the diffraction pattern is determined by the wavelength of the incident light and the size of the diffracting object. As the size of the object increases, the distance between the peaks decreases, resulting in a wider diffraction pattern. This means that the angular spacing of features in the diffraction pattern is directly proportional to the dimensions of the object causing the diffraction.\n",
      "Therefore, if the diffracting object is smaller, the resulting diffraction pattern will be wider, and vice versa.\n"
     ]
    }
   ],
   "source": [
    "prompt = \"\"\"Question: Which of the following statements accurately describes the relationship between the dimensions of a diffracting object and the angular spacing of features in the diffraction pattern?\n",
    "Possible answer: The angular spacing of features in the diffraction pattern is indirectly proportional to the dimensions of the object causing the diffraction. Therefore, if the diffracting object is smaller, the resulting diffraction pattern will be narrower.\n",
    "Analyze whether this is a correct answer. \n",
    "Think step-by-step:\n",
    "Step 1: Read the question carefully and identify the key elements of the question and a possible answer.\n",
    "Step 2: Think about each of the key elements, writing it out in detail what they are and how they are mutually related.\n",
    "Step 3: Given what you wrote in step 2, reason about whether the given answer option is correct or not.\n",
    "Step 4: Review your answers and make sure that you have not missed anything.\n",
    "Step 5: Provide with the final answer, whether the given answer option is correct or not.\n",
    "\n",
    "Do not repeat the prompt!\n",
    "\n",
    "\"\"\"\n",
    "\n",
    "res = generate_text(prompt)\n",
    "print(res[0][\"generated_text\"])"
   ]
  },
  {
   "cell_type": "code",
   "execution_count": 4,
   "metadata": {},
   "outputs": [
    {
     "name": "stdout",
     "output_type": "stream",
     "text": [
      "Answer:\n",
      "The statement \"The angular spacing of features in the diffraction pattern is directly proportional to the dimensions of the object causing the diffraction\" is incorrect. The actual relationship between the dimensions of a diffracting object and the angular spacing of features in the diffraction pattern is inversely proportional. As the size of the diffracting object increases, the angular spacing of the features in the diffraction pattern decreases. This means that smaller objects will produce wider diffraction patterns than larger objects, which is the opposite of what the statement suggests.\n"
     ]
    }
   ],
   "source": [
    "prompt = \"\"\"Question: Which of the following statements accurately describes the relationship between the dimensions of a diffracting object and the angular spacing of features in the diffraction pattern?\n",
    "Possible answer: The angular spacing of features in the diffraction pattern is directly proportional to the dimensions of the object causing the diffraction. Therefore, if the diffracting object is smaller, the resulting diffraction pattern will be narrower.\n",
    "Analyze whether this is a correct answer. \n",
    "Think step-by-step:\n",
    "Step 1: Read the question carefully and identify the key elements of the question and a possible answer.\n",
    "Step 2: Think about each of the key elements, writing it out in detail what they are and how they are mutually related.\n",
    "Step 3: Given what you wrote in step 2, reason about whether the given answer option is correct or not.\n",
    "Step 4: Review your answers and make sure that you have not missed anything.\n",
    "Step 5: Provide with the final answer, whether the given answer option is correct or not.\n",
    "\n",
    "Do not repeat the prompt!\n",
    "\n",
    "\"\"\"\n",
    "\n",
    "res = generate_text(prompt)\n",
    "print(res[0][\"generated_text\"])"
   ]
  },
  {
   "cell_type": "code",
   "execution_count": 5,
   "metadata": {},
   "outputs": [
    {
     "name": "stdout",
     "output_type": "stream",
     "text": [
      "Answer:\n",
      "The statement \"The angular spacing of features in the diffraction pattern is independent of the dimensions of the object causing the diffraction\" is incorrect. The angular spacing of features in the diffraction pattern does depend on the dimensions of the object causing the diffraction.\n",
      "To understand why, let's consider the underlying physics of diffraction. When light or other waves pass through an opening or around a small obstacle, they create an interference pattern due to constructive and destructive interference. The distance between these interference patterns is known as the angular spacing of the features in the diffraction pattern.\n",
      "Now, if we increase the size of the obstacle, the wavelength of the wave remains constant, but the distance between the interference patterns decreases. This means that the angular spacing of the features in the diffraction pattern decreases as the size of the obstacle increases.\n",
      "Therefore, the correct answer is:\n",
      "The angular spacing of features in the diffraction pattern depends on the dimensions of the object causing the diffraction.\n"
     ]
    }
   ],
   "source": [
    "prompt = \"\"\"Question: Which of the following statements accurately describes the relationship between the dimensions of a diffracting object and the angular spacing of features in the diffraction pattern?\n",
    "Possible answer: The angular spacing of features in the diffraction pattern is independent of the dimensions of the object causing the diffraction. Therefore, if the diffracting object is smaller, the resulting diffraction pattern will be the same as if it were big.\n",
    "Analyze whether this is a correct answer. \n",
    "Think step-by-step:\n",
    "Step 1: Read the question carefully and identify the key elements of the question and a possible answer.\n",
    "Step 2: Think about each of the key elements, writing it out in detail what they are and how they are mutually related.\n",
    "Step 3: Given what you wrote in step 2, reason about whether the given answer option is correct or not.\n",
    "Step 4: Review your answers and make sure that you have not missed anything.\n",
    "Step 5: Provide with the final answer, whether the given answer option is correct or not.\n",
    "\n",
    "Do not repeat the prompt!\n",
    "\n",
    "\"\"\"\n",
    "\n",
    "res = generate_text(prompt)\n",
    "print(res[0][\"generated_text\"])"
   ]
  },
  {
   "cell_type": "code",
   "execution_count": 6,
   "metadata": {},
   "outputs": [
    {
     "name": "stdout",
     "output_type": "stream",
     "text": [
      "Answer:\n",
      "The statement \"The angular spacing of features in the diffraction pattern is inversely proportional to the dimensions of the object causing the diffraction\" is partially correct but requires some clarification. While it is true that as the size of the diffracting object decreases, the angular spacing of the diffraction patterns increases, there are certain limitations and exceptions to this general rule.\n",
      "For example, when the wavelength of light is much larger than the size of the diffracting object, the diffraction pattern may exhibit minimal changes in angular spacing even if the object size is reduced. This phenomenon is known as \"diffraction limit\" and occurs when the wavelength of light is comparable to or larger than the size of the diffracting object.\n",
      "Furthermore, the angular spacing of features in the diffraction pattern can also be affected by other factors such as the type of diffraction (e.g., Fresnel or Fraunhofer), the shape and orientation of the diffracting object, and the properties of the surrounding medium.\n",
      "In conclusion, while there is an inverse relationship between the dimensions of a diffracting object and the angular spacing of features in the diffraction pattern, this relationship is not absolute and can be influenced by various factors.\n"
     ]
    }
   ],
   "source": [
    "prompt = \"\"\"Question: Which of the following statements accurately describes the relationship between the dimensions of a diffracting object and the angular spacing of features in the diffraction pattern?\n",
    "Possible answer: The angular spacing of features in the diffraction pattern is inversely proportional to the dimensions of the object causing the diffraction. Therefore, if the diffracting object is smaller, the resulting diffraction pattern will be wider.\n",
    "Analyze whether this is a correct answer. \n",
    "Think step-by-step:\n",
    "Step 1: Read the question carefully and identify the key elements of the question and a possible answer.\n",
    "Step 2: Think about each of the key elements, writing it out in detail what they are and how they are mutually related.\n",
    "Step 3: Given what you wrote in step 2, reason about whether the given answer option is correct or not.\n",
    "Step 4: Review your answers and make sure that you have not missed anything.\n",
    "Step 5: Provide with the final answer, whether the given answer option is correct or not.\n",
    "\n",
    "Do not repeat the prompt!\n",
    "\n",
    "\"\"\"\n",
    "\n",
    "res = generate_text(prompt)\n",
    "print(res[0][\"generated_text\"])"
   ]
  },
  {
   "cell_type": "code",
   "execution_count": 8,
   "metadata": {},
   "outputs": [
    {
     "name": "stdout",
     "output_type": "stream",
     "text": [
      "\n",
      "Answer:\n",
      "The correct answer is (B): The angular spacing of features in the diffraction pattern is directly proportional to the dimensions of the object causing the diffraction. This means that if the diffracting object is smaller, the resulting diffraction pattern will be narrower.\n",
      "Explanation:\n",
      "To determine which answer option is correct, we need to analyze the relationship between the dimensions of a diffracting object and the angular spacing of features in the diffraction pattern. According to Bragg's Law, the angle of diffraction is inversely proportional to the wavelength of the incident light and directly proportional to the dimensions of the diffracting object. This means that if the diffracting object is smaller, the wavelength of the incident light will be larger, and therefore, the angle of diffraction will be smaller. This implies that the angular spacing of features in the diffraction pattern will also be smaller when the diffracting object is smaller.\n",
      "Therefore, answer option (B) is the correct explanation for the relationship between the dimensions of a diffracting object and the angular spacing of features in the diffraction pattern. Answer options (A), (C), and (D) are incorrect because they do not accurately describe the relationship between these two quantities.\n"
     ]
    }
   ],
   "source": [
    "prompt = \"\"\"\n",
    "Question: Which of the following statements accurately describes the relationship between the dimensions of a diffracting object and the angular spacing of features in the diffraction pattern?\n",
    " \n",
    "\n",
    "Possible answers:\n",
    "\n",
    "A: The angular spacing of features in the diffraction pattern is indirectly proportional to the dimensions of the object causing the diffraction. Therefore, if the diffracting object is smaller, the resulting diffraction pattern will be narrower.\n",
    "\n",
    "B: The angular spacing of features in the diffraction pattern is directly proportional to the dimensions of the object causing the diffraction. Therefore, if the diffracting object is smaller, the resulting diffraction pattern will be narrower.\n",
    "\n",
    "C: The angular spacing of features in the diffraction pattern is independent of the dimensions of the object causing the diffraction. Therefore, if the diffracting object is smaller, the resulting diffraction pattern will be the same as if it were big.\n",
    "\n",
    "D: The angular spacing of features in the diffraction pattern is inversely proportional to the dimensions of the object causing the diffraction. Therefore, if the diffracting object is smaller, the resulting diffraction pattern will be wider.\n",
    "\n",
    "E: The angular spacing of features in the diffraction pattern is directly proportional to the square root of the dimensions of the object causing the diffraction. Therefore, if the diffracting object is smaller, the resulting diffraction pattern will be slightly narrower.\n",
    "--\n",
    "Analyze whether this is a correct answer. \n",
    "Think step-by-step:\n",
    "Step 1: Read the question carefully and identify the key elements of the question and possible answers.\n",
    "Step 2: Think about each of the key elements, writing it out in detail what they are and how they are mutually related.\n",
    "Step 3: Given what you wrote in step 2, reason whether each answer option is correct or not.\n",
    "Step 4: Review your answers and make sure that you have not missed anything.\n",
    "Step 5: Provide with the final answer, whether the given answer option is correct or not.\n",
    "\"\"\"\n",
    "\n",
    "res = generate_text(prompt)\n",
    "print(res[0][\"generated_text\"])"
   ]
  },
  {
   "cell_type": "code",
   "execution_count": 4,
   "metadata": {},
   "outputs": [
    {
     "name": "stdout",
     "output_type": "stream",
     "text": [
      "\n",
      "Answer:\n",
      "The answer is (D): Regularizing the mass-energy of an electron with an infinite radius can be used to provide a highly accurate description of a system under specific conditions.\n",
      "Explanation:\n",
      "The question asks about the significance of regularization in terms of renormalization problems in physics. The possible answers provided are:\n",
      "A: Regularizing the mass-energy of an electron with a finite radius can theoretically simplify calculations involving infinities or singularities, thereby providing explanations that would otherwise be impossible to achieve.\n",
      "B: Regularizing the mass-energy of an electron with an infinite radius allows for the breakdown of a theory that is valid under one set of conditions. This approach can be applied to other renormalization problems as well.\n",
      "C: Regularizing the mass-energy of an electron with a finite radius is a means of demonstrating that a system below a certain size can be explained without the need for further calculations. This approach can be applied to other renormalization problems as well.\n",
      "D: Regularizing the mass-energy of an electron with an infinite radius can be used to provide a highly accurate description of a system under specific conditions.\n",
      "Of these options, only answer D is correct. Regularization involves removing infinite or divergent quantities from physical calculations by introducing a cutoff scale, such as the electron's radius. By taking the limit where the cutoff goes to zero, one can obtain a highly accurate description of a system under specific conditions. For example, in quantum field theory, regularization techniques are used to remove infrared divergences and obtain a well-defined theory that agrees with experimental results. Therefore, answer D is the correct answer.\n"
     ]
    }
   ],
   "source": [
    "prompt = \"\"\"\n",
    "Question: What is the significance of regularization in terms of renormalization problems in physics?\n",
    "Possible answers:\n",
    "A: Regularizing the mass-energy of an electron with a finite radius can theoretically simplify calculations involving infinities or singularities, thereby providing explanations that would otherwise be impossible to achieve.\n",
    "B: Regularizing the mass-energy of an electron with an infinite radius allows for the breakdown of a theory that is valid under one set of conditions. This approach can be applied to other renormalization problems as well.\n",
    "C: Regularizing the mass-energy of an electron with a finite radius is a means of demonstrating that a system below a certain size can be explained without the need for further calculations. This approach can be applied to other renormalization problems as well.\n",
    "D: Regularizing the mass-energy of an electron with an infinite radius can be used to provide a highly accurate description of a system under specific conditions. This approach can be transferred to other renormalization problems as well.\n",
    "E: Regularizing the mass-energy of an electron with an infinite radius is essential for explaining how a system below a certain size operates. This approach can be applied to other renormalization problems as well.\n",
    "--\n",
    "Analyze whether this is a correct answer. \n",
    "Think step-by-step:\n",
    "Step 1: Read the question carefully and identify the key elements of the question and possible answers.\n",
    "Step 2: Think about each of the key elements, writing it out in detail what they are and how they are mutually related.\n",
    "Step 3: Given what you wrote in step 2, reason whether each answer option is correct or not.\n",
    "Step 4: Review your answers and make sure that you have not missed anything.\n",
    "Step 5: Provide with the final answer, whether the given answer option is correct or not.\n",
    "\"\"\"\n",
    "\n",
    "res = generate_text(prompt)\n",
    "print(res[0][\"generated_text\"])"
   ]
  },
  {
   "cell_type": "code",
   "execution_count": null,
   "metadata": {},
   "outputs": [],
   "source": []
  },
  {
   "cell_type": "code",
   "execution_count": null,
   "metadata": {},
   "outputs": [],
   "source": []
  },
  {
   "cell_type": "code",
   "execution_count": 7,
   "metadata": {},
   "outputs": [
    {
     "data": {
      "text/html": [
       "<pre style=\"white-space:pre;overflow-x:auto;line-height:normal;font-family:Menlo,'DejaVu Sans Mono',consolas,'Courier New',monospace\"><span style=\"color: #800000; text-decoration-color: #800000\">╭─────────────────────────────── </span><span style=\"color: #800000; text-decoration-color: #800000; font-weight: bold\">Traceback </span><span style=\"color: #bf7f7f; text-decoration-color: #bf7f7f; font-weight: bold\">(most recent call last)</span><span style=\"color: #800000; text-decoration-color: #800000\"> ────────────────────────────────╮</span>\n",
       "<span style=\"color: #800000; text-decoration-color: #800000\">│</span> in <span style=\"color: #00ff00; text-decoration-color: #00ff00\">&lt;module&gt;</span>:<span style=\"color: #0000ff; text-decoration-color: #0000ff\">1</span>                                                                                    <span style=\"color: #800000; text-decoration-color: #800000\">│</span>\n",
       "<span style=\"color: #800000; text-decoration-color: #800000\">│</span>                                                                                                  <span style=\"color: #800000; text-decoration-color: #800000\">│</span>\n",
       "<span style=\"color: #800000; text-decoration-color: #800000\">│</span> <span style=\"color: #800000; text-decoration-color: #800000\">❱ </span>1 x = torch.tensor(tokenized_example[<span style=\"color: #808000; text-decoration-color: #808000\">'input_ids'</span>]).unsqueeze(<span style=\"color: #0000ff; text-decoration-color: #0000ff\">0</span>)                                <span style=\"color: #800000; text-decoration-color: #800000\">│</span>\n",
       "<span style=\"color: #800000; text-decoration-color: #800000\">│</span>   <span style=\"color: #7f7f7f; text-decoration-color: #7f7f7f\">2 </span>out = model(x, return_dict=<span style=\"color: #0000ff; text-decoration-color: #0000ff\">True</span>)                                                             <span style=\"color: #800000; text-decoration-color: #800000\">│</span>\n",
       "<span style=\"color: #800000; text-decoration-color: #800000\">│</span>   <span style=\"color: #7f7f7f; text-decoration-color: #7f7f7f\">3 </span>                                                                                             <span style=\"color: #800000; text-decoration-color: #800000\">│</span>\n",
       "<span style=\"color: #800000; text-decoration-color: #800000\">╰──────────────────────────────────────────────────────────────────────────────────────────────────╯</span>\n",
       "<span style=\"color: #ff0000; text-decoration-color: #ff0000; font-weight: bold\">NameError: </span>name <span style=\"color: #008000; text-decoration-color: #008000\">'tokenized_example'</span> is not defined\n",
       "</pre>\n"
      ],
      "text/plain": [
       "\u001b[31m╭─\u001b[0m\u001b[31m──────────────────────────────\u001b[0m\u001b[31m \u001b[0m\u001b[1;31mTraceback \u001b[0m\u001b[1;2;31m(most recent call last)\u001b[0m\u001b[31m \u001b[0m\u001b[31m───────────────────────────────\u001b[0m\u001b[31m─╮\u001b[0m\n",
       "\u001b[31m│\u001b[0m in \u001b[92m<module>\u001b[0m:\u001b[94m1\u001b[0m                                                                                    \u001b[31m│\u001b[0m\n",
       "\u001b[31m│\u001b[0m                                                                                                  \u001b[31m│\u001b[0m\n",
       "\u001b[31m│\u001b[0m \u001b[31m❱ \u001b[0m1 x = torch.tensor(tokenized_example[\u001b[33m'\u001b[0m\u001b[33minput_ids\u001b[0m\u001b[33m'\u001b[0m]).unsqueeze(\u001b[94m0\u001b[0m)                                \u001b[31m│\u001b[0m\n",
       "\u001b[31m│\u001b[0m   \u001b[2m2 \u001b[0mout = model(x, return_dict=\u001b[94mTrue\u001b[0m)                                                             \u001b[31m│\u001b[0m\n",
       "\u001b[31m│\u001b[0m   \u001b[2m3 \u001b[0m                                                                                             \u001b[31m│\u001b[0m\n",
       "\u001b[31m╰──────────────────────────────────────────────────────────────────────────────────────────────────╯\u001b[0m\n",
       "\u001b[1;91mNameError: \u001b[0mname \u001b[32m'tokenized_example'\u001b[0m is not defined\n"
      ]
     },
     "metadata": {},
     "output_type": "display_data"
    }
   ],
   "source": [
    "x = torch.tensor(tokenized_example['input_ids']).unsqueeze(0)\n",
    "out = model(x, return_dict=True)"
   ]
  },
  {
   "cell_type": "code",
   "execution_count": 17,
   "metadata": {},
   "outputs": [
    {
     "data": {
      "text/plain": [
       "torch.Size([1, 173])"
      ]
     },
     "execution_count": 17,
     "metadata": {},
     "output_type": "execute_result"
    }
   ],
   "source": [
    "x.shape"
   ]
  },
  {
   "cell_type": "code",
   "execution_count": 7,
   "metadata": {},
   "outputs": [
    {
     "data": {
      "text/plain": [
       "(32000,)"
      ]
     },
     "execution_count": 7,
     "metadata": {},
     "output_type": "execute_result"
    }
   ],
   "source": [
    "out_1 = out.logits[:, -1, :].cpu().detach().numpy().flatten()\n",
    "out_1.shape"
   ]
  },
  {
   "cell_type": "code",
   "execution_count": 12,
   "metadata": {},
   "outputs": [
    {
     "data": {
      "text/plain": [
       "(32000,)"
      ]
     },
     "execution_count": 12,
     "metadata": {},
     "output_type": "execute_result"
    }
   ],
   "source": [
    "out_2 = out.logits[:, -1, :].cpu().detach().numpy().flatten()\n",
    "out_2.shape"
   ]
  },
  {
   "cell_type": "code",
   "execution_count": 18,
   "metadata": {},
   "outputs": [
    {
     "data": {
      "text/plain": [
       "(32000,)"
      ]
     },
     "execution_count": 18,
     "metadata": {},
     "output_type": "execute_result"
    }
   ],
   "source": [
    "out_3 = out.logits[:, -1, :].cpu().detach().numpy().flatten()\n",
    "out_3.shape"
   ]
  },
  {
   "cell_type": "code",
   "execution_count": 20,
   "metadata": {},
   "outputs": [
    {
     "data": {
      "image/png": "[encoded data removed]",
      "text/plain": [
       "<Figure size 640x480 with 1 Axes>"
      ]
     },
     "metadata": {},
     "output_type": "display_data"
    }
   ],
   "source": [
    "import matplotlib.pyplot as plt\n",
    "\n",
    "plt.hist(out_1, bins=100, alpha=0.5, label=\"B\");\n",
    "plt.hist(out_2, bins=100, alpha=0.5, label=\"A\");\n",
    "plt.hist(out_3, bins=100, alpha=0.5, label=\"random\");\n",
    "\n",
    "plt.legend();"
   ]
  },
  {
   "cell_type": "code",
   "execution_count": 34,
   "metadata": {},
   "outputs": [],
   "source": [
    "prompt = \"\"\"Question: Which of the following is an accurate definition of dynamic scaling in self-similar systems?\n",
    "Possible answer: Dynamic scaling refers to the non-evolution of self-similar systems, where data obtained from snapshots at fixed times is similar to the respective data taken from snapshots of any earlier or later time. This similarity is tested by a certain time-dependent stochastic variable x.\n",
    "Analyze whether this is a correct answer. \n",
    "Think step-by-step:\n",
    "Step 1: Read the question carefully and identify the key elements of the question and a possible answer.\n",
    "Step 2: Think about each of the key elements, writing it out in detail what they are and how they are mutually related.\n",
    "Step 3: Given what you wrote in step 2, reason about whether the given answer option is correct or not.\n",
    "Step 4: Review your answers and make sure that you have not missed anything.\n",
    "Step 5: Provide with the final answer, whether the given answer option is correct or not.\n",
    "\"\"\"\n",
    "\n",
    "# res = generate_text(prompt)\n",
    "# print(res[0][\"generated_text\"])"
   ]
  },
  {
   "cell_type": "code",
   "execution_count": 12,
   "metadata": {},
   "outputs": [],
   "source": [
    "res = generate_text(\"again\")"
   ]
  }
 ],
 "metadata": {
  "kernelspec": {
   "display_name": "torch-env",
   "language": "python",
   "name": "python3"
  },
  "language_info": {
   "codemirror_mode": {
    "name": "ipython",
    "version": 3
   },
   "file_extension": ".py",
   "mimetype": "text/x-python",
   "name": "python",
   "nbconvert_exporter": "python",
   "pygments_lexer": "ipython3",
   "version": "3.9.16"
  },
  "orig_nbformat": 4
 },
 "nbformat": 4,
 "nbformat_minor": 2
}
