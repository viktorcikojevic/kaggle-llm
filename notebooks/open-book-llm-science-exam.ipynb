{
 "cells": [
  {
   "cell_type": "markdown",
   "id": "8f95b848",
   "metadata": {
    "papermill": {
     "duration": 0.012542,
     "end_time": "2023-07-17T18:59:13.762121",
     "exception": false,
     "start_time": "2023-07-17T18:59:13.749579",
     "status": "completed"
    },
    "tags": []
   },
   "source": [
    "## Imports"
   ]
  },
  {
   "cell_type": "code",
   "execution_count": 1,
   "id": "16c3a39f",
   "metadata": {
    "_cell_guid": "b1076dfc-b9ad-4769-8c92-a6c4dae69d19",
    "_uuid": "8f2839f25d086af736a60e9eeb907d3b93b6e0e5",
    "execution": {
     "iopub.execute_input": "2023-07-17T18:59:13.788993Z",
     "iopub.status.busy": "2023-07-17T18:59:13.788644Z",
     "iopub.status.idle": "2023-07-17T18:59:26.565325Z",
     "shell.execute_reply": "2023-07-17T18:59:26.564381Z"
    },
    "jupyter": {
     "source_hidden": true
    },
    "papermill": {
     "duration": 12.793052,
     "end_time": "2023-07-17T18:59:26.567820",
     "exception": false,
     "start_time": "2023-07-17T18:59:13.774768",
     "status": "completed"
    },
    "tags": []
   },
   "outputs": [],
   "source": [
    "import os\n",
    "import gc\n",
    "import pandas as pd\n",
    "import numpy as np\n",
    "import re\n",
    "from tqdm.auto import tqdm\n",
    "import blingfire as bf\n",
    "\n",
    "from collections.abc import Iterable\n",
    "\n",
    "import faiss\n",
    "from faiss import write_index, read_index\n",
    "\n",
    "from sentence_transformers import SentenceTransformer"
   ]
  },
  {
   "cell_type": "markdown",
   "id": "df210bb9",
   "metadata": {
    "papermill": {
     "duration": 0.011573,
     "end_time": "2023-07-17T18:59:26.592614",
     "exception": false,
     "start_time": "2023-07-17T18:59:26.581041",
     "status": "completed"
    },
    "tags": []
   },
   "source": [
    "## Code to Sentencize Text"
   ]
  },
  {
   "cell_type": "code",
   "execution_count": 2,
   "id": "72d35fdb",
   "metadata": {
    "_kg_hide-input": true,
    "execution": {
     "iopub.execute_input": "2023-07-17T18:59:26.618466Z",
     "iopub.status.busy": "2023-07-17T18:59:26.617408Z",
     "iopub.status.idle": "2023-07-17T18:59:26.633966Z",
     "shell.execute_reply": "2023-07-17T18:59:26.633073Z"
    },
    "jupyter": {
     "source_hidden": true
    },
    "papermill": {
     "duration": 0.031664,
     "end_time": "2023-07-17T18:59:26.636184",
     "exception": false,
     "start_time": "2023-07-17T18:59:26.604520",
     "status": "completed"
    },
    "tags": []
   },
   "outputs": [],
   "source": [
    "def process_documents(documents: Iterable[str],\n",
    "                      document_ids: Iterable,\n",
    "                      split_sentences: bool = True,\n",
    "                      filter_len: int = 3,\n",
    "                      disable_progress_bar: bool = False) -> pd.DataFrame:\n",
    "    \"\"\"\n",
    "    Main helper function to process documents from the EMR.\n",
    "\n",
    "    :param documents: Iterable containing documents which are strings\n",
    "    :param document_ids: Iterable containing document unique identifiers\n",
    "    :param document_type: String denoting the document type to be processed\n",
    "    :param document_sections: List of sections for a given document type to process\n",
    "    :param split_sentences: Flag to determine whether to further split sections into sentences\n",
    "    :param filter_len: Minimum character length of a sentence (otherwise filter out)\n",
    "    :param disable_progress_bar: Flag to disable tqdm progress bar\n",
    "    :return: Pandas DataFrame containing the columns `document_id`, `text`, `section`, `offset`\n",
    "    \"\"\"\n",
    "    \n",
    "    df = sectionize_documents(documents, document_ids, disable_progress_bar)\n",
    "\n",
    "    if split_sentences:\n",
    "        df = sentencize(df.text.values, \n",
    "                        df.document_id.values,\n",
    "                        df.offset.values, \n",
    "                        filter_len, \n",
    "                        disable_progress_bar)\n",
    "    return df\n",
    "\n",
    "\n",
    "def sectionize_documents(documents: Iterable[str],\n",
    "                         document_ids: Iterable,\n",
    "                         disable_progress_bar: bool = False) -> pd.DataFrame:\n",
    "    \"\"\"\n",
    "    Obtains the sections of the imaging reports and returns only the \n",
    "    selected sections (defaults to FINDINGS, IMPRESSION, and ADDENDUM).\n",
    "\n",
    "    :param documents: Iterable containing documents which are strings\n",
    "    :param document_ids: Iterable containing document unique identifiers\n",
    "    :param disable_progress_bar: Flag to disable tqdm progress bar\n",
    "    :return: Pandas DataFrame containing the columns `document_id`, `text`, `offset`\n",
    "    \"\"\"\n",
    "    processed_documents = []\n",
    "    for document_id, document in tqdm(zip(document_ids, documents), total=len(documents), disable=disable_progress_bar):\n",
    "        row = {}\n",
    "        text, start, end = (document, 0, len(document))\n",
    "        row['document_id'] = document_id\n",
    "        row['text'] = text\n",
    "        row['offset'] = (start, end)\n",
    "\n",
    "        processed_documents.append(row)\n",
    "\n",
    "    _df = pd.DataFrame(processed_documents)\n",
    "    if _df.shape[0] > 0:\n",
    "        return _df.sort_values(['document_id', 'offset']).reset_index(drop=True)\n",
    "    else:\n",
    "        return _df\n",
    "\n",
    "\n",
    "def sentencize(documents: Iterable[str],\n",
    "               document_ids: Iterable,\n",
    "               offsets: Iterable[tuple[int, int]],\n",
    "               filter_len: int = 3,\n",
    "               disable_progress_bar: bool = False) -> pd.DataFrame:\n",
    "    \"\"\"\n",
    "    Split a document into sentences. Can be used with `sectionize_documents`\n",
    "    to further split documents into more manageable pieces. Takes in offsets\n",
    "    to ensure that after splitting, the sentences can be matched to the\n",
    "    location in the original documents.\n",
    "\n",
    "    :param documents: Iterable containing documents which are strings\n",
    "    :param document_ids: Iterable containing document unique identifiers\n",
    "    :param offsets: Iterable tuple of the start and end indices\n",
    "    :param filter_len: Minimum character length of a sentence (otherwise filter out)\n",
    "    :return: Pandas DataFrame containing the columns `document_id`, `text`, `section`, `offset`\n",
    "    \"\"\"\n",
    "\n",
    "    document_sentences = []\n",
    "    for document, document_id, offset in tqdm(zip(documents, document_ids, offsets), total=len(documents), disable=disable_progress_bar):\n",
    "        try:\n",
    "            _, sentence_offsets = bf.text_to_sentences_and_offsets(document)\n",
    "            for o in sentence_offsets:\n",
    "                if o[1]-o[0] > filter_len:\n",
    "                    sentence = document[o[0]:o[1]]\n",
    "                    abs_offsets = (o[0]+offset[0], o[1]+offset[0])\n",
    "                    row = {}\n",
    "                    row['document_id'] = document_id\n",
    "                    row['text'] = sentence\n",
    "                    row['offset'] = abs_offsets\n",
    "                    document_sentences.append(row)\n",
    "        except:\n",
    "            continue\n",
    "    return pd.DataFrame(document_sentences)"
   ]
  },
  {
   "cell_type": "markdown",
   "id": "14bea21d",
   "metadata": {
    "papermill": {
     "duration": 0.012504,
     "end_time": "2023-07-17T18:59:26.661171",
     "exception": false,
     "start_time": "2023-07-17T18:59:26.648667",
     "status": "completed"
    },
    "tags": []
   },
   "source": [
    "## Configurations"
   ]
  },
  {
   "cell_type": "code",
   "execution_count": 3,
   "id": "589da111",
   "metadata": {
    "execution": {
     "iopub.execute_input": "2023-07-17T18:59:26.688285Z",
     "iopub.status.busy": "2023-07-17T18:59:26.687966Z",
     "iopub.status.idle": "2023-07-17T18:59:26.693403Z",
     "shell.execute_reply": "2023-07-17T18:59:26.692393Z"
    },
    "papermill": {
     "duration": 0.021852,
     "end_time": "2023-07-17T18:59:26.695573",
     "exception": false,
     "start_time": "2023-07-17T18:59:26.673721",
     "status": "completed"
    },
    "tags": []
   },
   "outputs": [],
   "source": [
    "MODEL = '/home/clay/research/kaggle/kaggle_llm/data/sentence_transformer_model'\n",
    "DEVICE = 0\n",
    "MAX_LENGTH = 384\n",
    "BATCH_SIZE = 16"
   ]
  },
  {
   "cell_type": "markdown",
   "id": "8564f97c",
   "metadata": {
    "papermill": {
     "duration": 0.01212,
     "end_time": "2023-07-17T18:59:26.720065",
     "exception": false,
     "start_time": "2023-07-17T18:59:26.707945",
     "status": "completed"
    },
    "tags": []
   },
   "source": [
    "## Load Data"
   ]
  },
  {
   "cell_type": "code",
   "execution_count": 15,
   "id": "ac9b1f57",
   "metadata": {
    "execution": {
     "iopub.execute_input": "2023-07-17T18:59:26.746699Z",
     "iopub.status.busy": "2023-07-17T18:59:26.746325Z",
     "iopub.status.idle": "2023-07-17T18:59:26.755906Z",
     "shell.execute_reply": "2023-07-17T18:59:26.755023Z"
    },
    "papermill": {
     "duration": 0.025319,
     "end_time": "2023-07-17T18:59:26.758148",
     "exception": false,
     "start_time": "2023-07-17T18:59:26.732829",
     "status": "completed"
    },
    "tags": []
   },
   "outputs": [],
   "source": [
    "WIKI_PATH = \"/home/clay/research/kaggle/kaggle_llm/data/wikipedia-20230701/\"\n",
    "wiki_files = os.listdir(WIKI_PATH)"
   ]
  },
  {
   "cell_type": "code",
   "execution_count": 4,
   "id": "56f1dda0",
   "metadata": {
    "execution": {
     "iopub.execute_input": "2023-07-17T18:59:26.786146Z",
     "iopub.status.busy": "2023-07-17T18:59:26.785801Z",
     "iopub.status.idle": "2023-07-17T18:59:26.811847Z",
     "shell.execute_reply": "2023-07-17T18:59:26.810842Z"
    },
    "papermill": {
     "duration": 0.043524,
     "end_time": "2023-07-17T18:59:26.814165",
     "exception": false,
     "start_time": "2023-07-17T18:59:26.770641",
     "status": "completed"
    },
    "tags": []
   },
   "outputs": [],
   "source": [
    "trn = pd.read_csv(\"/home/clay/research/kaggle/kaggle_llm/data/kaggle-llm-science-exam/train.csv\")"
   ]
  },
  {
   "cell_type": "code",
   "execution_count": 6,
   "id": "3fefddd8",
   "metadata": {
    "execution": {
     "iopub.execute_input": "2023-07-17T18:59:26.841102Z",
     "iopub.status.busy": "2023-07-17T18:59:26.840780Z",
     "iopub.status.idle": "2023-07-17T18:59:44.483008Z",
     "shell.execute_reply": "2023-07-17T18:59:44.481866Z"
    },
    "papermill": {
     "duration": 17.658896,
     "end_time": "2023-07-17T18:59:44.485858",
     "exception": false,
     "start_time": "2023-07-17T18:59:26.826962",
     "status": "completed"
    },
    "scrolled": false,
    "tags": []
   },
   "outputs": [],
   "source": [
    "model = SentenceTransformer(MODEL, device='cuda')\n",
    "model.max_seq_length = MAX_LENGTH\n",
    "model = model.half()"
   ]
  },
  {
   "cell_type": "markdown",
   "id": "0aa76bb9",
   "metadata": {
    "papermill": {
     "duration": 0.01297,
     "end_time": "2023-07-17T18:59:44.511429",
     "exception": false,
     "start_time": "2023-07-17T18:59:44.498459",
     "status": "completed"
    },
    "tags": []
   },
   "source": [
    "#### Using precomputed index of the Wikipedia 2023-07 dump\n",
    "\n",
    "Dataset can be found: https://www.kaggle.com/datasets/jjinho/wikipedia-2023-07-faiss-index"
   ]
  },
  {
   "cell_type": "code",
   "execution_count": 7,
   "id": "69075e67",
   "metadata": {
    "execution": {
     "iopub.execute_input": "2023-07-17T18:59:44.539175Z",
     "iopub.status.busy": "2023-07-17T18:59:44.538759Z",
     "iopub.status.idle": "2023-07-17T19:01:27.822742Z",
     "shell.execute_reply": "2023-07-17T19:01:27.820024Z"
    },
    "papermill": {
     "duration": 103.301065,
     "end_time": "2023-07-17T19:01:27.825640",
     "exception": false,
     "start_time": "2023-07-17T18:59:44.524575",
     "status": "completed"
    },
    "tags": []
   },
   "outputs": [],
   "source": [
    "sentence_index = read_index(\"/home/clay/research/kaggle/kaggle_llm/data/wikipedia_index/wikipedia_202307.index\")"
   ]
  },
  {
   "cell_type": "markdown",
   "id": "cb0dba28",
   "metadata": {
    "papermill": {
     "duration": 0.01215,
     "end_time": "2023-07-17T19:01:27.850795",
     "exception": false,
     "start_time": "2023-07-17T19:01:27.838645",
     "status": "completed"
    },
    "tags": []
   },
   "source": [
    "## Encode the prompts\n",
    "\n",
    "We observe that the prompts contain the subject matter almost always at the end. Here we just encode the entire prompt using `sentence_transformers` so that we can use semantic search to find appropriate articles that may have information relating to the questions."
   ]
  },
  {
   "cell_type": "code",
   "execution_count": 8,
   "id": "0200d809",
   "metadata": {
    "execution": {
     "iopub.execute_input": "2023-07-17T19:01:27.876277Z",
     "iopub.status.busy": "2023-07-17T19:01:27.875950Z",
     "iopub.status.idle": "2023-07-17T19:01:41.632330Z",
     "shell.execute_reply": "2023-07-17T19:01:41.631409Z"
    },
    "papermill": {
     "duration": 13.77173,
     "end_time": "2023-07-17T19:01:41.634582",
     "exception": false,
     "start_time": "2023-07-17T19:01:27.862852",
     "status": "completed"
    },
    "tags": []
   },
   "outputs": [
    {
     "data": {
      "application/vnd.jupyter.widget-view+json": {
       "model_id": "3a1d017d4c314cb796c879da91d6de42",
       "version_major": 2,
       "version_minor": 0
      },
      "text/plain": [
       "Batches:   0%|          | 0/13 [00:00<?, ?it/s]"
      ]
     },
     "metadata": {},
     "output_type": "display_data"
    }
   ],
   "source": [
    "prompt_embeddings = model.encode(\n",
    "    trn.prompt.values, \n",
    "    batch_size=BATCH_SIZE, \n",
    "    device=DEVICE, \n",
    "    show_progress_bar=True, \n",
    "    convert_to_tensor=True, \n",
    "    normalize_embeddings=True\n",
    ").half()\n",
    "prompt_embeddings = prompt_embeddings.detach().cpu().numpy()"
   ]
  },
  {
   "cell_type": "code",
   "execution_count": 9,
   "id": "e853c18c",
   "metadata": {
    "execution": {
     "iopub.execute_input": "2023-07-17T19:01:41.663062Z",
     "iopub.status.busy": "2023-07-17T19:01:41.662772Z",
     "iopub.status.idle": "2023-07-17T19:01:41.970512Z",
     "shell.execute_reply": "2023-07-17T19:01:41.969543Z"
    },
    "papermill": {
     "duration": 0.324836,
     "end_time": "2023-07-17T19:01:41.972703",
     "exception": false,
     "start_time": "2023-07-17T19:01:41.647867",
     "status": "completed"
    },
    "tags": []
   },
   "outputs": [],
   "source": [
    "_ = gc.collect()"
   ]
  },
  {
   "cell_type": "code",
   "execution_count": 10,
   "id": "7abd758e",
   "metadata": {
    "execution": {
     "iopub.execute_input": "2023-07-17T19:01:42.001034Z",
     "iopub.status.busy": "2023-07-17T19:01:42.000712Z",
     "iopub.status.idle": "2023-07-17T19:02:02.941578Z",
     "shell.execute_reply": "2023-07-17T19:02:02.940691Z"
    },
    "papermill": {
     "duration": 20.958374,
     "end_time": "2023-07-17T19:02:02.944139",
     "exception": false,
     "start_time": "2023-07-17T19:01:41.985765",
     "status": "completed"
    },
    "tags": []
   },
   "outputs": [],
   "source": [
    "## Get the top 3 pages that are likely to contain the topic of interest\n",
    "search_score, search_index = sentence_index.search(prompt_embeddings, 3)"
   ]
  },
  {
   "cell_type": "code",
   "execution_count": 11,
   "id": "4c97d890",
   "metadata": {
    "execution": {
     "iopub.execute_input": "2023-07-17T19:02:02.972219Z",
     "iopub.status.busy": "2023-07-17T19:02:02.971899Z",
     "iopub.status.idle": "2023-07-17T19:02:03.859498Z",
     "shell.execute_reply": "2023-07-17T19:02:03.858292Z"
    },
    "papermill": {
     "duration": 0.904356,
     "end_time": "2023-07-17T19:02:03.862168",
     "exception": false,
     "start_time": "2023-07-17T19:02:02.957812",
     "status": "completed"
    },
    "tags": []
   },
   "outputs": [],
   "source": [
    "## Save memory - delete sentence_index since it is no longer necessary\n",
    "del sentence_index\n",
    "del prompt_embeddings\n",
    "_ = gc.collect()"
   ]
  },
  {
   "cell_type": "markdown",
   "id": "43b3f0dd",
   "metadata": {
    "papermill": {
     "duration": 0.012902,
     "end_time": "2023-07-17T19:02:03.889761",
     "exception": false,
     "start_time": "2023-07-17T19:02:03.876859",
     "status": "completed"
    },
    "tags": []
   },
   "source": [
    "#### Load the Wikipedia Index File"
   ]
  },
  {
   "cell_type": "code",
   "execution_count": 12,
   "id": "9cd62fa4",
   "metadata": {
    "execution": {
     "iopub.execute_input": "2023-07-17T19:02:03.918781Z",
     "iopub.status.busy": "2023-07-17T19:02:03.917756Z",
     "iopub.status.idle": "2023-07-17T19:02:09.357246Z",
     "shell.execute_reply": "2023-07-17T19:02:09.356150Z"
    },
    "papermill": {
     "duration": 5.456738,
     "end_time": "2023-07-17T19:02:09.359884",
     "exception": false,
     "start_time": "2023-07-17T19:02:03.903146",
     "status": "completed"
    },
    "tags": []
   },
   "outputs": [],
   "source": [
    "df = pd.read_parquet(\"/home/clay/research/kaggle/kaggle_llm/data/wikipedia-20230701/wiki_2023_index.parquet\", columns=['id', 'file'])"
   ]
  },
  {
   "cell_type": "code",
   "execution_count": 13,
   "id": "f90f5ef6",
   "metadata": {
    "execution": {
     "iopub.execute_input": "2023-07-17T19:02:09.386500Z",
     "iopub.status.busy": "2023-07-17T19:02:09.386160Z",
     "iopub.status.idle": "2023-07-17T19:02:10.216456Z",
     "shell.execute_reply": "2023-07-17T19:02:10.215366Z"
    },
    "papermill": {
     "duration": 0.846253,
     "end_time": "2023-07-17T19:02:10.218928",
     "exception": false,
     "start_time": "2023-07-17T19:02:09.372675",
     "status": "completed"
    },
    "tags": []
   },
   "outputs": [
    {
     "data": {
      "application/vnd.jupyter.widget-view+json": {
       "model_id": "7661028556a14fbeb4690f7b7ad9662d",
       "version_major": 2,
       "version_minor": 0
      },
      "text/plain": [
       "  0%|          | 0/200 [00:00<?, ?it/s]"
      ]
     },
     "metadata": {},
     "output_type": "display_data"
    }
   ],
   "source": [
    "## Get the article and associated file location using the index\n",
    "wikipedia_file_data = []\n",
    "\n",
    "for i, (scr, idx) in tqdm(enumerate(zip(search_score, search_index)), total=len(search_score)):\n",
    "    \n",
    "    ## Get indices by score threshold\n",
    "    #scr_idx = idx[np.where(scr <= 0.85)]\n",
    "    scr_idx = idx\n",
    "    _df = df.loc[scr_idx].copy()\n",
    "    _df['prompt_id'] = i\n",
    "    wikipedia_file_data.append(_df)\n",
    "wikipedia_file_data = pd.concat(wikipedia_file_data).reset_index(drop=True)\n",
    "wikipedia_file_data = wikipedia_file_data[['id', 'prompt_id', 'file']].drop_duplicates().sort_values(['file', 'id']).reset_index(drop=True)\n",
    "\n",
    "## Save memory - delete df since it is no longer necessary\n",
    "del df\n",
    "_ = gc.collect()"
   ]
  },
  {
   "cell_type": "code",
   "execution_count": 16,
   "id": "d5ef76f0",
   "metadata": {
    "execution": {
     "iopub.execute_input": "2023-07-17T19:02:10.246095Z",
     "iopub.status.busy": "2023-07-17T19:02:10.245771Z",
     "iopub.status.idle": "2023-07-17T19:06:37.882288Z",
     "shell.execute_reply": "2023-07-17T19:06:37.877634Z"
    },
    "papermill": {
     "duration": 267.666841,
     "end_time": "2023-07-17T19:06:37.898556",
     "exception": false,
     "start_time": "2023-07-17T19:02:10.231715",
     "status": "completed"
    },
    "tags": []
   },
   "outputs": [
    {
     "data": {
      "application/vnd.jupyter.widget-view+json": {
       "model_id": "91543dc30b7e4eada48551e69f4ab55a",
       "version_major": 2,
       "version_minor": 0
      },
      "text/plain": [
       "  0%|          | 0/28 [00:00<?, ?it/s]"
      ]
     },
     "metadata": {},
     "output_type": "display_data"
    }
   ],
   "source": [
    "## Get the full text data\n",
    "wiki_text_data = []\n",
    "\n",
    "for file in tqdm(wikipedia_file_data.file.unique(), total=len(wikipedia_file_data.file.unique())):\n",
    "    _id = [str(i) for i in wikipedia_file_data[wikipedia_file_data['file']==file]['id'].tolist()]\n",
    "    _df = pd.read_parquet(f\"{WIKI_PATH}/{file}\", columns=['id', 'text'])\n",
    "\n",
    "    _df = _df[_df['id'].isin(_id)]\n",
    "    wiki_text_data.append(_df)\n",
    "    _ = gc.collect()\n",
    "wiki_text_data = pd.concat(wiki_text_data).drop_duplicates().reset_index(drop=True)\n",
    "_ = gc.collect()"
   ]
  },
  {
   "cell_type": "markdown",
   "id": "f28efaa4",
   "metadata": {
    "papermill": {
     "duration": 0.017003,
     "end_time": "2023-07-17T19:06:37.930267",
     "exception": false,
     "start_time": "2023-07-17T19:06:37.913264",
     "status": "completed"
    },
    "tags": []
   },
   "source": [
    "## Split full-text Wikipedia Documents into Sentences\n",
    "\n",
    "We split the Wikipedia documents into sentences because we can observe that in many cases it seems that GPT3.5 directly took the answers from the text. We therefore want to retrieve the most similar sentences to provide context."
   ]
  },
  {
   "cell_type": "code",
   "execution_count": 17,
   "id": "aa9e9298",
   "metadata": {
    "execution": {
     "iopub.execute_input": "2023-07-17T19:06:37.964926Z",
     "iopub.status.busy": "2023-07-17T19:06:37.964611Z",
     "iopub.status.idle": "2023-07-17T19:06:42.181875Z",
     "shell.execute_reply": "2023-07-17T19:06:42.180685Z"
    },
    "papermill": {
     "duration": 4.241642,
     "end_time": "2023-07-17T19:06:42.184560",
     "exception": false,
     "start_time": "2023-07-17T19:06:37.942918",
     "status": "completed"
    },
    "tags": []
   },
   "outputs": [
    {
     "data": {
      "application/vnd.jupyter.widget-view+json": {
       "model_id": "512bd8b593544512af772b60f295827a",
       "version_major": 2,
       "version_minor": 0
      },
      "text/plain": [
       "  0%|          | 0/576 [00:00<?, ?it/s]"
      ]
     },
     "metadata": {},
     "output_type": "display_data"
    },
    {
     "data": {
      "application/vnd.jupyter.widget-view+json": {
       "model_id": "dfff6d4d9f4f4d67a3c9c125311e00d0",
       "version_major": 2,
       "version_minor": 0
      },
      "text/plain": [
       "  0%|          | 0/576 [00:00<?, ?it/s]"
      ]
     },
     "metadata": {},
     "output_type": "display_data"
    }
   ],
   "source": [
    "## Parse documents into sentences\n",
    "processed_wiki_text_data = process_documents(wiki_text_data.text.values, wiki_text_data.id.values)"
   ]
  },
  {
   "cell_type": "code",
   "execution_count": 18,
   "id": "ddfb1ce9",
   "metadata": {
    "execution": {
     "iopub.execute_input": "2023-07-17T19:06:42.213835Z",
     "iopub.status.busy": "2023-07-17T19:06:42.213248Z",
     "iopub.status.idle": "2023-07-17T19:07:08.943802Z",
     "shell.execute_reply": "2023-07-17T19:07:08.942656Z"
    },
    "papermill": {
     "duration": 26.747951,
     "end_time": "2023-07-17T19:07:08.946437",
     "exception": false,
     "start_time": "2023-07-17T19:06:42.198486",
     "status": "completed"
    },
    "tags": []
   },
   "outputs": [
    {
     "data": {
      "application/vnd.jupyter.widget-view+json": {
       "model_id": "280f33076c6744aaaa66a606939c4423",
       "version_major": 2,
       "version_minor": 0
      },
      "text/plain": [
       "Batches:   0%|          | 0/2020 [00:00<?, ?it/s]"
      ]
     },
     "metadata": {},
     "output_type": "display_data"
    }
   ],
   "source": [
    "## Get embeddings of the wiki text data\n",
    "wiki_data_embeddings = model.encode(\n",
    "    processed_wiki_text_data.text, \n",
    "    batch_size=BATCH_SIZE, device=DEVICE, \n",
    "    show_progress_bar=True, \n",
    "    convert_to_tensor=True, \n",
    "    normalize_embeddings=True\n",
    ").half()\n",
    "wiki_data_embeddings = wiki_data_embeddings.detach().cpu().numpy()"
   ]
  },
  {
   "cell_type": "code",
   "execution_count": 19,
   "id": "fa36a6b8",
   "metadata": {
    "execution": {
     "iopub.execute_input": "2023-07-17T19:07:08.974372Z",
     "iopub.status.busy": "2023-07-17T19:07:08.974047Z",
     "iopub.status.idle": "2023-07-17T19:07:09.275576Z",
     "shell.execute_reply": "2023-07-17T19:07:09.274437Z"
    },
    "papermill": {
     "duration": 0.317835,
     "end_time": "2023-07-17T19:07:09.277835",
     "exception": false,
     "start_time": "2023-07-17T19:07:08.960000",
     "status": "completed"
    },
    "tags": []
   },
   "outputs": [],
   "source": [
    "_ = gc.collect()"
   ]
  },
  {
   "cell_type": "markdown",
   "id": "be655a2b",
   "metadata": {
    "papermill": {
     "duration": 0.012814,
     "end_time": "2023-07-17T19:07:09.303905",
     "exception": false,
     "start_time": "2023-07-17T19:07:09.291091",
     "status": "completed"
    },
    "tags": []
   },
   "source": [
    "Found that encoding the prompt and the answers gave the best quality results for retrieval."
   ]
  },
  {
   "cell_type": "code",
   "execution_count": 20,
   "id": "fa2da04c",
   "metadata": {
    "execution": {
     "iopub.execute_input": "2023-07-17T19:07:09.331180Z",
     "iopub.status.busy": "2023-07-17T19:07:09.330716Z",
     "iopub.status.idle": "2023-07-17T19:07:09.352195Z",
     "shell.execute_reply": "2023-07-17T19:07:09.351290Z"
    },
    "papermill": {
     "duration": 0.037625,
     "end_time": "2023-07-17T19:07:09.354302",
     "exception": false,
     "start_time": "2023-07-17T19:07:09.316677",
     "status": "completed"
    },
    "tags": []
   },
   "outputs": [],
   "source": [
    "## Combine all answers\n",
    "trn['answer_all'] = trn.apply(lambda x: \" \".join([x['A'], x['B'], x['C'], x['D'], x['E']]), axis=1)\n",
    "\n",
    "## Search using the prompt and answers to guide the search\n",
    "trn['prompt_answer_stem'] = trn['prompt'] + \" \" + trn['answer_all']"
   ]
  },
  {
   "cell_type": "code",
   "execution_count": 21,
   "id": "8cf603ee",
   "metadata": {
    "execution": {
     "iopub.execute_input": "2023-07-17T19:07:09.382490Z",
     "iopub.status.busy": "2023-07-17T19:07:09.382172Z",
     "iopub.status.idle": "2023-07-17T19:07:09.812428Z",
     "shell.execute_reply": "2023-07-17T19:07:09.811413Z"
    },
    "papermill": {
     "duration": 0.447174,
     "end_time": "2023-07-17T19:07:09.814511",
     "exception": false,
     "start_time": "2023-07-17T19:07:09.367337",
     "status": "completed"
    },
    "tags": []
   },
   "outputs": [
    {
     "data": {
      "application/vnd.jupyter.widget-view+json": {
       "model_id": "43d5b528b2274b19813e57a1cf012d7b",
       "version_major": 2,
       "version_minor": 0
      },
      "text/plain": [
       "Batches:   0%|          | 0/13 [00:00<?, ?it/s]"
      ]
     },
     "metadata": {},
     "output_type": "display_data"
    }
   ],
   "source": [
    "question_embeddings = model.encode(trn.prompt_answer_stem.values, batch_size=BATCH_SIZE, device=DEVICE, show_progress_bar=True, convert_to_tensor=True, normalize_embeddings=True).half()\n",
    "question_embeddings = question_embeddings.detach().cpu().numpy()"
   ]
  },
  {
   "cell_type": "code",
   "execution_count": 22,
   "id": "7583a462",
   "metadata": {
    "execution": {
     "iopub.execute_input": "2023-07-17T19:07:09.846733Z",
     "iopub.status.busy": "2023-07-17T19:07:09.845923Z",
     "iopub.status.idle": "2023-07-17T19:07:11.244466Z",
     "shell.execute_reply": "2023-07-17T19:07:11.243443Z"
    },
    "papermill": {
     "duration": 1.41834,
     "end_time": "2023-07-17T19:07:11.247638",
     "exception": false,
     "start_time": "2023-07-17T19:07:09.829298",
     "status": "completed"
    },
    "tags": []
   },
   "outputs": [],
   "source": [
    "## Parameter to determine how many relevant sentences to include\n",
    "NUM_SENTENCES_INCLUDE = 3\n",
    "\n",
    "## List containing Question, Choices, Context\n",
    "prompt_contexts = []\n",
    "\n",
    "## List containing just Context\n",
    "contexts = []\n",
    "\n",
    "for r in trn.itertuples():\n",
    "    prompt_context = \"\"\n",
    "\n",
    "    prompt_id = r.id\n",
    "\n",
    "    prompt_indices = processed_wiki_text_data[processed_wiki_text_data['document_id'].isin(wikipedia_file_data[wikipedia_file_data['prompt_id']==prompt_id]['id'].values)].index.values\n",
    "    prompt_context += \"Question: \" + trn.prompt.iloc[prompt_id] + \"\\n\"\n",
    "\n",
    "    prompt_context += \"Choices:\\n\"\n",
    "    prompt_context += \"(A) \" + trn.A.iloc[prompt_id] + \"\\n\"\n",
    "    prompt_context += \"(B) \" + trn.B.iloc[prompt_id] + \"\\n\"\n",
    "    prompt_context += \"(C) \" + trn.C.iloc[prompt_id] + \"\\n\"\n",
    "    prompt_context += \"(D) \" + trn.D.iloc[prompt_id] + \"\\n\"\n",
    "    prompt_context += \"(E) \" + trn.E.iloc[prompt_id] + \"\\n\"\n",
    "\n",
    "    if prompt_indices.shape[0] > 0:\n",
    "        prompt_context += \"Context:\\n\"\n",
    "        ## Per Prompt Index\n",
    "        prompt_index = faiss.index_factory(wiki_data_embeddings.shape[1], \"Flat\")\n",
    "        prompt_index.add(wiki_data_embeddings[prompt_indices])\n",
    "\n",
    "        context = \"\"\n",
    "        \n",
    "        ## Get the top matches\n",
    "        ss, ii = prompt_index.search(question_embeddings, NUM_SENTENCES_INCLUDE)\n",
    "        for _s, _i in zip(ss[prompt_id], ii[prompt_id]):\n",
    "            ## Threshold on the score\n",
    "            if _s < 2:\n",
    "                context += processed_wiki_text_data.loc[prompt_indices]['text'].iloc[_i] + \"\\n\"\n",
    "        prompt_context += context\n",
    "        \n",
    "    contexts.append(context)\n",
    "    prompt_contexts.append(prompt_context)"
   ]
  },
  {
   "cell_type": "code",
   "execution_count": 23,
   "id": "aff53e13",
   "metadata": {
    "execution": {
     "iopub.execute_input": "2023-07-17T19:07:11.280251Z",
     "iopub.status.busy": "2023-07-17T19:07:11.279871Z",
     "iopub.status.idle": "2023-07-17T19:07:11.285491Z",
     "shell.execute_reply": "2023-07-17T19:07:11.284499Z"
    },
    "papermill": {
     "duration": 0.023172,
     "end_time": "2023-07-17T19:07:11.287726",
     "exception": false,
     "start_time": "2023-07-17T19:07:11.264554",
     "status": "completed"
    },
    "tags": []
   },
   "outputs": [],
   "source": [
    "trn['context'] = contexts"
   ]
  },
  {
   "cell_type": "code",
   "execution_count": null,
   "id": "0737dd98",
   "metadata": {
    "execution": {
     "iopub.execute_input": "2023-07-17T19:07:11.316510Z",
     "iopub.status.busy": "2023-07-17T19:07:11.316195Z",
     "iopub.status.idle": "2023-07-17T19:07:11.371112Z",
     "shell.execute_reply": "2023-07-17T19:07:11.370184Z"
    },
    "papermill": {
     "duration": 0.071991,
     "end_time": "2023-07-17T19:07:11.373443",
     "exception": false,
     "start_time": "2023-07-17T19:07:11.301452",
     "status": "completed"
    },
    "tags": []
   },
   "outputs": [],
   "source": [
    "trn.to_csv(\"./train_context.csv\", index=False)"
   ]
  },
  {
   "cell_type": "markdown",
   "id": "cb161798",
   "metadata": {
    "papermill": {
     "duration": 0.012884,
     "end_time": "2023-07-17T19:07:11.399459",
     "exception": false,
     "start_time": "2023-07-17T19:07:11.386575",
     "status": "completed"
    },
    "tags": []
   },
   "source": [
    "## Open Book Test Taking!\n",
    "\n",
    "Below we can see some results which provides not only the question and choices, but also context from Wikipedia which may provide crucial hints or even the answers themselves!"
   ]
  },
  {
   "cell_type": "code",
   "execution_count": 24,
   "id": "90408ef3",
   "metadata": {
    "execution": {
     "iopub.execute_input": "2023-07-17T19:07:11.426334Z",
     "iopub.status.busy": "2023-07-17T19:07:11.426053Z",
     "iopub.status.idle": "2023-07-17T19:07:11.432118Z",
     "shell.execute_reply": "2023-07-17T19:07:11.431094Z"
    },
    "papermill": {
     "duration": 0.024672,
     "end_time": "2023-07-17T19:07:11.437026",
     "exception": false,
     "start_time": "2023-07-17T19:07:11.412354",
     "status": "completed"
    },
    "scrolled": false,
    "tags": []
   },
   "outputs": [
    {
     "name": "stdout",
     "output_type": "stream",
     "text": [
      "Question 0\n",
      "Question: Which of the following statements accurately describes the impact of Modified Newtonian Dynamics (MOND) on the observed \"missing baryonic mass\" discrepancy in galaxy clusters?\n",
      "Choices:\n",
      "(A) MOND is a theory that reduces the observed missing baryonic mass in galaxy clusters by postulating the existence of a new form of matter called \"fuzzy dark matter.\"\n",
      "(B) MOND is a theory that increases the discrepancy between the observed missing baryonic mass in galaxy clusters and the measured velocity dispersions from a factor of around 10 to a factor of about 20.\n",
      "(C) MOND is a theory that explains the missing baryonic mass in galaxy clusters that was previously considered dark matter by demonstrating that the mass is in the form of neutrinos and axions.\n",
      "(D) MOND is a theory that reduces the discrepancy between the observed missing baryonic mass in galaxy clusters and the measured velocity dispersions from a factor of around 10 to a factor of about 2.\n",
      "(E) MOND is a theory that eliminates the observed missing baryonic mass in galaxy clusters by imposing a new mathematical formulation of gravity that does not require the existence of dark matter.\n",
      "Context:\n",
      "The presence of a clustered thick disk-like component of dark matter in the Galaxy has been suggested by Sanchez-Salcedo (1997, 1999) and Kerins (1997).Kerins, E. J. 1997, Astronomy and Astrophysics, 322, 709-718 (ADS entry )Sánchez-Salcedo, F. J. 1997, Astrophysical Journal, 487, L61-L64 (ADS entry )Sánchez-Salcedo, F. J. 1999, Monthly Notices of the Royal Astronomical Society, 303, 755-772 (ADS entry ) ==See also== * Dark matter * Brown dwarfs * White dwarfs * Microlensing * Hypercompact stellar system * Massive compact halo object (MACHOs) * Weakly interacting massive particles (WIMPs) ==References== Category:Star clusters Category:Open clusters\n",
      "Observations of the Bullet Cluster are the strongest evidence for the existence of dark matter; however, Brownstein and Moffat have shown that their modified gravity theory can also account for the properties of the cluster. == Observational methods == Clusters of galaxies have been found in surveys by a number of observational techniques and have been studied in detail using many methods: * Optical or infrared: The individual galaxies of clusters can be studied through optical or infrared imaging and spectroscopy.\n",
      "The observed distortions can be used to model the distribution of dark matter in the cluster. == Temperature and density == Clusters of galaxies are the most recent and most massive objects to have arisen in the hierarchical structure formation of the Universe and the study of clusters tells one about the way galaxies form and evolve.\n",
      "\n",
      "\n",
      "Question 1\n",
      "Question: Which of the following is an accurate definition of dynamic scaling in self-similar systems?\n",
      "Choices:\n",
      "(A) Dynamic scaling refers to the evolution of self-similar systems, where data obtained from snapshots at fixed times exhibits similarity to the respective data taken from snapshots of any earlier or later time. This similarity is tested by a certain time-dependent stochastic variable x.\n",
      "(B) Dynamic scaling refers to the non-evolution of self-similar systems, where data obtained from snapshots at fixed times is similar to the respective data taken from snapshots of any earlier or later time. This similarity is tested by a certain time-dependent stochastic variable x.\n",
      "(C) Dynamic scaling refers to the evolution of self-similar systems, where data obtained from snapshots at fixed times is dissimilar to the respective data taken from snapshots of any earlier or later time. This dissimilarity is tested by a certain time-independent stochastic variable y.\n",
      "(D) Dynamic scaling refers to the non-evolution of self-similar systems, where data obtained from snapshots at fixed times is dissimilar to the respective data taken from snapshots of any earlier or later time. This dissimilarity is tested by a certain time-independent stochastic variable y.\n",
      "(E) Dynamic scaling refers to the evolution of self-similar systems, where data obtained from snapshots at fixed times is independent of the respective data taken from snapshots of any earlier or later time. This independence is tested by a certain time-dependent stochastic variable z.\n",
      "Context:\n",
      "Many of these systems evolve in a self-similar fashion in the sense that data obtained from the snapshot at any fixed time is similar to the respective data taken from the snapshot of any earlier or later time.\n",
      "Many other seemingly disparate systems which are found to exhibit dynamic scaling.\n",
      "The form of their proposal for dynamic scaling was: :f(x,t)\\sim t^{-w}x^{-\\tau} \\varphi \\left( \\frac x {t^z} \\right), where the exponents satisfy the following relation: :w=(2-\\tau)z. == Test for dynamic scaling == In such systems we can define a certain time-dependent stochastic variable x.\n",
      "\n",
      "\n",
      "Question 2\n",
      "Question: Which of the following statements accurately describes the origin and significance of the triskeles symbol?\n",
      "Choices:\n",
      "(A) The triskeles symbol was reconstructed as a feminine divine triad by the rulers of Syracuse, and later adopted as an emblem. Its usage may also be related to the Greek name of Sicily, Trinacria, which means \"having three headlands.\" The head of Medusa at the center of the Sicilian triskeles represents the three headlands.\n",
      "(B) The triskeles symbol is a representation of three interlinked spirals, which was adopted as an emblem by the rulers of Syracuse. Its usage in modern flags of Sicily has its origins in the ancient Greek name for the island, Trinacria, which means \"Sicily with three corners.\" The head of Medusa at the center is a representation of the island's rich cultural heritage.\n",
      "(C) The triskeles symbol is a representation of a triple goddess, reconstructed by the rulers of Syracuse, who adopted it as an emblem. Its significance lies in the fact that it represents the Greek name for Sicily, Trinacria, which contains the element \"tria,\" meaning three. The head of Medusa at the center of the Sicilian triskeles represents the three headlands.\n",
      "(D) The triskeles symbol represents three interlocked spiral arms, which became an emblem for the rulers of Syracuse. Its usage in modern flags of Sicily is due to the island's rich cultural heritage, which dates back to ancient times. The head of Medusa at the center represents the lasting influence of Greek mythology on Sicilian culture.\n",
      "(E) The triskeles symbol is a representation of the Greek goddess Hecate, reconstructed by the rulers of Syracuse. Its adoption as an emblem was due to its cultural significance, as it represented the ancient Greek name for Sicily, Trinacria. The head of Medusa at the center of the Sicilian triskeles represents the island's central location in the Mediterranean.\n",
      "Context:\n",
      "It is possible that this usage is related with the Greek name of the island of Sicily, Trinacria (Τρινακρία \"having three headlands\").Liddell and Scott’s Greek-English Lexicon (A Lexicon Abridged from), Oxford, 1944, p.27, Cassell's Latin Dictionary, Marchant, J.R.V, & Charles, Joseph F., (Eds.), Revised Edition, 1928 The Sicilian triskeles is shown with the head of Medusa at the center.Matthews, Jeff (2005) Symbols of Naples The ancient symbol has been re-introduced in modern flags of Sicily since 1848.\n",
      "An early flag of Sicily, proposed in 1848, included the Sicilian triskeles or \"Trinacria symbol\".\n",
      "The triskeles was adopted as emblem by the rulers of Syracuse.\n",
      "\n",
      "\n",
      "Question 3\n",
      "Question: What is the significance of regularization in terms of renormalization problems in physics?\n",
      "Choices:\n",
      "(A) Regularizing the mass-energy of an electron with a finite radius can theoretically simplify calculations involving infinities or singularities, thereby providing explanations that would otherwise be impossible to achieve.\n",
      "(B) Regularizing the mass-energy of an electron with an infinite radius allows for the breakdown of a theory that is valid under one set of conditions. This approach can be applied to other renormalization problems as well.\n",
      "(C) Regularizing the mass-energy of an electron with a finite radius is a means of demonstrating that a system below a certain size can be explained without the need for further calculations. This approach can be applied to other renormalization problems as well.\n",
      "(D) Regularizing the mass-energy of an electron with an infinite radius can be used to provide a highly accurate description of a system under specific conditions. This approach can be transferred to other renormalization problems as well.\n",
      "(E) Regularizing the mass-energy of an electron with an infinite radius is essential for explaining how a system below a certain size operates. This approach can be applied to other renormalization problems as well.\n",
      "Context:\n",
      "Renormalization is distinct from regularization, another technique to control infinities by assuming the existence of new unknown physics at new scales. == Self-interactions in classical physics == thumbnail|upright=1.3|Figure 1.\n",
      "Regularization is the first step towards obtaining a completely finite and meaningful result; in quantum field theory it must be usually followed by a related, but independent technique called renormalization.\n",
      "Rather than the existence of unknown new physics, assuming the existence of particle interactions with other surrounding particles in the environment, renormalization offers an alternatively strategy to resolve infinities in such classical problems. ==Specific types== Specific types of regularization procedures include *Dimensional regularization *Pauli–Villars regularization *Lattice regularization *Zeta function regularization *Causal regularizationScharf, G.: Finite Quantum Electrodynamics: The Causal Approach, Springer 1995.\n",
      "\n",
      "\n",
      "Question 4\n",
      "Question: Which of the following statements accurately describes the relationship between the dimensions of a diffracting object and the angular spacing of features in the diffraction pattern?\n",
      "Choices:\n",
      "(A) The angular spacing of features in the diffraction pattern is indirectly proportional to the dimensions of the object causing the diffraction. Therefore, if the diffracting object is smaller, the resulting diffraction pattern will be narrower.\n",
      "(B) The angular spacing of features in the diffraction pattern is directly proportional to the dimensions of the object causing the diffraction. Therefore, if the diffracting object is smaller, the resulting diffraction pattern will be narrower.\n",
      "(C) The angular spacing of features in the diffraction pattern is independent of the dimensions of the object causing the diffraction. Therefore, if the diffracting object is smaller, the resulting diffraction pattern will be the same as if it were big.\n",
      "(D) The angular spacing of features in the diffraction pattern is inversely proportional to the dimensions of the object causing the diffraction. Therefore, if the diffracting object is smaller, the resulting diffraction pattern will be wider.\n",
      "(E) The angular spacing of features in the diffraction pattern is directly proportional to the square root of the dimensions of the object causing the diffraction. Therefore, if the diffracting object is smaller, the resulting diffraction pattern will be slightly narrower.\n",
      "Context:\n",
      "Several qualitative observations can be made of diffraction in general: * The angular spacing of the features in the diffraction pattern is inversely proportional to the dimensions of the object causing the diffraction.\n",
      "In other words: The smaller the diffracting object, the 'wider' the resulting diffraction pattern, and vice versa.\n",
      "* The diffraction angles are invariant under scaling; that is, they depend only on the ratio of the wavelength to the size of the diffracting object.\n",
      "\n",
      "\n",
      "Question 5\n",
      "Question: Which of the following statements accurately depicts the relationship between Gauss's law, electric flux, electric field, and symmetry in electric fields?\n",
      "Choices:\n",
      "(A) Gauss's law holds only for situations involving symmetric electric fields, like those with spherical or cylindrical symmetry, and doesn't apply to other field types. Electric flux, as an expression of the total electric field passing through a closed surface, is influenced only by charges within the surface and unaffected by distant charges located outside it. The scalar quantity electric flux is strictly measured in SI fundamental quantities as kg·m3·s−3·A.\n",
      "(B) Gauss's law holds in all cases, but it is most useful for calculations involving symmetric electric fields, like those with spherical or cylindrical symmetry, as they allow for simpler algebraic manipulations. Electric flux is not affected by distant charges outside the closed surface, whereas the net electric field, E, can be influenced by any charges positioned outside of the closed surface. In SI base units, the electric flux is expressed as kg·m3·s−3·A−1.\n",
      "(C) Gauss's law, which applies equally to all electric fields, is typically most useful when dealing with symmetric field configurations, like those with spherical or cylindrical symmetry, since it makes it easier to calculate the total electric flux. Electric flux, an expression of the total electric field through a closed surface, is unaffected by charges outside the surface, while net electric field, E, may be influenced by charges located outside the closed surface. Electric flux is expressed in SI base units as kg·m3·s−1·C.\n",
      "(D) Gauss's law only holds for electric fields with cylindrical symmetry, like those of a straight long wire; it is not applicable to fields with other types of symmetry. Electric flux, which measures the total electric field across a closed surface, is influenced by all charges within the surface as well as by those located outside it. The unit of electric flux in SI base units is kg·m2·s−2·A−1.\n",
      "(E) Gauss's law, which holds for all situations, is most beneficial when applied to electric fields that exhibit higher degrees of symmetry, like those with cylindrical and spherical symmetry. While electric flux is unaffected by charges outside of a given closed surface, the net electric field, E, may be affected by them. The unit of electric flux in SI base units is kg·m2·s−1·C.\n",
      "Context:\n",
      "For a closed Gaussian surface, electric flux is given by: where * is the electric field, * is any closed surface, * is the total electric charge inside the surface , * is the electric constant (a universal constant, also called the \"permittivity of free space\") () This relation is known as Gauss' law for electric fields in its integral form and it is one of Maxwell's equations.\n",
      "Under these circumstances, Gauss's law modifies to \\Phi_E = \\frac{Q_\\mathrm{free}}{\\varepsilon} for the integral form, and abla \\cdot \\mathbf{E} = \\frac{\\rho_\\mathrm{free}}{\\varepsilon} for the differential form. ==Interpretations== ===In terms of fields of force=== Gauss's theorem can be interpreted in terms of the lines of force of the field as follows: The flux through a closed surface is dependent upon both the magnitude and direction of the electric field lines penetrating the surface.\n",
      "See the article Gaussian surface for examples where these symmetries are exploited to compute electric fields. ===Differential form=== By the divergence theorem, Gauss's law can alternatively be written in the differential form: abla \\cdot \\mathbf{E} = \\frac{\\rho}{\\varepsilon_0 \\varepsilon_r} where is the divergence of the electric field, is the vacuum permittivity, \\varepsilon_r is the relative permittivity, and is the volume charge density (charge per unit volume). ===Equivalence of integral and differential forms=== The integral and differential forms are mathematically equivalent, by the divergence theorem.\n",
      "\n",
      "\n",
      "Question 6\n",
      "Question: Which of the following statements accurately describes the dimension of an object in a CW complex?\n",
      "Choices:\n",
      "(A) The dimension of an object in a CW complex is the largest n for which the n-skeleton is nontrivial, where the empty set is considered to have dimension -1 and the boundary of a discrete set of points is the empty set.\n",
      "(B) The dimension of an object in a CW complex is determined by the number of critical points the object contains. The boundary of a discrete set of points is considered to have dimension 1, while the empty set is given a dimension of 0.\n",
      "(C) The dimension of an object in a CW complex is the smallest n for which the n-skeleton is nontrivial. The empty set is given a dimension of -1, while the boundary of a discrete set of points is assigned a dimension of 0.\n",
      "(D) The dimension of an object in a CW complex is calculated by counting the number of cells of all dimensions in the object. The empty set is given a dimension of 0, while the boundary of a discrete set of points is assigned a dimension of -1.\n",
      "(E) The dimension of an object in a CW complex depends on the number of singularities in the object. The empty set and the boundary of a discrete set of points are both assigned a dimension of 0.\n",
      "Context:\n",
      "This extra-block can be treated as a (-1)-dimensional cell in the former definition. == Examples == === 0-dimensional CW complexes === Every discrete topological space is a 0-dimensional CW complex. === 1-dimensional CW complexes === Some examples of 1-dimensional CW complexes are:Archived at Ghostarchive and the Wayback Machine: * An interval.\n",
      "* In general, an n-dimensional CW complex is constructed by taking the disjoint union of a k-dimensional CW complex (for some k) with one or more copies of the n-dimensional ball.\n",
      "* A 1-dimensional CW complex is constructed by taking the disjoint union of a 0-dimensional CW complex with one or more copies of the unit interval.\n",
      "\n",
      "\n",
      "Question 7\n",
      "Question: Which of the following statements accurately describes the blocking temperature of an antiferromagnetic layer in a spin valve?\n",
      "Choices:\n",
      "(A) The blocking temperature of an antiferromagnetic layer in a spin valve is the temperature at which the magnetization of the ferromagnetic layer becomes aligned with the magnetic field. The blocking temperature is typically higher than the Néel temperature.\n",
      "(B) The blocking temperature of an antiferromagnetic layer in a spin valve is the temperature below which the layer loses its ability to \"pin\" the magnetization direction of an adjacent ferromagnetic layer. The blocking temperature is typically higher than the Néel temperature.\n",
      "(C) The blocking temperature of an antiferromagnetic layer in a spin valve is the temperature at which the ferromagnetic layer becomes completely demagnetized. The blocking temperature is typically higher than the Néel temperature.\n",
      "(D) The blocking temperature of an antiferromagnetic layer in a spin valve is the temperature at or above which the layer ceases to prevent the orientation of an adjacent ferromagnetic layer. The blocking temperature is typically lower than the Néel temperature.\n",
      "(E) The blocking temperature of an antiferromagnetic layer in a spin valve is the temperature at which the ferromagnetic layer loses its ability to \"pin\" the magnetization direction of an adjacent antiferromagnetic layer. The blocking temperature is typically higher than the Néel temperature.\n",
      "Context:\n",
      "When it reaches the free layer the majority spins relax into lower-energy states of opposite spin, applying a torque to the free layer in the process.thumb|300px|right|A schematic diagram of a spin valve/magnetic tunnel junction.\n",
      "In a spin valve the spacer layer (purple) is metallic; in a magnetic tunnel junction it is insulating.\n",
      "thumb|right|Antisymmetric exchange would align spins perpendicular to each other Some antiferromagnetic materials exhibit a non-zero magnetic moment at a temperature near absolute zero.\n",
      "\n",
      "\n",
      "Question 8\n",
      "Question: What is the term used in astrophysics to describe light-matter interactions resulting in energy shifts in the radiation field?\n",
      "Choices:\n",
      "(A) Blueshifting\n",
      "(B) Redshifting\n",
      "(C) Reddening\n",
      "(D) Whitening\n",
      "(E) Yellowing\n",
      "Context:\n",
      "While such phenomena are sometimes referred to as \"redshifts\" and \"blueshifts\", in astrophysics light-matter interactions that result in energy shifts in the radiation field are generally referred to as \"reddening\" rather than \"redshifting\" which, as a term, is normally reserved for the effects discussed above.\n",
      "In physics, a redshift is an increase in the wavelength, and corresponding decrease in the frequency and photon energy, of electromagnetic radiation (such as light).\n",
      "The opposite change, a decrease in wavelength and simultaneous increase in frequency and energy, is known as a negative redshift, or blueshift.\n",
      "\n",
      "\n",
      "Question 9\n",
      "Question: What is the role of axioms in a formal theory?\n",
      "Choices:\n",
      "(A) Basis statements called axioms form the foundation of a formal theory and, together with the deducing rules, help in deriving a set of statements called theorems using proof theory.\n",
      "(B) Axioms are supplementary statements added to a formal theory that break down otherwise complex statements into more simple ones.\n",
      "(C) Axioms are redundant statements that can be derived from other statements in a formal theory, providing additional perspective to theorems derived from the theory.\n",
      "(D) The axioms in a theory are used for experimental validation of the theorems derived from the statements in the theory.\n",
      "(E) The axioms in a formal theory are added to prove that the statements derived from the theory are true, irrespective of their validity in the real world.\n",
      "Context:\n",
      "A formal system is an abstract structure used for inferring theorems from axioms according to a set of rules.\n",
      "The explication of the particular axioms used in a theory can help to clarify a suitable level of abstraction that the mathematician would like to work with.\n",
      "A formal theory is an axiomatic system (usually formulated within model theory) that describes a set of sentences that is closed under logical implication.\n",
      "\n",
      "\n"
     ]
    }
   ],
   "source": [
    "for i, p in enumerate(prompt_contexts[:10]):\n",
    "    print(f\"Question {i}\")\n",
    "    print(p)\n",
    "    print()"
   ]
  },
  {
   "cell_type": "code",
   "execution_count": null,
   "id": "17e01197",
   "metadata": {
    "papermill": {
     "duration": 0.014464,
     "end_time": "2023-07-17T19:07:11.467760",
     "exception": false,
     "start_time": "2023-07-17T19:07:11.453296",
     "status": "completed"
    },
    "tags": []
   },
   "outputs": [],
   "source": []
  }
 ],
 "metadata": {
  "kernelspec": {
   "display_name": "Python 3 (ipykernel)",
   "language": "python",
   "name": "python3"
  },
  "language_info": {
   "codemirror_mode": {
    "name": "ipython",
    "version": 3
   },
   "file_extension": ".py",
   "mimetype": "text/x-python",
   "name": "python",
   "nbconvert_exporter": "python",
   "pygments_lexer": "ipython3",
   "version": "3.10.9"
  },
  "papermill": {
   "default_parameters": {},
   "duration": 602.951999,
   "end_time": "2023-07-17T19:07:15.348494",
   "environment_variables": {},
   "exception": null,
   "input_path": "__notebook__.ipynb",
   "output_path": "__notebook__.ipynb",
   "parameters": {},
   "start_time": "2023-07-17T18:57:12.396495",
   "version": "2.4.0"
  },
  "widgets": {
   "application/vnd.jupyter.widget-state+json": {
    "state": {
     "0992b60ff9f249e6b721967e24c5b9da": {
      "model_module": "@jupyter-widgets/controls",
      "model_module_version": "1.5.0",
      "model_name": "DescriptionStyleModel",
      "state": {
       "_model_module": "@jupyter-widgets/controls",
       "_model_module_version": "1.5.0",
       "_model_name": "DescriptionStyleModel",
       "_view_count": null,
       "_view_module": "@jupyter-widgets/base",
       "_view_module_version": "1.2.0",
       "_view_name": "StyleView",
       "description_width": ""
      }
     },
     "0993ac79ed0546b99b3db99e0f2ba01e": {
      "model_module": "@jupyter-widgets/controls",
      "model_module_version": "1.5.0",
      "model_name": "HBoxModel",
      "state": {
       "_dom_classes": [],
       "_model_module": "@jupyter-widgets/controls",
       "_model_module_version": "1.5.0",
       "_model_name": "HBoxModel",
       "_view_count": null,
       "_view_module": "@jupyter-widgets/controls",
       "_view_module_version": "1.5.0",
       "_view_name": "HBoxView",
       "box_style": "",
       "children": [
        "IPY_MODEL_a21a13ed842547749b4de805b69420f7",
        "IPY_MODEL_9cf5daece4784bfe8b825a2e28d23fa8",
        "IPY_MODEL_dc92700b3a244a9c98ebbe2e4a9b8355"
       ],
       "layout": "IPY_MODEL_c171d4c23e4c48b0ad7237f812b6856f"
      }
     },
     "0bda4ce9a7854e89aa100de687cdad76": {
      "model_module": "@jupyter-widgets/base",
      "model_module_version": "1.2.0",
      "model_name": "LayoutModel",
      "state": {
       "_model_module": "@jupyter-widgets/base",
       "_model_module_version": "1.2.0",
       "_model_name": "LayoutModel",
       "_view_count": null,
       "_view_module": "@jupyter-widgets/base",
       "_view_module_version": "1.2.0",
       "_view_name": "LayoutView",
       "align_content": null,
       "align_items": null,
       "align_self": null,
       "border": null,
       "bottom": null,
       "display": null,
       "flex": null,
       "flex_flow": null,
       "grid_area": null,
       "grid_auto_columns": null,
       "grid_auto_flow": null,
       "grid_auto_rows": null,
       "grid_column": null,
       "grid_gap": null,
       "grid_row": null,
       "grid_template_areas": null,
       "grid_template_columns": null,
       "grid_template_rows": null,
       "height": null,
       "justify_content": null,
       "justify_items": null,
       "left": null,
       "margin": null,
       "max_height": null,
       "max_width": null,
       "min_height": null,
       "min_width": null,
       "object_fit": null,
       "object_position": null,
       "order": null,
       "overflow": null,
       "overflow_x": null,
       "overflow_y": null,
       "padding": null,
       "right": null,
       "top": null,
       "visibility": null,
       "width": null
      }
     },
     "10f5b01d8f0145d58f65f58bbc6c6b94": {
      "model_module": "@jupyter-widgets/controls",
      "model_module_version": "1.5.0",
      "model_name": "DescriptionStyleModel",
      "state": {
       "_model_module": "@jupyter-widgets/controls",
       "_model_module_version": "1.5.0",
       "_model_name": "DescriptionStyleModel",
       "_view_count": null,
       "_view_module": "@jupyter-widgets/base",
       "_view_module_version": "1.2.0",
       "_view_name": "StyleView",
       "description_width": ""
      }
     },
     "11f109a55f6b44f3a88f0f869e8a2e16": {
      "model_module": "@jupyter-widgets/controls",
      "model_module_version": "1.5.0",
      "model_name": "HTMLModel",
      "state": {
       "_dom_classes": [],
       "_model_module": "@jupyter-widgets/controls",
       "_model_module_version": "1.5.0",
       "_model_name": "HTMLModel",
       "_view_count": null,
       "_view_module": "@jupyter-widgets/controls",
       "_view_module_version": "1.5.0",
       "_view_name": "HTMLView",
       "description": "",
       "description_tooltip": null,
       "layout": "IPY_MODEL_6e060d060576478d96acc95ac35ebb26",
       "placeholder": "​",
       "style": "IPY_MODEL_b964f315318147fc898d9b76cb961b6d",
       "value": " 28/28 [04:27&lt;00:00,  3.61s/it]"
      }
     },
     "18249d157b894f319a4e48ceed9d7417": {
      "model_module": "@jupyter-widgets/controls",
      "model_module_version": "1.5.0",
      "model_name": "DescriptionStyleModel",
      "state": {
       "_model_module": "@jupyter-widgets/controls",
       "_model_module_version": "1.5.0",
       "_model_name": "DescriptionStyleModel",
       "_view_count": null,
       "_view_module": "@jupyter-widgets/base",
       "_view_module_version": "1.2.0",
       "_view_name": "StyleView",
       "description_width": ""
      }
     },
     "1ee69d388d26472c83a038029d193d3a": {
      "model_module": "@jupyter-widgets/base",
      "model_module_version": "1.2.0",
      "model_name": "LayoutModel",
      "state": {
       "_model_module": "@jupyter-widgets/base",
       "_model_module_version": "1.2.0",
       "_model_name": "LayoutModel",
       "_view_count": null,
       "_view_module": "@jupyter-widgets/base",
       "_view_module_version": "1.2.0",
       "_view_name": "LayoutView",
       "align_content": null,
       "align_items": null,
       "align_self": null,
       "border": null,
       "bottom": null,
       "display": null,
       "flex": null,
       "flex_flow": null,
       "grid_area": null,
       "grid_auto_columns": null,
       "grid_auto_flow": null,
       "grid_auto_rows": null,
       "grid_column": null,
       "grid_gap": null,
       "grid_row": null,
       "grid_template_areas": null,
       "grid_template_columns": null,
       "grid_template_rows": null,
       "height": null,
       "justify_content": null,
       "justify_items": null,
       "left": null,
       "margin": null,
       "max_height": null,
       "max_width": null,
       "min_height": null,
       "min_width": null,
       "object_fit": null,
       "object_position": null,
       "order": null,
       "overflow": null,
       "overflow_x": null,
       "overflow_y": null,
       "padding": null,
       "right": null,
       "top": null,
       "visibility": null,
       "width": null
      }
     },
     "204afe931ca44d748bdd563d05b857de": {
      "model_module": "@jupyter-widgets/controls",
      "model_module_version": "1.5.0",
      "model_name": "FloatProgressModel",
      "state": {
       "_dom_classes": [],
       "_model_module": "@jupyter-widgets/controls",
       "_model_module_version": "1.5.0",
       "_model_name": "FloatProgressModel",
       "_view_count": null,
       "_view_module": "@jupyter-widgets/controls",
       "_view_module_version": "1.5.0",
       "_view_name": "ProgressView",
       "bar_style": "success",
       "description": "",
       "description_tooltip": null,
       "layout": "IPY_MODEL_db0bb439c7fb4ee09f820c6d96c9252f",
       "max": 576,
       "min": 0,
       "orientation": "horizontal",
       "style": "IPY_MODEL_4dea659d6cd8479db0352a068df1f525",
       "value": 576
      }
     },
     "247f931ed59d41ad86356cb3ea93f435": {
      "model_module": "@jupyter-widgets/controls",
      "model_module_version": "1.5.0",
      "model_name": "ProgressStyleModel",
      "state": {
       "_model_module": "@jupyter-widgets/controls",
       "_model_module_version": "1.5.0",
       "_model_name": "ProgressStyleModel",
       "_view_count": null,
       "_view_module": "@jupyter-widgets/base",
       "_view_module_version": "1.2.0",
       "_view_name": "StyleView",
       "bar_color": null,
       "description_width": ""
      }
     },
     "298a1156658c4f829d21204d8ec09b22": {
      "model_module": "@jupyter-widgets/controls",
      "model_module_version": "1.5.0",
      "model_name": "DescriptionStyleModel",
      "state": {
       "_model_module": "@jupyter-widgets/controls",
       "_model_module_version": "1.5.0",
       "_model_name": "DescriptionStyleModel",
       "_view_count": null,
       "_view_module": "@jupyter-widgets/base",
       "_view_module_version": "1.2.0",
       "_view_name": "StyleView",
       "description_width": ""
      }
     },
     "2dcf8a706dcd4e46a93f01491b65b1ea": {
      "model_module": "@jupyter-widgets/controls",
      "model_module_version": "1.5.0",
      "model_name": "FloatProgressModel",
      "state": {
       "_dom_classes": [],
       "_model_module": "@jupyter-widgets/controls",
       "_model_module_version": "1.5.0",
       "_model_name": "FloatProgressModel",
       "_view_count": null,
       "_view_module": "@jupyter-widgets/controls",
       "_view_module_version": "1.5.0",
       "_view_name": "ProgressView",
       "bar_style": "success",
       "description": "",
       "description_tooltip": null,
       "layout": "IPY_MODEL_9c8736d84546428996f9b4d70b2ae024",
       "max": 2020,
       "min": 0,
       "orientation": "horizontal",
       "style": "IPY_MODEL_55e84d3694554e5f94d16768c2fc4b4c",
       "value": 2020
      }
     },
     "2f75b8dc3ed345f19909654cea01597d": {
      "model_module": "@jupyter-widgets/base",
      "model_module_version": "1.2.0",
      "model_name": "LayoutModel",
      "state": {
       "_model_module": "@jupyter-widgets/base",
       "_model_module_version": "1.2.0",
       "_model_name": "LayoutModel",
       "_view_count": null,
       "_view_module": "@jupyter-widgets/base",
       "_view_module_version": "1.2.0",
       "_view_name": "LayoutView",
       "align_content": null,
       "align_items": null,
       "align_self": null,
       "border": null,
       "bottom": null,
       "display": null,
       "flex": null,
       "flex_flow": null,
       "grid_area": null,
       "grid_auto_columns": null,
       "grid_auto_flow": null,
       "grid_auto_rows": null,
       "grid_column": null,
       "grid_gap": null,
       "grid_row": null,
       "grid_template_areas": null,
       "grid_template_columns": null,
       "grid_template_rows": null,
       "height": null,
       "justify_content": null,
       "justify_items": null,
       "left": null,
       "margin": null,
       "max_height": null,
       "max_width": null,
       "min_height": null,
       "min_width": null,
       "object_fit": null,
       "object_position": null,
       "order": null,
       "overflow": null,
       "overflow_x": null,
       "overflow_y": null,
       "padding": null,
       "right": null,
       "top": null,
       "visibility": null,
       "width": null
      }
     },
     "3080d6160f044b7397bdcdbad337179b": {
      "model_module": "@jupyter-widgets/controls",
      "model_module_version": "1.5.0",
      "model_name": "DescriptionStyleModel",
      "state": {
       "_model_module": "@jupyter-widgets/controls",
       "_model_module_version": "1.5.0",
       "_model_name": "DescriptionStyleModel",
       "_view_count": null,
       "_view_module": "@jupyter-widgets/base",
       "_view_module_version": "1.2.0",
       "_view_name": "StyleView",
       "description_width": ""
      }
     },
     "4498b15e84c84e31814fad3e0cc51229": {
      "model_module": "@jupyter-widgets/controls",
      "model_module_version": "1.5.0",
      "model_name": "HBoxModel",
      "state": {
       "_dom_classes": [],
       "_model_module": "@jupyter-widgets/controls",
       "_model_module_version": "1.5.0",
       "_model_name": "HBoxModel",
       "_view_count": null,
       "_view_module": "@jupyter-widgets/controls",
       "_view_module_version": "1.5.0",
       "_view_name": "HBoxView",
       "box_style": "",
       "children": [
        "IPY_MODEL_ff44f96dd3b44ea1a7696e8bf9762b12",
        "IPY_MODEL_2dcf8a706dcd4e46a93f01491b65b1ea",
        "IPY_MODEL_5b9ed2fc2a224abaaccaf8de96739119"
       ],
       "layout": "IPY_MODEL_60708a2b2ece4796a58c21d3efc5d691"
      }
     },
     "4641f0fc95c94ee0a1b73ef555294c14": {
      "model_module": "@jupyter-widgets/controls",
      "model_module_version": "1.5.0",
      "model_name": "HBoxModel",
      "state": {
       "_dom_classes": [],
       "_model_module": "@jupyter-widgets/controls",
       "_model_module_version": "1.5.0",
       "_model_name": "HBoxModel",
       "_view_count": null,
       "_view_module": "@jupyter-widgets/controls",
       "_view_module_version": "1.5.0",
       "_view_name": "HBoxView",
       "box_style": "",
       "children": [
        "IPY_MODEL_5e1ca6628b74448caf64e5af8f97f8b9",
        "IPY_MODEL_47e4a072214640cda1ce8661a297abcf",
        "IPY_MODEL_fb5c91407f2c413b8709f307a9fd7d1b"
       ],
       "layout": "IPY_MODEL_9b9b63a1431e44f1ac87c23a104231f2"
      }
     },
     "47e4a072214640cda1ce8661a297abcf": {
      "model_module": "@jupyter-widgets/controls",
      "model_module_version": "1.5.0",
      "model_name": "FloatProgressModel",
      "state": {
       "_dom_classes": [],
       "_model_module": "@jupyter-widgets/controls",
       "_model_module_version": "1.5.0",
       "_model_name": "FloatProgressModel",
       "_view_count": null,
       "_view_module": "@jupyter-widgets/controls",
       "_view_module_version": "1.5.0",
       "_view_name": "ProgressView",
       "bar_style": "success",
       "description": "",
       "description_tooltip": null,
       "layout": "IPY_MODEL_cdcaa66d8ba14f5582272110f60670af",
       "max": 13,
       "min": 0,
       "orientation": "horizontal",
       "style": "IPY_MODEL_247f931ed59d41ad86356cb3ea93f435",
       "value": 13
      }
     },
     "4a368ef3b58547ab885e1c7121c5e142": {
      "model_module": "@jupyter-widgets/controls",
      "model_module_version": "1.5.0",
      "model_name": "HTMLModel",
      "state": {
       "_dom_classes": [],
       "_model_module": "@jupyter-widgets/controls",
       "_model_module_version": "1.5.0",
       "_model_name": "HTMLModel",
       "_view_count": null,
       "_view_module": "@jupyter-widgets/controls",
       "_view_module_version": "1.5.0",
       "_view_name": "HTMLView",
       "description": "",
       "description_tooltip": null,
       "layout": "IPY_MODEL_5f5de484714b4c34b81078b3c604b338",
       "placeholder": "​",
       "style": "IPY_MODEL_0992b60ff9f249e6b721967e24c5b9da",
       "value": "Batches: 100%"
      }
     },
     "4b5b0d96bbb1464ab56071bc2e26c808": {
      "model_module": "@jupyter-widgets/controls",
      "model_module_version": "1.5.0",
      "model_name": "DescriptionStyleModel",
      "state": {
       "_model_module": "@jupyter-widgets/controls",
       "_model_module_version": "1.5.0",
       "_model_name": "DescriptionStyleModel",
       "_view_count": null,
       "_view_module": "@jupyter-widgets/base",
       "_view_module_version": "1.2.0",
       "_view_name": "StyleView",
       "description_width": ""
      }
     },
     "4dea659d6cd8479db0352a068df1f525": {
      "model_module": "@jupyter-widgets/controls",
      "model_module_version": "1.5.0",
      "model_name": "ProgressStyleModel",
      "state": {
       "_model_module": "@jupyter-widgets/controls",
       "_model_module_version": "1.5.0",
       "_model_name": "ProgressStyleModel",
       "_view_count": null,
       "_view_module": "@jupyter-widgets/base",
       "_view_module_version": "1.2.0",
       "_view_name": "StyleView",
       "bar_color": null,
       "description_width": ""
      }
     },
     "4e06ce4f585e4ea7b360b8bb6c7f962f": {
      "model_module": "@jupyter-widgets/controls",
      "model_module_version": "1.5.0",
      "model_name": "DescriptionStyleModel",
      "state": {
       "_model_module": "@jupyter-widgets/controls",
       "_model_module_version": "1.5.0",
       "_model_name": "DescriptionStyleModel",
       "_view_count": null,
       "_view_module": "@jupyter-widgets/base",
       "_view_module_version": "1.2.0",
       "_view_name": "StyleView",
       "description_width": ""
      }
     },
     "5052ddbe1cdf4320bb99f76cbe2fd1e1": {
      "model_module": "@jupyter-widgets/controls",
      "model_module_version": "1.5.0",
      "model_name": "HTMLModel",
      "state": {
       "_dom_classes": [],
       "_model_module": "@jupyter-widgets/controls",
       "_model_module_version": "1.5.0",
       "_model_name": "HTMLModel",
       "_view_count": null,
       "_view_module": "@jupyter-widgets/controls",
       "_view_module_version": "1.5.0",
       "_view_name": "HTMLView",
       "description": "",
       "description_tooltip": null,
       "layout": "IPY_MODEL_c6a2ea3060de41f59c4f456b16250886",
       "placeholder": "​",
       "style": "IPY_MODEL_997ce0525a784df59ad21fb620e3cd58",
       "value": "100%"
      }
     },
     "5061cb3364b642e38a6bb900b1d121ea": {
      "model_module": "@jupyter-widgets/controls",
      "model_module_version": "1.5.0",
      "model_name": "ProgressStyleModel",
      "state": {
       "_model_module": "@jupyter-widgets/controls",
       "_model_module_version": "1.5.0",
       "_model_name": "ProgressStyleModel",
       "_view_count": null,
       "_view_module": "@jupyter-widgets/base",
       "_view_module_version": "1.2.0",
       "_view_name": "StyleView",
       "bar_color": null,
       "description_width": ""
      }
     },
     "520a446b647a4de6a7309e02fb383eae": {
      "model_module": "@jupyter-widgets/base",
      "model_module_version": "1.2.0",
      "model_name": "LayoutModel",
      "state": {
       "_model_module": "@jupyter-widgets/base",
       "_model_module_version": "1.2.0",
       "_model_name": "LayoutModel",
       "_view_count": null,
       "_view_module": "@jupyter-widgets/base",
       "_view_module_version": "1.2.0",
       "_view_name": "LayoutView",
       "align_content": null,
       "align_items": null,
       "align_self": null,
       "border": null,
       "bottom": null,
       "display": null,
       "flex": null,
       "flex_flow": null,
       "grid_area": null,
       "grid_auto_columns": null,
       "grid_auto_flow": null,
       "grid_auto_rows": null,
       "grid_column": null,
       "grid_gap": null,
       "grid_row": null,
       "grid_template_areas": null,
       "grid_template_columns": null,
       "grid_template_rows": null,
       "height": null,
       "justify_content": null,
       "justify_items": null,
       "left": null,
       "margin": null,
       "max_height": null,
       "max_width": null,
       "min_height": null,
       "min_width": null,
       "object_fit": null,
       "object_position": null,
       "order": null,
       "overflow": null,
       "overflow_x": null,
       "overflow_y": null,
       "padding": null,
       "right": null,
       "top": null,
       "visibility": null,
       "width": null
      }
     },
     "5555d152a20e4c0bb2f9e277ab4b7a40": {
      "model_module": "@jupyter-widgets/controls",
      "model_module_version": "1.5.0",
      "model_name": "ProgressStyleModel",
      "state": {
       "_model_module": "@jupyter-widgets/controls",
       "_model_module_version": "1.5.0",
       "_model_name": "ProgressStyleModel",
       "_view_count": null,
       "_view_module": "@jupyter-widgets/base",
       "_view_module_version": "1.2.0",
       "_view_name": "StyleView",
       "bar_color": null,
       "description_width": ""
      }
     },
     "55e84d3694554e5f94d16768c2fc4b4c": {
      "model_module": "@jupyter-widgets/controls",
      "model_module_version": "1.5.0",
      "model_name": "ProgressStyleModel",
      "state": {
       "_model_module": "@jupyter-widgets/controls",
       "_model_module_version": "1.5.0",
       "_model_name": "ProgressStyleModel",
       "_view_count": null,
       "_view_module": "@jupyter-widgets/base",
       "_view_module_version": "1.2.0",
       "_view_name": "StyleView",
       "bar_color": null,
       "description_width": ""
      }
     },
     "56e527c096774fcd9bb5a1bc95c33948": {
      "model_module": "@jupyter-widgets/base",
      "model_module_version": "1.2.0",
      "model_name": "LayoutModel",
      "state": {
       "_model_module": "@jupyter-widgets/base",
       "_model_module_version": "1.2.0",
       "_model_name": "LayoutModel",
       "_view_count": null,
       "_view_module": "@jupyter-widgets/base",
       "_view_module_version": "1.2.0",
       "_view_name": "LayoutView",
       "align_content": null,
       "align_items": null,
       "align_self": null,
       "border": null,
       "bottom": null,
       "display": null,
       "flex": null,
       "flex_flow": null,
       "grid_area": null,
       "grid_auto_columns": null,
       "grid_auto_flow": null,
       "grid_auto_rows": null,
       "grid_column": null,
       "grid_gap": null,
       "grid_row": null,
       "grid_template_areas": null,
       "grid_template_columns": null,
       "grid_template_rows": null,
       "height": null,
       "justify_content": null,
       "justify_items": null,
       "left": null,
       "margin": null,
       "max_height": null,
       "max_width": null,
       "min_height": null,
       "min_width": null,
       "object_fit": null,
       "object_position": null,
       "order": null,
       "overflow": null,
       "overflow_x": null,
       "overflow_y": null,
       "padding": null,
       "right": null,
       "top": null,
       "visibility": null,
       "width": null
      }
     },
     "5b9ed2fc2a224abaaccaf8de96739119": {
      "model_module": "@jupyter-widgets/controls",
      "model_module_version": "1.5.0",
      "model_name": "HTMLModel",
      "state": {
       "_dom_classes": [],
       "_model_module": "@jupyter-widgets/controls",
       "_model_module_version": "1.5.0",
       "_model_name": "HTMLModel",
       "_view_count": null,
       "_view_module": "@jupyter-widgets/controls",
       "_view_module_version": "1.5.0",
       "_view_name": "HTMLView",
       "description": "",
       "description_tooltip": null,
       "layout": "IPY_MODEL_add41e07c2c04781a99785ff0b363378",
       "placeholder": "​",
       "style": "IPY_MODEL_8ed25926bb9f4c05a60d3acadd7f35f6",
       "value": " 2020/2020 [00:25&lt;00:00, 108.39it/s]"
      }
     },
     "5e1ca6628b74448caf64e5af8f97f8b9": {
      "model_module": "@jupyter-widgets/controls",
      "model_module_version": "1.5.0",
      "model_name": "HTMLModel",
      "state": {
       "_dom_classes": [],
       "_model_module": "@jupyter-widgets/controls",
       "_model_module_version": "1.5.0",
       "_model_name": "HTMLModel",
       "_view_count": null,
       "_view_module": "@jupyter-widgets/controls",
       "_view_module_version": "1.5.0",
       "_view_name": "HTMLView",
       "description": "",
       "description_tooltip": null,
       "layout": "IPY_MODEL_520a446b647a4de6a7309e02fb383eae",
       "placeholder": "​",
       "style": "IPY_MODEL_10f5b01d8f0145d58f65f58bbc6c6b94",
       "value": "Batches: 100%"
      }
     },
     "5f5de484714b4c34b81078b3c604b338": {
      "model_module": "@jupyter-widgets/base",
      "model_module_version": "1.2.0",
      "model_name": "LayoutModel",
      "state": {
       "_model_module": "@jupyter-widgets/base",
       "_model_module_version": "1.2.0",
       "_model_name": "LayoutModel",
       "_view_count": null,
       "_view_module": "@jupyter-widgets/base",
       "_view_module_version": "1.2.0",
       "_view_name": "LayoutView",
       "align_content": null,
       "align_items": null,
       "align_self": null,
       "border": null,
       "bottom": null,
       "display": null,
       "flex": null,
       "flex_flow": null,
       "grid_area": null,
       "grid_auto_columns": null,
       "grid_auto_flow": null,
       "grid_auto_rows": null,
       "grid_column": null,
       "grid_gap": null,
       "grid_row": null,
       "grid_template_areas": null,
       "grid_template_columns": null,
       "grid_template_rows": null,
       "height": null,
       "justify_content": null,
       "justify_items": null,
       "left": null,
       "margin": null,
       "max_height": null,
       "max_width": null,
       "min_height": null,
       "min_width": null,
       "object_fit": null,
       "object_position": null,
       "order": null,
       "overflow": null,
       "overflow_x": null,
       "overflow_y": null,
       "padding": null,
       "right": null,
       "top": null,
       "visibility": null,
       "width": null
      }
     },
     "60708a2b2ece4796a58c21d3efc5d691": {
      "model_module": "@jupyter-widgets/base",
      "model_module_version": "1.2.0",
      "model_name": "LayoutModel",
      "state": {
       "_model_module": "@jupyter-widgets/base",
       "_model_module_version": "1.2.0",
       "_model_name": "LayoutModel",
       "_view_count": null,
       "_view_module": "@jupyter-widgets/base",
       "_view_module_version": "1.2.0",
       "_view_name": "LayoutView",
       "align_content": null,
       "align_items": null,
       "align_self": null,
       "border": null,
       "bottom": null,
       "display": null,
       "flex": null,
       "flex_flow": null,
       "grid_area": null,
       "grid_auto_columns": null,
       "grid_auto_flow": null,
       "grid_auto_rows": null,
       "grid_column": null,
       "grid_gap": null,
       "grid_row": null,
       "grid_template_areas": null,
       "grid_template_columns": null,
       "grid_template_rows": null,
       "height": null,
       "justify_content": null,
       "justify_items": null,
       "left": null,
       "margin": null,
       "max_height": null,
       "max_width": null,
       "min_height": null,
       "min_width": null,
       "object_fit": null,
       "object_position": null,
       "order": null,
       "overflow": null,
       "overflow_x": null,
       "overflow_y": null,
       "padding": null,
       "right": null,
       "top": null,
       "visibility": null,
       "width": null
      }
     },
     "649278eb9bd949cf8cee40f74f4b8525": {
      "model_module": "@jupyter-widgets/controls",
      "model_module_version": "1.5.0",
      "model_name": "HTMLModel",
      "state": {
       "_dom_classes": [],
       "_model_module": "@jupyter-widgets/controls",
       "_model_module_version": "1.5.0",
       "_model_name": "HTMLModel",
       "_view_count": null,
       "_view_module": "@jupyter-widgets/controls",
       "_view_module_version": "1.5.0",
       "_view_name": "HTMLView",
       "description": "",
       "description_tooltip": null,
       "layout": "IPY_MODEL_80697d91e1234ba4943b6f042bf49076",
       "placeholder": "​",
       "style": "IPY_MODEL_4b5b0d96bbb1464ab56071bc2e26c808",
       "value": " 576/576 [00:00&lt;00:00, 36936.71it/s]"
      }
     },
     "6da2afbba3d949089a073e676a2a21bf": {
      "model_module": "@jupyter-widgets/controls",
      "model_module_version": "1.5.0",
      "model_name": "ProgressStyleModel",
      "state": {
       "_model_module": "@jupyter-widgets/controls",
       "_model_module_version": "1.5.0",
       "_model_name": "ProgressStyleModel",
       "_view_count": null,
       "_view_module": "@jupyter-widgets/base",
       "_view_module_version": "1.2.0",
       "_view_name": "StyleView",
       "bar_color": null,
       "description_width": ""
      }
     },
     "6de183a7471d4dfe81e2270a67c98c42": {
      "model_module": "@jupyter-widgets/controls",
      "model_module_version": "1.5.0",
      "model_name": "FloatProgressModel",
      "state": {
       "_dom_classes": [],
       "_model_module": "@jupyter-widgets/controls",
       "_model_module_version": "1.5.0",
       "_model_name": "FloatProgressModel",
       "_view_count": null,
       "_view_module": "@jupyter-widgets/controls",
       "_view_module_version": "1.5.0",
       "_view_name": "ProgressView",
       "bar_style": "success",
       "description": "",
       "description_tooltip": null,
       "layout": "IPY_MODEL_f54bedff465d4603988f6287a7b096d3",
       "max": 13,
       "min": 0,
       "orientation": "horizontal",
       "style": "IPY_MODEL_bdb98604a74a409ab620ed314170a185",
       "value": 13
      }
     },
     "6e060d060576478d96acc95ac35ebb26": {
      "model_module": "@jupyter-widgets/base",
      "model_module_version": "1.2.0",
      "model_name": "LayoutModel",
      "state": {
       "_model_module": "@jupyter-widgets/base",
       "_model_module_version": "1.2.0",
       "_model_name": "LayoutModel",
       "_view_count": null,
       "_view_module": "@jupyter-widgets/base",
       "_view_module_version": "1.2.0",
       "_view_name": "LayoutView",
       "align_content": null,
       "align_items": null,
       "align_self": null,
       "border": null,
       "bottom": null,
       "display": null,
       "flex": null,
       "flex_flow": null,
       "grid_area": null,
       "grid_auto_columns": null,
       "grid_auto_flow": null,
       "grid_auto_rows": null,
       "grid_column": null,
       "grid_gap": null,
       "grid_row": null,
       "grid_template_areas": null,
       "grid_template_columns": null,
       "grid_template_rows": null,
       "height": null,
       "justify_content": null,
       "justify_items": null,
       "left": null,
       "margin": null,
       "max_height": null,
       "max_width": null,
       "min_height": null,
       "min_width": null,
       "object_fit": null,
       "object_position": null,
       "order": null,
       "overflow": null,
       "overflow_x": null,
       "overflow_y": null,
       "padding": null,
       "right": null,
       "top": null,
       "visibility": null,
       "width": null
      }
     },
     "70e02c6a6fdb4857b94b68292e6c9974": {
      "model_module": "@jupyter-widgets/controls",
      "model_module_version": "1.5.0",
      "model_name": "HBoxModel",
      "state": {
       "_dom_classes": [],
       "_model_module": "@jupyter-widgets/controls",
       "_model_module_version": "1.5.0",
       "_model_name": "HBoxModel",
       "_view_count": null,
       "_view_module": "@jupyter-widgets/controls",
       "_view_module_version": "1.5.0",
       "_view_name": "HBoxView",
       "box_style": "",
       "children": [
        "IPY_MODEL_4a368ef3b58547ab885e1c7121c5e142",
        "IPY_MODEL_6de183a7471d4dfe81e2270a67c98c42",
        "IPY_MODEL_99ab666fad3c48d49059163ad1fa046a"
       ],
       "layout": "IPY_MODEL_eed593ac23e541c8a7d06e8b4e852f36"
      }
     },
     "7438f53cf8364dcaa10df604fc29214b": {
      "model_module": "@jupyter-widgets/base",
      "model_module_version": "1.2.0",
      "model_name": "LayoutModel",
      "state": {
       "_model_module": "@jupyter-widgets/base",
       "_model_module_version": "1.2.0",
       "_model_name": "LayoutModel",
       "_view_count": null,
       "_view_module": "@jupyter-widgets/base",
       "_view_module_version": "1.2.0",
       "_view_name": "LayoutView",
       "align_content": null,
       "align_items": null,
       "align_self": null,
       "border": null,
       "bottom": null,
       "display": null,
       "flex": null,
       "flex_flow": null,
       "grid_area": null,
       "grid_auto_columns": null,
       "grid_auto_flow": null,
       "grid_auto_rows": null,
       "grid_column": null,
       "grid_gap": null,
       "grid_row": null,
       "grid_template_areas": null,
       "grid_template_columns": null,
       "grid_template_rows": null,
       "height": null,
       "justify_content": null,
       "justify_items": null,
       "left": null,
       "margin": null,
       "max_height": null,
       "max_width": null,
       "min_height": null,
       "min_width": null,
       "object_fit": null,
       "object_position": null,
       "order": null,
       "overflow": null,
       "overflow_x": null,
       "overflow_y": null,
       "padding": null,
       "right": null,
       "top": null,
       "visibility": null,
       "width": null
      }
     },
     "801d5f0380284a6389ef4f508c82521a": {
      "model_module": "@jupyter-widgets/controls",
      "model_module_version": "1.5.0",
      "model_name": "FloatProgressModel",
      "state": {
       "_dom_classes": [],
       "_model_module": "@jupyter-widgets/controls",
       "_model_module_version": "1.5.0",
       "_model_name": "FloatProgressModel",
       "_view_count": null,
       "_view_module": "@jupyter-widgets/controls",
       "_view_module_version": "1.5.0",
       "_view_name": "ProgressView",
       "bar_style": "success",
       "description": "",
       "description_tooltip": null,
       "layout": "IPY_MODEL_ebd83b36eb1c457984daebb650c0b0fe",
       "max": 576,
       "min": 0,
       "orientation": "horizontal",
       "style": "IPY_MODEL_5061cb3364b642e38a6bb900b1d121ea",
       "value": 576
      }
     },
     "80697d91e1234ba4943b6f042bf49076": {
      "model_module": "@jupyter-widgets/base",
      "model_module_version": "1.2.0",
      "model_name": "LayoutModel",
      "state": {
       "_model_module": "@jupyter-widgets/base",
       "_model_module_version": "1.2.0",
       "_model_name": "LayoutModel",
       "_view_count": null,
       "_view_module": "@jupyter-widgets/base",
       "_view_module_version": "1.2.0",
       "_view_name": "LayoutView",
       "align_content": null,
       "align_items": null,
       "align_self": null,
       "border": null,
       "bottom": null,
       "display": null,
       "flex": null,
       "flex_flow": null,
       "grid_area": null,
       "grid_auto_columns": null,
       "grid_auto_flow": null,
       "grid_auto_rows": null,
       "grid_column": null,
       "grid_gap": null,
       "grid_row": null,
       "grid_template_areas": null,
       "grid_template_columns": null,
       "grid_template_rows": null,
       "height": null,
       "justify_content": null,
       "justify_items": null,
       "left": null,
       "margin": null,
       "max_height": null,
       "max_width": null,
       "min_height": null,
       "min_width": null,
       "object_fit": null,
       "object_position": null,
       "order": null,
       "overflow": null,
       "overflow_x": null,
       "overflow_y": null,
       "padding": null,
       "right": null,
       "top": null,
       "visibility": null,
       "width": null
      }
     },
     "814ad8ce109d451a80b750472b164117": {
      "model_module": "@jupyter-widgets/controls",
      "model_module_version": "1.5.0",
      "model_name": "DescriptionStyleModel",
      "state": {
       "_model_module": "@jupyter-widgets/controls",
       "_model_module_version": "1.5.0",
       "_model_name": "DescriptionStyleModel",
       "_view_count": null,
       "_view_module": "@jupyter-widgets/base",
       "_view_module_version": "1.2.0",
       "_view_name": "StyleView",
       "description_width": ""
      }
     },
     "84be6276c5754eb3ac9fb2549a7c3426": {
      "model_module": "@jupyter-widgets/base",
      "model_module_version": "1.2.0",
      "model_name": "LayoutModel",
      "state": {
       "_model_module": "@jupyter-widgets/base",
       "_model_module_version": "1.2.0",
       "_model_name": "LayoutModel",
       "_view_count": null,
       "_view_module": "@jupyter-widgets/base",
       "_view_module_version": "1.2.0",
       "_view_name": "LayoutView",
       "align_content": null,
       "align_items": null,
       "align_self": null,
       "border": null,
       "bottom": null,
       "display": null,
       "flex": null,
       "flex_flow": null,
       "grid_area": null,
       "grid_auto_columns": null,
       "grid_auto_flow": null,
       "grid_auto_rows": null,
       "grid_column": null,
       "grid_gap": null,
       "grid_row": null,
       "grid_template_areas": null,
       "grid_template_columns": null,
       "grid_template_rows": null,
       "height": null,
       "justify_content": null,
       "justify_items": null,
       "left": null,
       "margin": null,
       "max_height": null,
       "max_width": null,
       "min_height": null,
       "min_width": null,
       "object_fit": null,
       "object_position": null,
       "order": null,
       "overflow": null,
       "overflow_x": null,
       "overflow_y": null,
       "padding": null,
       "right": null,
       "top": null,
       "visibility": null,
       "width": null
      }
     },
     "84cbd80bf3e241f1811dddf7f3c74413": {
      "model_module": "@jupyter-widgets/base",
      "model_module_version": "1.2.0",
      "model_name": "LayoutModel",
      "state": {
       "_model_module": "@jupyter-widgets/base",
       "_model_module_version": "1.2.0",
       "_model_name": "LayoutModel",
       "_view_count": null,
       "_view_module": "@jupyter-widgets/base",
       "_view_module_version": "1.2.0",
       "_view_name": "LayoutView",
       "align_content": null,
       "align_items": null,
       "align_self": null,
       "border": null,
       "bottom": null,
       "display": null,
       "flex": null,
       "flex_flow": null,
       "grid_area": null,
       "grid_auto_columns": null,
       "grid_auto_flow": null,
       "grid_auto_rows": null,
       "grid_column": null,
       "grid_gap": null,
       "grid_row": null,
       "grid_template_areas": null,
       "grid_template_columns": null,
       "grid_template_rows": null,
       "height": null,
       "justify_content": null,
       "justify_items": null,
       "left": null,
       "margin": null,
       "max_height": null,
       "max_width": null,
       "min_height": null,
       "min_width": null,
       "object_fit": null,
       "object_position": null,
       "order": null,
       "overflow": null,
       "overflow_x": null,
       "overflow_y": null,
       "padding": null,
       "right": null,
       "top": null,
       "visibility": null,
       "width": null
      }
     },
     "85af6b3b408143a38883e0a6bb778738": {
      "model_module": "@jupyter-widgets/controls",
      "model_module_version": "1.5.0",
      "model_name": "HBoxModel",
      "state": {
       "_dom_classes": [],
       "_model_module": "@jupyter-widgets/controls",
       "_model_module_version": "1.5.0",
       "_model_name": "HBoxModel",
       "_view_count": null,
       "_view_module": "@jupyter-widgets/controls",
       "_view_module_version": "1.5.0",
       "_view_name": "HBoxView",
       "box_style": "",
       "children": [
        "IPY_MODEL_bd8fb9c79b8644189dbab693f3064981",
        "IPY_MODEL_d47ad9402c4e4439a22c77453613e79f",
        "IPY_MODEL_11f109a55f6b44f3a88f0f869e8a2e16"
       ],
       "layout": "IPY_MODEL_0bda4ce9a7854e89aa100de687cdad76"
      }
     },
     "8ed25926bb9f4c05a60d3acadd7f35f6": {
      "model_module": "@jupyter-widgets/controls",
      "model_module_version": "1.5.0",
      "model_name": "DescriptionStyleModel",
      "state": {
       "_model_module": "@jupyter-widgets/controls",
       "_model_module_version": "1.5.0",
       "_model_name": "DescriptionStyleModel",
       "_view_count": null,
       "_view_module": "@jupyter-widgets/base",
       "_view_module_version": "1.2.0",
       "_view_name": "StyleView",
       "description_width": ""
      }
     },
     "8f4135c0f13446b5926f130a209809e1": {
      "model_module": "@jupyter-widgets/controls",
      "model_module_version": "1.5.0",
      "model_name": "DescriptionStyleModel",
      "state": {
       "_model_module": "@jupyter-widgets/controls",
       "_model_module_version": "1.5.0",
       "_model_name": "DescriptionStyleModel",
       "_view_count": null,
       "_view_module": "@jupyter-widgets/base",
       "_view_module_version": "1.2.0",
       "_view_name": "StyleView",
       "description_width": ""
      }
     },
     "956de1366e68468f8c2f18f87d5f4bb4": {
      "model_module": "@jupyter-widgets/controls",
      "model_module_version": "1.5.0",
      "model_name": "HBoxModel",
      "state": {
       "_dom_classes": [],
       "_model_module": "@jupyter-widgets/controls",
       "_model_module_version": "1.5.0",
       "_model_name": "HBoxModel",
       "_view_count": null,
       "_view_module": "@jupyter-widgets/controls",
       "_view_module_version": "1.5.0",
       "_view_name": "HBoxView",
       "box_style": "",
       "children": [
        "IPY_MODEL_961b1d83ae764f069bb7cbabdc95be33",
        "IPY_MODEL_204afe931ca44d748bdd563d05b857de",
        "IPY_MODEL_649278eb9bd949cf8cee40f74f4b8525"
       ],
       "layout": "IPY_MODEL_84be6276c5754eb3ac9fb2549a7c3426"
      }
     },
     "961b1d83ae764f069bb7cbabdc95be33": {
      "model_module": "@jupyter-widgets/controls",
      "model_module_version": "1.5.0",
      "model_name": "HTMLModel",
      "state": {
       "_dom_classes": [],
       "_model_module": "@jupyter-widgets/controls",
       "_model_module_version": "1.5.0",
       "_model_name": "HTMLModel",
       "_view_count": null,
       "_view_module": "@jupyter-widgets/controls",
       "_view_module_version": "1.5.0",
       "_view_name": "HTMLView",
       "description": "",
       "description_tooltip": null,
       "layout": "IPY_MODEL_e3bde5f554b24817963c0a3c9af0d680",
       "placeholder": "​",
       "style": "IPY_MODEL_18249d157b894f319a4e48ceed9d7417",
       "value": "100%"
      }
     },
     "997ce0525a784df59ad21fb620e3cd58": {
      "model_module": "@jupyter-widgets/controls",
      "model_module_version": "1.5.0",
      "model_name": "DescriptionStyleModel",
      "state": {
       "_model_module": "@jupyter-widgets/controls",
       "_model_module_version": "1.5.0",
       "_model_name": "DescriptionStyleModel",
       "_view_count": null,
       "_view_module": "@jupyter-widgets/base",
       "_view_module_version": "1.2.0",
       "_view_name": "StyleView",
       "description_width": ""
      }
     },
     "99ab666fad3c48d49059163ad1fa046a": {
      "model_module": "@jupyter-widgets/controls",
      "model_module_version": "1.5.0",
      "model_name": "HTMLModel",
      "state": {
       "_dom_classes": [],
       "_model_module": "@jupyter-widgets/controls",
       "_model_module_version": "1.5.0",
       "_model_name": "HTMLModel",
       "_view_count": null,
       "_view_module": "@jupyter-widgets/controls",
       "_view_module_version": "1.5.0",
       "_view_name": "HTMLView",
       "description": "",
       "description_tooltip": null,
       "layout": "IPY_MODEL_b73d8304c7d24420ad97fbeb2f01ea55",
       "placeholder": "​",
       "style": "IPY_MODEL_298a1156658c4f829d21204d8ec09b22",
       "value": " 13/13 [00:04&lt;00:00,  2.70it/s]"
      }
     },
     "9b9b63a1431e44f1ac87c23a104231f2": {
      "model_module": "@jupyter-widgets/base",
      "model_module_version": "1.2.0",
      "model_name": "LayoutModel",
      "state": {
       "_model_module": "@jupyter-widgets/base",
       "_model_module_version": "1.2.0",
       "_model_name": "LayoutModel",
       "_view_count": null,
       "_view_module": "@jupyter-widgets/base",
       "_view_module_version": "1.2.0",
       "_view_name": "LayoutView",
       "align_content": null,
       "align_items": null,
       "align_self": null,
       "border": null,
       "bottom": null,
       "display": null,
       "flex": null,
       "flex_flow": null,
       "grid_area": null,
       "grid_auto_columns": null,
       "grid_auto_flow": null,
       "grid_auto_rows": null,
       "grid_column": null,
       "grid_gap": null,
       "grid_row": null,
       "grid_template_areas": null,
       "grid_template_columns": null,
       "grid_template_rows": null,
       "height": null,
       "justify_content": null,
       "justify_items": null,
       "left": null,
       "margin": null,
       "max_height": null,
       "max_width": null,
       "min_height": null,
       "min_width": null,
       "object_fit": null,
       "object_position": null,
       "order": null,
       "overflow": null,
       "overflow_x": null,
       "overflow_y": null,
       "padding": null,
       "right": null,
       "top": null,
       "visibility": null,
       "width": null
      }
     },
     "9c8736d84546428996f9b4d70b2ae024": {
      "model_module": "@jupyter-widgets/base",
      "model_module_version": "1.2.0",
      "model_name": "LayoutModel",
      "state": {
       "_model_module": "@jupyter-widgets/base",
       "_model_module_version": "1.2.0",
       "_model_name": "LayoutModel",
       "_view_count": null,
       "_view_module": "@jupyter-widgets/base",
       "_view_module_version": "1.2.0",
       "_view_name": "LayoutView",
       "align_content": null,
       "align_items": null,
       "align_self": null,
       "border": null,
       "bottom": null,
       "display": null,
       "flex": null,
       "flex_flow": null,
       "grid_area": null,
       "grid_auto_columns": null,
       "grid_auto_flow": null,
       "grid_auto_rows": null,
       "grid_column": null,
       "grid_gap": null,
       "grid_row": null,
       "grid_template_areas": null,
       "grid_template_columns": null,
       "grid_template_rows": null,
       "height": null,
       "justify_content": null,
       "justify_items": null,
       "left": null,
       "margin": null,
       "max_height": null,
       "max_width": null,
       "min_height": null,
       "min_width": null,
       "object_fit": null,
       "object_position": null,
       "order": null,
       "overflow": null,
       "overflow_x": null,
       "overflow_y": null,
       "padding": null,
       "right": null,
       "top": null,
       "visibility": null,
       "width": null
      }
     },
     "9cf5daece4784bfe8b825a2e28d23fa8": {
      "model_module": "@jupyter-widgets/controls",
      "model_module_version": "1.5.0",
      "model_name": "FloatProgressModel",
      "state": {
       "_dom_classes": [],
       "_model_module": "@jupyter-widgets/controls",
       "_model_module_version": "1.5.0",
       "_model_name": "FloatProgressModel",
       "_view_count": null,
       "_view_module": "@jupyter-widgets/controls",
       "_view_module_version": "1.5.0",
       "_view_name": "ProgressView",
       "bar_style": "success",
       "description": "",
       "description_tooltip": null,
       "layout": "IPY_MODEL_56e527c096774fcd9bb5a1bc95c33948",
       "max": 200,
       "min": 0,
       "orientation": "horizontal",
       "style": "IPY_MODEL_5555d152a20e4c0bb2f9e277ab4b7a40",
       "value": 200
      }
     },
     "9ec139282763412bb4fbfa203159571b": {
      "model_module": "@jupyter-widgets/controls",
      "model_module_version": "1.5.0",
      "model_name": "HTMLModel",
      "state": {
       "_dom_classes": [],
       "_model_module": "@jupyter-widgets/controls",
       "_model_module_version": "1.5.0",
       "_model_name": "HTMLModel",
       "_view_count": null,
       "_view_module": "@jupyter-widgets/controls",
       "_view_module_version": "1.5.0",
       "_view_name": "HTMLView",
       "description": "",
       "description_tooltip": null,
       "layout": "IPY_MODEL_7438f53cf8364dcaa10df604fc29214b",
       "placeholder": "​",
       "style": "IPY_MODEL_8f4135c0f13446b5926f130a209809e1",
       "value": " 576/576 [00:04&lt;00:00, 132.81it/s]"
      }
     },
     "9f80d97ccb8e41efa32242a735df50ec": {
      "model_module": "@jupyter-widgets/controls",
      "model_module_version": "1.5.0",
      "model_name": "DescriptionStyleModel",
      "state": {
       "_model_module": "@jupyter-widgets/controls",
       "_model_module_version": "1.5.0",
       "_model_name": "DescriptionStyleModel",
       "_view_count": null,
       "_view_module": "@jupyter-widgets/base",
       "_view_module_version": "1.2.0",
       "_view_name": "StyleView",
       "description_width": ""
      }
     },
     "a17c1add65594acd82c897ea781c9ebe": {
      "model_module": "@jupyter-widgets/base",
      "model_module_version": "1.2.0",
      "model_name": "LayoutModel",
      "state": {
       "_model_module": "@jupyter-widgets/base",
       "_model_module_version": "1.2.0",
       "_model_name": "LayoutModel",
       "_view_count": null,
       "_view_module": "@jupyter-widgets/base",
       "_view_module_version": "1.2.0",
       "_view_name": "LayoutView",
       "align_content": null,
       "align_items": null,
       "align_self": null,
       "border": null,
       "bottom": null,
       "display": null,
       "flex": null,
       "flex_flow": null,
       "grid_area": null,
       "grid_auto_columns": null,
       "grid_auto_flow": null,
       "grid_auto_rows": null,
       "grid_column": null,
       "grid_gap": null,
       "grid_row": null,
       "grid_template_areas": null,
       "grid_template_columns": null,
       "grid_template_rows": null,
       "height": null,
       "justify_content": null,
       "justify_items": null,
       "left": null,
       "margin": null,
       "max_height": null,
       "max_width": null,
       "min_height": null,
       "min_width": null,
       "object_fit": null,
       "object_position": null,
       "order": null,
       "overflow": null,
       "overflow_x": null,
       "overflow_y": null,
       "padding": null,
       "right": null,
       "top": null,
       "visibility": null,
       "width": null
      }
     },
     "a21a13ed842547749b4de805b69420f7": {
      "model_module": "@jupyter-widgets/controls",
      "model_module_version": "1.5.0",
      "model_name": "HTMLModel",
      "state": {
       "_dom_classes": [],
       "_model_module": "@jupyter-widgets/controls",
       "_model_module_version": "1.5.0",
       "_model_name": "HTMLModel",
       "_view_count": null,
       "_view_module": "@jupyter-widgets/controls",
       "_view_module_version": "1.5.0",
       "_view_name": "HTMLView",
       "description": "",
       "description_tooltip": null,
       "layout": "IPY_MODEL_a17c1add65594acd82c897ea781c9ebe",
       "placeholder": "​",
       "style": "IPY_MODEL_9f80d97ccb8e41efa32242a735df50ec",
       "value": "100%"
      }
     },
     "add41e07c2c04781a99785ff0b363378": {
      "model_module": "@jupyter-widgets/base",
      "model_module_version": "1.2.0",
      "model_name": "LayoutModel",
      "state": {
       "_model_module": "@jupyter-widgets/base",
       "_model_module_version": "1.2.0",
       "_model_name": "LayoutModel",
       "_view_count": null,
       "_view_module": "@jupyter-widgets/base",
       "_view_module_version": "1.2.0",
       "_view_name": "LayoutView",
       "align_content": null,
       "align_items": null,
       "align_self": null,
       "border": null,
       "bottom": null,
       "display": null,
       "flex": null,
       "flex_flow": null,
       "grid_area": null,
       "grid_auto_columns": null,
       "grid_auto_flow": null,
       "grid_auto_rows": null,
       "grid_column": null,
       "grid_gap": null,
       "grid_row": null,
       "grid_template_areas": null,
       "grid_template_columns": null,
       "grid_template_rows": null,
       "height": null,
       "justify_content": null,
       "justify_items": null,
       "left": null,
       "margin": null,
       "max_height": null,
       "max_width": null,
       "min_height": null,
       "min_width": null,
       "object_fit": null,
       "object_position": null,
       "order": null,
       "overflow": null,
       "overflow_x": null,
       "overflow_y": null,
       "padding": null,
       "right": null,
       "top": null,
       "visibility": null,
       "width": null
      }
     },
     "b73d8304c7d24420ad97fbeb2f01ea55": {
      "model_module": "@jupyter-widgets/base",
      "model_module_version": "1.2.0",
      "model_name": "LayoutModel",
      "state": {
       "_model_module": "@jupyter-widgets/base",
       "_model_module_version": "1.2.0",
       "_model_name": "LayoutModel",
       "_view_count": null,
       "_view_module": "@jupyter-widgets/base",
       "_view_module_version": "1.2.0",
       "_view_name": "LayoutView",
       "align_content": null,
       "align_items": null,
       "align_self": null,
       "border": null,
       "bottom": null,
       "display": null,
       "flex": null,
       "flex_flow": null,
       "grid_area": null,
       "grid_auto_columns": null,
       "grid_auto_flow": null,
       "grid_auto_rows": null,
       "grid_column": null,
       "grid_gap": null,
       "grid_row": null,
       "grid_template_areas": null,
       "grid_template_columns": null,
       "grid_template_rows": null,
       "height": null,
       "justify_content": null,
       "justify_items": null,
       "left": null,
       "margin": null,
       "max_height": null,
       "max_width": null,
       "min_height": null,
       "min_width": null,
       "object_fit": null,
       "object_position": null,
       "order": null,
       "overflow": null,
       "overflow_x": null,
       "overflow_y": null,
       "padding": null,
       "right": null,
       "top": null,
       "visibility": null,
       "width": null
      }
     },
     "b964f315318147fc898d9b76cb961b6d": {
      "model_module": "@jupyter-widgets/controls",
      "model_module_version": "1.5.0",
      "model_name": "DescriptionStyleModel",
      "state": {
       "_model_module": "@jupyter-widgets/controls",
       "_model_module_version": "1.5.0",
       "_model_name": "DescriptionStyleModel",
       "_view_count": null,
       "_view_module": "@jupyter-widgets/base",
       "_view_module_version": "1.2.0",
       "_view_name": "StyleView",
       "description_width": ""
      }
     },
     "bd8fb9c79b8644189dbab693f3064981": {
      "model_module": "@jupyter-widgets/controls",
      "model_module_version": "1.5.0",
      "model_name": "HTMLModel",
      "state": {
       "_dom_classes": [],
       "_model_module": "@jupyter-widgets/controls",
       "_model_module_version": "1.5.0",
       "_model_name": "HTMLModel",
       "_view_count": null,
       "_view_module": "@jupyter-widgets/controls",
       "_view_module_version": "1.5.0",
       "_view_name": "HTMLView",
       "description": "",
       "description_tooltip": null,
       "layout": "IPY_MODEL_84cbd80bf3e241f1811dddf7f3c74413",
       "placeholder": "​",
       "style": "IPY_MODEL_3080d6160f044b7397bdcdbad337179b",
       "value": "100%"
      }
     },
     "bdb98604a74a409ab620ed314170a185": {
      "model_module": "@jupyter-widgets/controls",
      "model_module_version": "1.5.0",
      "model_name": "ProgressStyleModel",
      "state": {
       "_model_module": "@jupyter-widgets/controls",
       "_model_module_version": "1.5.0",
       "_model_name": "ProgressStyleModel",
       "_view_count": null,
       "_view_module": "@jupyter-widgets/base",
       "_view_module_version": "1.2.0",
       "_view_name": "StyleView",
       "bar_color": null,
       "description_width": ""
      }
     },
     "c171d4c23e4c48b0ad7237f812b6856f": {
      "model_module": "@jupyter-widgets/base",
      "model_module_version": "1.2.0",
      "model_name": "LayoutModel",
      "state": {
       "_model_module": "@jupyter-widgets/base",
       "_model_module_version": "1.2.0",
       "_model_name": "LayoutModel",
       "_view_count": null,
       "_view_module": "@jupyter-widgets/base",
       "_view_module_version": "1.2.0",
       "_view_name": "LayoutView",
       "align_content": null,
       "align_items": null,
       "align_self": null,
       "border": null,
       "bottom": null,
       "display": null,
       "flex": null,
       "flex_flow": null,
       "grid_area": null,
       "grid_auto_columns": null,
       "grid_auto_flow": null,
       "grid_auto_rows": null,
       "grid_column": null,
       "grid_gap": null,
       "grid_row": null,
       "grid_template_areas": null,
       "grid_template_columns": null,
       "grid_template_rows": null,
       "height": null,
       "justify_content": null,
       "justify_items": null,
       "left": null,
       "margin": null,
       "max_height": null,
       "max_width": null,
       "min_height": null,
       "min_width": null,
       "object_fit": null,
       "object_position": null,
       "order": null,
       "overflow": null,
       "overflow_x": null,
       "overflow_y": null,
       "padding": null,
       "right": null,
       "top": null,
       "visibility": null,
       "width": null
      }
     },
     "c6a2ea3060de41f59c4f456b16250886": {
      "model_module": "@jupyter-widgets/base",
      "model_module_version": "1.2.0",
      "model_name": "LayoutModel",
      "state": {
       "_model_module": "@jupyter-widgets/base",
       "_model_module_version": "1.2.0",
       "_model_name": "LayoutModel",
       "_view_count": null,
       "_view_module": "@jupyter-widgets/base",
       "_view_module_version": "1.2.0",
       "_view_name": "LayoutView",
       "align_content": null,
       "align_items": null,
       "align_self": null,
       "border": null,
       "bottom": null,
       "display": null,
       "flex": null,
       "flex_flow": null,
       "grid_area": null,
       "grid_auto_columns": null,
       "grid_auto_flow": null,
       "grid_auto_rows": null,
       "grid_column": null,
       "grid_gap": null,
       "grid_row": null,
       "grid_template_areas": null,
       "grid_template_columns": null,
       "grid_template_rows": null,
       "height": null,
       "justify_content": null,
       "justify_items": null,
       "left": null,
       "margin": null,
       "max_height": null,
       "max_width": null,
       "min_height": null,
       "min_width": null,
       "object_fit": null,
       "object_position": null,
       "order": null,
       "overflow": null,
       "overflow_x": null,
       "overflow_y": null,
       "padding": null,
       "right": null,
       "top": null,
       "visibility": null,
       "width": null
      }
     },
     "cdcaa66d8ba14f5582272110f60670af": {
      "model_module": "@jupyter-widgets/base",
      "model_module_version": "1.2.0",
      "model_name": "LayoutModel",
      "state": {
       "_model_module": "@jupyter-widgets/base",
       "_model_module_version": "1.2.0",
       "_model_name": "LayoutModel",
       "_view_count": null,
       "_view_module": "@jupyter-widgets/base",
       "_view_module_version": "1.2.0",
       "_view_name": "LayoutView",
       "align_content": null,
       "align_items": null,
       "align_self": null,
       "border": null,
       "bottom": null,
       "display": null,
       "flex": null,
       "flex_flow": null,
       "grid_area": null,
       "grid_auto_columns": null,
       "grid_auto_flow": null,
       "grid_auto_rows": null,
       "grid_column": null,
       "grid_gap": null,
       "grid_row": null,
       "grid_template_areas": null,
       "grid_template_columns": null,
       "grid_template_rows": null,
       "height": null,
       "justify_content": null,
       "justify_items": null,
       "left": null,
       "margin": null,
       "max_height": null,
       "max_width": null,
       "min_height": null,
       "min_width": null,
       "object_fit": null,
       "object_position": null,
       "order": null,
       "overflow": null,
       "overflow_x": null,
       "overflow_y": null,
       "padding": null,
       "right": null,
       "top": null,
       "visibility": null,
       "width": null
      }
     },
     "ce5fd8f8a7a2475499d00f96f99f6496": {
      "model_module": "@jupyter-widgets/controls",
      "model_module_version": "1.5.0",
      "model_name": "DescriptionStyleModel",
      "state": {
       "_model_module": "@jupyter-widgets/controls",
       "_model_module_version": "1.5.0",
       "_model_name": "DescriptionStyleModel",
       "_view_count": null,
       "_view_module": "@jupyter-widgets/base",
       "_view_module_version": "1.2.0",
       "_view_name": "StyleView",
       "description_width": ""
      }
     },
     "d1e61bdb30de4b099c9e829217411229": {
      "model_module": "@jupyter-widgets/controls",
      "model_module_version": "1.5.0",
      "model_name": "HBoxModel",
      "state": {
       "_dom_classes": [],
       "_model_module": "@jupyter-widgets/controls",
       "_model_module_version": "1.5.0",
       "_model_name": "HBoxModel",
       "_view_count": null,
       "_view_module": "@jupyter-widgets/controls",
       "_view_module_version": "1.5.0",
       "_view_name": "HBoxView",
       "box_style": "",
       "children": [
        "IPY_MODEL_5052ddbe1cdf4320bb99f76cbe2fd1e1",
        "IPY_MODEL_801d5f0380284a6389ef4f508c82521a",
        "IPY_MODEL_9ec139282763412bb4fbfa203159571b"
       ],
       "layout": "IPY_MODEL_f0f1dc375d914f14bb01fdda3f4a5664"
      }
     },
     "d47ad9402c4e4439a22c77453613e79f": {
      "model_module": "@jupyter-widgets/controls",
      "model_module_version": "1.5.0",
      "model_name": "FloatProgressModel",
      "state": {
       "_dom_classes": [],
       "_model_module": "@jupyter-widgets/controls",
       "_model_module_version": "1.5.0",
       "_model_name": "FloatProgressModel",
       "_view_count": null,
       "_view_module": "@jupyter-widgets/controls",
       "_view_module_version": "1.5.0",
       "_view_name": "ProgressView",
       "bar_style": "success",
       "description": "",
       "description_tooltip": null,
       "layout": "IPY_MODEL_dc223f9225324ffdae0f37bfc0e11e68",
       "max": 28,
       "min": 0,
       "orientation": "horizontal",
       "style": "IPY_MODEL_6da2afbba3d949089a073e676a2a21bf",
       "value": 28
      }
     },
     "db0bb439c7fb4ee09f820c6d96c9252f": {
      "model_module": "@jupyter-widgets/base",
      "model_module_version": "1.2.0",
      "model_name": "LayoutModel",
      "state": {
       "_model_module": "@jupyter-widgets/base",
       "_model_module_version": "1.2.0",
       "_model_name": "LayoutModel",
       "_view_count": null,
       "_view_module": "@jupyter-widgets/base",
       "_view_module_version": "1.2.0",
       "_view_name": "LayoutView",
       "align_content": null,
       "align_items": null,
       "align_self": null,
       "border": null,
       "bottom": null,
       "display": null,
       "flex": null,
       "flex_flow": null,
       "grid_area": null,
       "grid_auto_columns": null,
       "grid_auto_flow": null,
       "grid_auto_rows": null,
       "grid_column": null,
       "grid_gap": null,
       "grid_row": null,
       "grid_template_areas": null,
       "grid_template_columns": null,
       "grid_template_rows": null,
       "height": null,
       "justify_content": null,
       "justify_items": null,
       "left": null,
       "margin": null,
       "max_height": null,
       "max_width": null,
       "min_height": null,
       "min_width": null,
       "object_fit": null,
       "object_position": null,
       "order": null,
       "overflow": null,
       "overflow_x": null,
       "overflow_y": null,
       "padding": null,
       "right": null,
       "top": null,
       "visibility": null,
       "width": null
      }
     },
     "dc223f9225324ffdae0f37bfc0e11e68": {
      "model_module": "@jupyter-widgets/base",
      "model_module_version": "1.2.0",
      "model_name": "LayoutModel",
      "state": {
       "_model_module": "@jupyter-widgets/base",
       "_model_module_version": "1.2.0",
       "_model_name": "LayoutModel",
       "_view_count": null,
       "_view_module": "@jupyter-widgets/base",
       "_view_module_version": "1.2.0",
       "_view_name": "LayoutView",
       "align_content": null,
       "align_items": null,
       "align_self": null,
       "border": null,
       "bottom": null,
       "display": null,
       "flex": null,
       "flex_flow": null,
       "grid_area": null,
       "grid_auto_columns": null,
       "grid_auto_flow": null,
       "grid_auto_rows": null,
       "grid_column": null,
       "grid_gap": null,
       "grid_row": null,
       "grid_template_areas": null,
       "grid_template_columns": null,
       "grid_template_rows": null,
       "height": null,
       "justify_content": null,
       "justify_items": null,
       "left": null,
       "margin": null,
       "max_height": null,
       "max_width": null,
       "min_height": null,
       "min_width": null,
       "object_fit": null,
       "object_position": null,
       "order": null,
       "overflow": null,
       "overflow_x": null,
       "overflow_y": null,
       "padding": null,
       "right": null,
       "top": null,
       "visibility": null,
       "width": null
      }
     },
     "dc92700b3a244a9c98ebbe2e4a9b8355": {
      "model_module": "@jupyter-widgets/controls",
      "model_module_version": "1.5.0",
      "model_name": "HTMLModel",
      "state": {
       "_dom_classes": [],
       "_model_module": "@jupyter-widgets/controls",
       "_model_module_version": "1.5.0",
       "_model_name": "HTMLModel",
       "_view_count": null,
       "_view_module": "@jupyter-widgets/controls",
       "_view_module_version": "1.5.0",
       "_view_name": "HTMLView",
       "description": "",
       "description_tooltip": null,
       "layout": "IPY_MODEL_1ee69d388d26472c83a038029d193d3a",
       "placeholder": "​",
       "style": "IPY_MODEL_ce5fd8f8a7a2475499d00f96f99f6496",
       "value": " 200/200 [00:00&lt;00:00, 959.53it/s]"
      }
     },
     "dcbc10eb82fd4c4cabe37e0d4ed03d3d": {
      "model_module": "@jupyter-widgets/base",
      "model_module_version": "1.2.0",
      "model_name": "LayoutModel",
      "state": {
       "_model_module": "@jupyter-widgets/base",
       "_model_module_version": "1.2.0",
       "_model_name": "LayoutModel",
       "_view_count": null,
       "_view_module": "@jupyter-widgets/base",
       "_view_module_version": "1.2.0",
       "_view_name": "LayoutView",
       "align_content": null,
       "align_items": null,
       "align_self": null,
       "border": null,
       "bottom": null,
       "display": null,
       "flex": null,
       "flex_flow": null,
       "grid_area": null,
       "grid_auto_columns": null,
       "grid_auto_flow": null,
       "grid_auto_rows": null,
       "grid_column": null,
       "grid_gap": null,
       "grid_row": null,
       "grid_template_areas": null,
       "grid_template_columns": null,
       "grid_template_rows": null,
       "height": null,
       "justify_content": null,
       "justify_items": null,
       "left": null,
       "margin": null,
       "max_height": null,
       "max_width": null,
       "min_height": null,
       "min_width": null,
       "object_fit": null,
       "object_position": null,
       "order": null,
       "overflow": null,
       "overflow_x": null,
       "overflow_y": null,
       "padding": null,
       "right": null,
       "top": null,
       "visibility": null,
       "width": null
      }
     },
     "e3bde5f554b24817963c0a3c9af0d680": {
      "model_module": "@jupyter-widgets/base",
      "model_module_version": "1.2.0",
      "model_name": "LayoutModel",
      "state": {
       "_model_module": "@jupyter-widgets/base",
       "_model_module_version": "1.2.0",
       "_model_name": "LayoutModel",
       "_view_count": null,
       "_view_module": "@jupyter-widgets/base",
       "_view_module_version": "1.2.0",
       "_view_name": "LayoutView",
       "align_content": null,
       "align_items": null,
       "align_self": null,
       "border": null,
       "bottom": null,
       "display": null,
       "flex": null,
       "flex_flow": null,
       "grid_area": null,
       "grid_auto_columns": null,
       "grid_auto_flow": null,
       "grid_auto_rows": null,
       "grid_column": null,
       "grid_gap": null,
       "grid_row": null,
       "grid_template_areas": null,
       "grid_template_columns": null,
       "grid_template_rows": null,
       "height": null,
       "justify_content": null,
       "justify_items": null,
       "left": null,
       "margin": null,
       "max_height": null,
       "max_width": null,
       "min_height": null,
       "min_width": null,
       "object_fit": null,
       "object_position": null,
       "order": null,
       "overflow": null,
       "overflow_x": null,
       "overflow_y": null,
       "padding": null,
       "right": null,
       "top": null,
       "visibility": null,
       "width": null
      }
     },
     "ebd83b36eb1c457984daebb650c0b0fe": {
      "model_module": "@jupyter-widgets/base",
      "model_module_version": "1.2.0",
      "model_name": "LayoutModel",
      "state": {
       "_model_module": "@jupyter-widgets/base",
       "_model_module_version": "1.2.0",
       "_model_name": "LayoutModel",
       "_view_count": null,
       "_view_module": "@jupyter-widgets/base",
       "_view_module_version": "1.2.0",
       "_view_name": "LayoutView",
       "align_content": null,
       "align_items": null,
       "align_self": null,
       "border": null,
       "bottom": null,
       "display": null,
       "flex": null,
       "flex_flow": null,
       "grid_area": null,
       "grid_auto_columns": null,
       "grid_auto_flow": null,
       "grid_auto_rows": null,
       "grid_column": null,
       "grid_gap": null,
       "grid_row": null,
       "grid_template_areas": null,
       "grid_template_columns": null,
       "grid_template_rows": null,
       "height": null,
       "justify_content": null,
       "justify_items": null,
       "left": null,
       "margin": null,
       "max_height": null,
       "max_width": null,
       "min_height": null,
       "min_width": null,
       "object_fit": null,
       "object_position": null,
       "order": null,
       "overflow": null,
       "overflow_x": null,
       "overflow_y": null,
       "padding": null,
       "right": null,
       "top": null,
       "visibility": null,
       "width": null
      }
     },
     "eed593ac23e541c8a7d06e8b4e852f36": {
      "model_module": "@jupyter-widgets/base",
      "model_module_version": "1.2.0",
      "model_name": "LayoutModel",
      "state": {
       "_model_module": "@jupyter-widgets/base",
       "_model_module_version": "1.2.0",
       "_model_name": "LayoutModel",
       "_view_count": null,
       "_view_module": "@jupyter-widgets/base",
       "_view_module_version": "1.2.0",
       "_view_name": "LayoutView",
       "align_content": null,
       "align_items": null,
       "align_self": null,
       "border": null,
       "bottom": null,
       "display": null,
       "flex": null,
       "flex_flow": null,
       "grid_area": null,
       "grid_auto_columns": null,
       "grid_auto_flow": null,
       "grid_auto_rows": null,
       "grid_column": null,
       "grid_gap": null,
       "grid_row": null,
       "grid_template_areas": null,
       "grid_template_columns": null,
       "grid_template_rows": null,
       "height": null,
       "justify_content": null,
       "justify_items": null,
       "left": null,
       "margin": null,
       "max_height": null,
       "max_width": null,
       "min_height": null,
       "min_width": null,
       "object_fit": null,
       "object_position": null,
       "order": null,
       "overflow": null,
       "overflow_x": null,
       "overflow_y": null,
       "padding": null,
       "right": null,
       "top": null,
       "visibility": null,
       "width": null
      }
     },
     "f0f1dc375d914f14bb01fdda3f4a5664": {
      "model_module": "@jupyter-widgets/base",
      "model_module_version": "1.2.0",
      "model_name": "LayoutModel",
      "state": {
       "_model_module": "@jupyter-widgets/base",
       "_model_module_version": "1.2.0",
       "_model_name": "LayoutModel",
       "_view_count": null,
       "_view_module": "@jupyter-widgets/base",
       "_view_module_version": "1.2.0",
       "_view_name": "LayoutView",
       "align_content": null,
       "align_items": null,
       "align_self": null,
       "border": null,
       "bottom": null,
       "display": null,
       "flex": null,
       "flex_flow": null,
       "grid_area": null,
       "grid_auto_columns": null,
       "grid_auto_flow": null,
       "grid_auto_rows": null,
       "grid_column": null,
       "grid_gap": null,
       "grid_row": null,
       "grid_template_areas": null,
       "grid_template_columns": null,
       "grid_template_rows": null,
       "height": null,
       "justify_content": null,
       "justify_items": null,
       "left": null,
       "margin": null,
       "max_height": null,
       "max_width": null,
       "min_height": null,
       "min_width": null,
       "object_fit": null,
       "object_position": null,
       "order": null,
       "overflow": null,
       "overflow_x": null,
       "overflow_y": null,
       "padding": null,
       "right": null,
       "top": null,
       "visibility": null,
       "width": null
      }
     },
     "f54bedff465d4603988f6287a7b096d3": {
      "model_module": "@jupyter-widgets/base",
      "model_module_version": "1.2.0",
      "model_name": "LayoutModel",
      "state": {
       "_model_module": "@jupyter-widgets/base",
       "_model_module_version": "1.2.0",
       "_model_name": "LayoutModel",
       "_view_count": null,
       "_view_module": "@jupyter-widgets/base",
       "_view_module_version": "1.2.0",
       "_view_name": "LayoutView",
       "align_content": null,
       "align_items": null,
       "align_self": null,
       "border": null,
       "bottom": null,
       "display": null,
       "flex": null,
       "flex_flow": null,
       "grid_area": null,
       "grid_auto_columns": null,
       "grid_auto_flow": null,
       "grid_auto_rows": null,
       "grid_column": null,
       "grid_gap": null,
       "grid_row": null,
       "grid_template_areas": null,
       "grid_template_columns": null,
       "grid_template_rows": null,
       "height": null,
       "justify_content": null,
       "justify_items": null,
       "left": null,
       "margin": null,
       "max_height": null,
       "max_width": null,
       "min_height": null,
       "min_width": null,
       "object_fit": null,
       "object_position": null,
       "order": null,
       "overflow": null,
       "overflow_x": null,
       "overflow_y": null,
       "padding": null,
       "right": null,
       "top": null,
       "visibility": null,
       "width": null
      }
     },
     "fb5c91407f2c413b8709f307a9fd7d1b": {
      "model_module": "@jupyter-widgets/controls",
      "model_module_version": "1.5.0",
      "model_name": "HTMLModel",
      "state": {
       "_dom_classes": [],
       "_model_module": "@jupyter-widgets/controls",
       "_model_module_version": "1.5.0",
       "_model_name": "HTMLModel",
       "_view_count": null,
       "_view_module": "@jupyter-widgets/controls",
       "_view_module_version": "1.5.0",
       "_view_name": "HTMLView",
       "description": "",
       "description_tooltip": null,
       "layout": "IPY_MODEL_2f75b8dc3ed345f19909654cea01597d",
       "placeholder": "​",
       "style": "IPY_MODEL_4e06ce4f585e4ea7b360b8bb6c7f962f",
       "value": " 13/13 [00:00&lt;00:00, 32.83it/s]"
      }
     },
     "ff44f96dd3b44ea1a7696e8bf9762b12": {
      "model_module": "@jupyter-widgets/controls",
      "model_module_version": "1.5.0",
      "model_name": "HTMLModel",
      "state": {
       "_dom_classes": [],
       "_model_module": "@jupyter-widgets/controls",
       "_model_module_version": "1.5.0",
       "_model_name": "HTMLModel",
       "_view_count": null,
       "_view_module": "@jupyter-widgets/controls",
       "_view_module_version": "1.5.0",
       "_view_name": "HTMLView",
       "description": "",
       "description_tooltip": null,
       "layout": "IPY_MODEL_dcbc10eb82fd4c4cabe37e0d4ed03d3d",
       "placeholder": "​",
       "style": "IPY_MODEL_814ad8ce109d451a80b750472b164117",
       "value": "Batches: 100%"
      }
     }
    },
    "version_major": 2,
    "version_minor": 0
   }
  }
 },
 "nbformat": 4,
 "nbformat_minor": 5
}
