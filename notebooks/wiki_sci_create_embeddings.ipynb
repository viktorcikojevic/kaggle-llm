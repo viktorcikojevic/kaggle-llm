{
 "cells": [
  {
   "cell_type": "code",
   "execution_count": 1,
   "metadata": {
    "execution": {
     "iopub.execute_input": "2023-08-15T20:53:13.286140Z",
     "iopub.status.busy": "2023-08-15T20:53:13.285728Z",
     "iopub.status.idle": "2023-08-15T20:53:13.417647Z",
     "shell.execute_reply": "2023-08-15T20:53:13.417301Z"
    }
   },
   "outputs": [],
   "source": [
    "import pandas as pd"
   ]
  },
  {
   "cell_type": "code",
   "execution_count": 2,
   "metadata": {
    "execution": {
     "iopub.execute_input": "2023-08-15T20:53:13.419148Z",
     "iopub.status.busy": "2023-08-15T20:53:13.419030Z",
     "iopub.status.idle": "2023-08-15T20:53:13.585792Z",
     "shell.execute_reply": "2023-08-15T20:53:13.585475Z"
    }
   },
   "outputs": [
    {
     "data": {
      "text/html": [
       "<div>\n",
       "<style scoped>\n",
       "    .dataframe tbody tr th:only-of-type {\n",
       "        vertical-align: middle;\n",
       "    }\n",
       "\n",
       "    .dataframe tbody tr th {\n",
       "        vertical-align: top;\n",
       "    }\n",
       "\n",
       "    .dataframe thead th {\n",
       "        text-align: right;\n",
       "    }\n",
       "</style>\n",
       "<table border=\"1\" class=\"dataframe\">\n",
       "  <thead>\n",
       "    <tr style=\"text-align: right;\">\n",
       "      <th></th>\n",
       "      <th>text</th>\n",
       "      <th>url</th>\n",
       "      <th>title</th>\n",
       "    </tr>\n",
       "  </thead>\n",
       "  <tbody>\n",
       "    <tr>\n",
       "      <th>0</th>\n",
       "      <td>The Ulakhan Fault is a left-lateral moving tra...</td>\n",
       "      <td>https://en.wikipedia.org/wiki/Ulakhan%20Fault</td>\n",
       "      <td>Ulakhan Fault</td>\n",
       "    </tr>\n",
       "    <tr>\n",
       "      <th>1</th>\n",
       "      <td>Tripodal ligands are tri- and tetradentate lig...</td>\n",
       "      <td>https://en.wikipedia.org/wiki/Tripodal%20ligand</td>\n",
       "      <td>Tripodal ligand</td>\n",
       "    </tr>\n",
       "    <tr>\n",
       "      <th>2</th>\n",
       "      <td>WASP-14b is an extrasolar planet discovered in...</td>\n",
       "      <td>https://en.wikipedia.org/wiki/WASP-14b</td>\n",
       "      <td>WASP-14b</td>\n",
       "    </tr>\n",
       "    <tr>\n",
       "      <th>3</th>\n",
       "      <td>Long-acting reversible contraceptives (LARC) a...</td>\n",
       "      <td>https://en.wikipedia.org/wiki/Long-acting%20re...</td>\n",
       "      <td>Long-acting reversible contraception</td>\n",
       "    </tr>\n",
       "    <tr>\n",
       "      <th>4</th>\n",
       "      <td>AIDS (\"acquired immune deficiency syndrome\") i...</td>\n",
       "      <td>https://en.wikipedia.org/wiki/HIV%20integration</td>\n",
       "      <td>HIV integration</td>\n",
       "    </tr>\n",
       "  </tbody>\n",
       "</table>\n",
       "</div>"
      ],
      "text/plain": [
       "                                                text   \n",
       "0  The Ulakhan Fault is a left-lateral moving tra...  \\\n",
       "1  Tripodal ligands are tri- and tetradentate lig...   \n",
       "2  WASP-14b is an extrasolar planet discovered in...   \n",
       "3  Long-acting reversible contraceptives (LARC) a...   \n",
       "4  AIDS (\"acquired immune deficiency syndrome\") i...   \n",
       "\n",
       "                                                 url   \n",
       "0      https://en.wikipedia.org/wiki/Ulakhan%20Fault  \\\n",
       "1    https://en.wikipedia.org/wiki/Tripodal%20ligand   \n",
       "2             https://en.wikipedia.org/wiki/WASP-14b   \n",
       "3  https://en.wikipedia.org/wiki/Long-acting%20re...   \n",
       "4    https://en.wikipedia.org/wiki/HIV%20integration   \n",
       "\n",
       "                                  title  \n",
       "0                         Ulakhan Fault  \n",
       "1                       Tripodal ligand  \n",
       "2                              WASP-14b  \n",
       "3  Long-acting reversible contraception  \n",
       "4                       HIV integration  "
      ]
     },
     "execution_count": 2,
     "metadata": {},
     "output_type": "execute_result"
    }
   ],
   "source": [
    "file_path = \"../data/wikipedia_pages2/50000_to_75000.parquet\"\n",
    "\n",
    "df = pd.read_parquet(file_path)\n",
    "df.head()"
   ]
  },
  {
   "cell_type": "markdown",
   "metadata": {},
   "source": [
    "# Note\n",
    "\n",
    "wikipedia_pages2 was downloaded from https://www.kaggle.com/datasets/nbroad/wiki-20220301-en-sci"
   ]
  },
  {
   "cell_type": "code",
   "execution_count": 3,
   "metadata": {
    "execution": {
     "iopub.execute_input": "2023-08-15T20:53:13.600806Z",
     "iopub.status.busy": "2023-08-15T20:53:13.600712Z",
     "iopub.status.idle": "2023-08-15T20:53:16.631744Z",
     "shell.execute_reply": "2023-08-15T20:53:16.631317Z"
    }
   },
   "outputs": [
    {
     "name": "stdout",
     "output_type": "stream",
     "text": [
      "[[1.        1.       ]\n",
      " [0.9999999 0.9999999]] [[-0.00087222 -0.02147177 -0.01763643 ...  0.01505643  0.00848369\n",
      "   0.00374709]\n",
      " [-0.00087222 -0.02147177 -0.01763643 ...  0.01505643  0.00848369\n",
      "   0.00374709]]\n"
     ]
    }
   ],
   "source": [
    "from sentence_transformers import SentenceTransformer\n",
    "\n",
    "model_name = \"BAAI/bge-large-en\"\n",
    "\n",
    "model = SentenceTransformer(model_name)\n",
    "sentences = [\"haha\", \"haha\"]\n",
    "\n",
    "embeddings_1 = model.encode(sentences, normalize_embeddings=True)\n",
    "embeddings_2 = model.encode(sentences, normalize_embeddings=True)\n",
    "similarity = embeddings_1 @ embeddings_2.T\n",
    "print(similarity, embeddings_1)\n"
   ]
  },
  {
   "cell_type": "code",
   "execution_count": 4,
   "metadata": {
    "execution": {
     "iopub.execute_input": "2023-08-15T20:53:16.633221Z",
     "iopub.status.busy": "2023-08-15T20:53:16.633073Z",
     "iopub.status.idle": "2023-08-15T20:53:21.752974Z",
     "shell.execute_reply": "2023-08-15T20:53:21.752660Z"
    }
   },
   "outputs": [
    {
     "name": "stdout",
     "output_type": "stream",
     "text": [
      "6.13 ms ± 508 µs per loop (mean ± std. dev. of 7 runs, 100 loops each)\n"
     ]
    }
   ],
   "source": [
    "%timeit embeddings_1 = model.encode(sentences, normalize_embeddings=True)"
   ]
  },
  {
   "cell_type": "code",
   "execution_count": 5,
   "metadata": {
    "execution": {
     "iopub.execute_input": "2023-08-15T20:53:21.754293Z",
     "iopub.status.busy": "2023-08-15T20:53:21.754199Z",
     "iopub.status.idle": "2023-08-15T20:53:21.765696Z",
     "shell.execute_reply": "2023-08-15T20:53:21.765516Z"
    }
   },
   "outputs": [
    {
     "data": {
      "text/plain": [
       "(1024,)"
      ]
     },
     "execution_count": 5,
     "metadata": {},
     "output_type": "execute_result"
    }
   ],
   "source": [
    "# One example\n",
    "\n",
    "text = df.iloc[0]['text']\n",
    "embeddings = model.encode(text, normalize_embeddings=True)\n",
    "embeddings.shape"
   ]
  },
  {
   "cell_type": "code",
   "execution_count": 6,
   "metadata": {
    "execution": {
     "iopub.execute_input": "2023-08-15T20:53:21.766932Z",
     "iopub.status.busy": "2023-08-15T20:53:21.766780Z",
     "iopub.status.idle": "2023-08-15T20:53:21.970791Z",
     "shell.execute_reply": "2023-08-15T20:53:21.970393Z"
    }
   },
   "outputs": [
    {
     "data": {
      "text/plain": [
       "array([[-0.01012542,  0.04541331, -0.00550739, ..., -0.0371272 ,\n",
       "        -0.04358213, -0.00750957],\n",
       "       [-0.00839777, -0.0079006 ,  0.02812083, ...,  0.00433183,\n",
       "        -0.04053844, -0.03013914],\n",
       "       [ 0.02113054,  0.01953551,  0.02801393, ..., -0.00511671,\n",
       "        -0.01368569, -0.00981659],\n",
       "       ...,\n",
       "       [-0.00575373,  0.01555173, -0.0076666 , ..., -0.00153228,\n",
       "        -0.05121766, -0.03535201],\n",
       "       [-0.01893044, -0.00404281,  0.00475774, ..., -0.0286705 ,\n",
       "        -0.0268669 , -0.00825804],\n",
       "       [-0.02951775, -0.03077783, -0.01642974, ...,  0.00054414,\n",
       "         0.00587249, -0.04442121]], dtype=float32)"
      ]
     },
     "execution_count": 6,
     "metadata": {},
     "output_type": "execute_result"
    }
   ],
   "source": [
    "model.encode(df['text'].values[:16], normalize_embeddings=True)"
   ]
  },
  {
   "cell_type": "code",
   "execution_count": 7,
   "metadata": {
    "execution": {
     "iopub.execute_input": "2023-08-15T20:53:21.972115Z",
     "iopub.status.busy": "2023-08-15T20:53:21.972003Z",
     "iopub.status.idle": "2023-08-15T21:24:34.044881Z",
     "shell.execute_reply": "2023-08-15T21:24:34.044465Z"
    }
   },
   "outputs": [
    {
     "name": "stdout",
     "output_type": "stream",
     "text": [
      "N rows: 131049\n",
      "CPU times: user 31min 12s, sys: 3.15 s, total: 31min 15s\n",
      "Wall time: 31min 11s\n"
     ]
    }
   ],
   "source": [
    "\n",
    "import glob\n",
    "\n",
    "# Load all files in \"../data/wikipedia_pages2/\"\n",
    "parquet_files = glob.glob(\"../data/wikipedia_pages2/*.parquet\")\n",
    "\n",
    "# Load all parquets into a single dataframe\n",
    "df = pd.concat([pd.read_parquet(f) for f in parquet_files])\n",
    "\n",
    "print(f\"N rows: {len(df)}\")\n",
    "\n",
    "%time df['embd'] = df['text'].apply(lambda x: model.encode(x, normalize_embeddings=True))\n",
    "\n"
   ]
  },
  {
   "cell_type": "code",
   "execution_count": 8,
   "metadata": {
    "execution": {
     "iopub.execute_input": "2023-08-15T21:24:34.046228Z",
     "iopub.status.busy": "2023-08-15T21:24:34.046133Z",
     "iopub.status.idle": "2023-08-15T21:24:34.051559Z",
     "shell.execute_reply": "2023-08-15T21:24:34.051347Z"
    }
   },
   "outputs": [
    {
     "data": {
      "text/html": [
       "<div>\n",
       "<style scoped>\n",
       "    .dataframe tbody tr th:only-of-type {\n",
       "        vertical-align: middle;\n",
       "    }\n",
       "\n",
       "    .dataframe tbody tr th {\n",
       "        vertical-align: top;\n",
       "    }\n",
       "\n",
       "    .dataframe thead th {\n",
       "        text-align: right;\n",
       "    }\n",
       "</style>\n",
       "<table border=\"1\" class=\"dataframe\">\n",
       "  <thead>\n",
       "    <tr style=\"text-align: right;\">\n",
       "      <th></th>\n",
       "      <th>text</th>\n",
       "      <th>url</th>\n",
       "      <th>title</th>\n",
       "      <th>embd</th>\n",
       "    </tr>\n",
       "  </thead>\n",
       "  <tbody>\n",
       "    <tr>\n",
       "      <th>0</th>\n",
       "      <td>The Ulakhan Fault is a left-lateral moving tra...</td>\n",
       "      <td>https://en.wikipedia.org/wiki/Ulakhan%20Fault</td>\n",
       "      <td>Ulakhan Fault</td>\n",
       "      <td>[-0.010125404, 0.045413326, -0.0055074026, 0.0...</td>\n",
       "    </tr>\n",
       "    <tr>\n",
       "      <th>1</th>\n",
       "      <td>Tripodal ligands are tri- and tetradentate lig...</td>\n",
       "      <td>https://en.wikipedia.org/wiki/Tripodal%20ligand</td>\n",
       "      <td>Tripodal ligand</td>\n",
       "      <td>[-0.008397752, -0.007900611, 0.028120818, 0.02...</td>\n",
       "    </tr>\n",
       "    <tr>\n",
       "      <th>2</th>\n",
       "      <td>WASP-14b is an extrasolar planet discovered in...</td>\n",
       "      <td>https://en.wikipedia.org/wiki/WASP-14b</td>\n",
       "      <td>WASP-14b</td>\n",
       "      <td>[0.021130525, 0.019535448, 0.028013904, -0.006...</td>\n",
       "    </tr>\n",
       "    <tr>\n",
       "      <th>3</th>\n",
       "      <td>Long-acting reversible contraceptives (LARC) a...</td>\n",
       "      <td>https://en.wikipedia.org/wiki/Long-acting%20re...</td>\n",
       "      <td>Long-acting reversible contraception</td>\n",
       "      <td>[-0.014279559, -0.005928753, -0.02585963, 0.01...</td>\n",
       "    </tr>\n",
       "    <tr>\n",
       "      <th>4</th>\n",
       "      <td>AIDS (\"acquired immune deficiency syndrome\") i...</td>\n",
       "      <td>https://en.wikipedia.org/wiki/HIV%20integration</td>\n",
       "      <td>HIV integration</td>\n",
       "      <td>[-0.02654824, -0.008117266, -0.0044153593, 0.0...</td>\n",
       "    </tr>\n",
       "  </tbody>\n",
       "</table>\n",
       "</div>"
      ],
      "text/plain": [
       "                                                text   \n",
       "0  The Ulakhan Fault is a left-lateral moving tra...  \\\n",
       "1  Tripodal ligands are tri- and tetradentate lig...   \n",
       "2  WASP-14b is an extrasolar planet discovered in...   \n",
       "3  Long-acting reversible contraceptives (LARC) a...   \n",
       "4  AIDS (\"acquired immune deficiency syndrome\") i...   \n",
       "\n",
       "                                                 url   \n",
       "0      https://en.wikipedia.org/wiki/Ulakhan%20Fault  \\\n",
       "1    https://en.wikipedia.org/wiki/Tripodal%20ligand   \n",
       "2             https://en.wikipedia.org/wiki/WASP-14b   \n",
       "3  https://en.wikipedia.org/wiki/Long-acting%20re...   \n",
       "4    https://en.wikipedia.org/wiki/HIV%20integration   \n",
       "\n",
       "                                  title   \n",
       "0                         Ulakhan Fault  \\\n",
       "1                       Tripodal ligand   \n",
       "2                              WASP-14b   \n",
       "3  Long-acting reversible contraception   \n",
       "4                       HIV integration   \n",
       "\n",
       "                                                embd  \n",
       "0  [-0.010125404, 0.045413326, -0.0055074026, 0.0...  \n",
       "1  [-0.008397752, -0.007900611, 0.028120818, 0.02...  \n",
       "2  [0.021130525, 0.019535448, 0.028013904, -0.006...  \n",
       "3  [-0.014279559, -0.005928753, -0.02585963, 0.01...  \n",
       "4  [-0.02654824, -0.008117266, -0.0044153593, 0.0...  "
      ]
     },
     "execution_count": 8,
     "metadata": {},
     "output_type": "execute_result"
    }
   ],
   "source": [
    "df.head()"
   ]
  },
  {
   "cell_type": "code",
   "execution_count": 9,
   "metadata": {
    "execution": {
     "iopub.execute_input": "2023-08-15T21:24:34.052621Z",
     "iopub.status.busy": "2023-08-15T21:24:34.052540Z",
     "iopub.status.idle": "2023-08-15T21:24:37.651228Z",
     "shell.execute_reply": "2023-08-15T21:24:37.650831Z"
    }
   },
   "outputs": [],
   "source": [
    "# save df to \"../data/wikipedia_pages2_w_embd\"\n",
    "df.to_parquet(\"../data/wikipedia_pages2_w_embd/wiki_sci_embd.parquet\")"
   ]
  },
  {
   "cell_type": "code",
   "execution_count": 10,
   "metadata": {
    "execution": {
     "iopub.execute_input": "2023-08-15T21:24:37.652807Z",
     "iopub.status.busy": "2023-08-15T21:24:37.652708Z",
     "iopub.status.idle": "2023-08-15T21:24:39.190871Z",
     "shell.execute_reply": "2023-08-15T21:24:39.190477Z"
    }
   },
   "outputs": [
    {
     "data": {
      "text/html": [
       "<div>\n",
       "<style scoped>\n",
       "    .dataframe tbody tr th:only-of-type {\n",
       "        vertical-align: middle;\n",
       "    }\n",
       "\n",
       "    .dataframe tbody tr th {\n",
       "        vertical-align: top;\n",
       "    }\n",
       "\n",
       "    .dataframe thead th {\n",
       "        text-align: right;\n",
       "    }\n",
       "</style>\n",
       "<table border=\"1\" class=\"dataframe\">\n",
       "  <thead>\n",
       "    <tr style=\"text-align: right;\">\n",
       "      <th></th>\n",
       "      <th>text</th>\n",
       "      <th>url</th>\n",
       "      <th>title</th>\n",
       "      <th>embd</th>\n",
       "    </tr>\n",
       "  </thead>\n",
       "  <tbody>\n",
       "    <tr>\n",
       "      <th>0</th>\n",
       "      <td>The Ulakhan Fault is a left-lateral moving tra...</td>\n",
       "      <td>https://en.wikipedia.org/wiki/Ulakhan%20Fault</td>\n",
       "      <td>Ulakhan Fault</td>\n",
       "      <td>[-0.010125404, 0.045413326, -0.0055074026, 0.0...</td>\n",
       "    </tr>\n",
       "    <tr>\n",
       "      <th>1</th>\n",
       "      <td>Tripodal ligands are tri- and tetradentate lig...</td>\n",
       "      <td>https://en.wikipedia.org/wiki/Tripodal%20ligand</td>\n",
       "      <td>Tripodal ligand</td>\n",
       "      <td>[-0.008397752, -0.007900611, 0.028120818, 0.02...</td>\n",
       "    </tr>\n",
       "    <tr>\n",
       "      <th>2</th>\n",
       "      <td>WASP-14b is an extrasolar planet discovered in...</td>\n",
       "      <td>https://en.wikipedia.org/wiki/WASP-14b</td>\n",
       "      <td>WASP-14b</td>\n",
       "      <td>[0.021130525, 0.019535448, 0.028013904, -0.006...</td>\n",
       "    </tr>\n",
       "    <tr>\n",
       "      <th>3</th>\n",
       "      <td>Long-acting reversible contraceptives (LARC) a...</td>\n",
       "      <td>https://en.wikipedia.org/wiki/Long-acting%20re...</td>\n",
       "      <td>Long-acting reversible contraception</td>\n",
       "      <td>[-0.014279559, -0.005928753, -0.02585963, 0.01...</td>\n",
       "    </tr>\n",
       "    <tr>\n",
       "      <th>4</th>\n",
       "      <td>AIDS (\"acquired immune deficiency syndrome\") i...</td>\n",
       "      <td>https://en.wikipedia.org/wiki/HIV%20integration</td>\n",
       "      <td>HIV integration</td>\n",
       "      <td>[-0.02654824, -0.008117266, -0.0044153593, 0.0...</td>\n",
       "    </tr>\n",
       "  </tbody>\n",
       "</table>\n",
       "</div>"
      ],
      "text/plain": [
       "                                                text   \n",
       "0  The Ulakhan Fault is a left-lateral moving tra...  \\\n",
       "1  Tripodal ligands are tri- and tetradentate lig...   \n",
       "2  WASP-14b is an extrasolar planet discovered in...   \n",
       "3  Long-acting reversible contraceptives (LARC) a...   \n",
       "4  AIDS (\"acquired immune deficiency syndrome\") i...   \n",
       "\n",
       "                                                 url   \n",
       "0      https://en.wikipedia.org/wiki/Ulakhan%20Fault  \\\n",
       "1    https://en.wikipedia.org/wiki/Tripodal%20ligand   \n",
       "2             https://en.wikipedia.org/wiki/WASP-14b   \n",
       "3  https://en.wikipedia.org/wiki/Long-acting%20re...   \n",
       "4    https://en.wikipedia.org/wiki/HIV%20integration   \n",
       "\n",
       "                                  title   \n",
       "0                         Ulakhan Fault  \\\n",
       "1                       Tripodal ligand   \n",
       "2                              WASP-14b   \n",
       "3  Long-acting reversible contraception   \n",
       "4                       HIV integration   \n",
       "\n",
       "                                                embd  \n",
       "0  [-0.010125404, 0.045413326, -0.0055074026, 0.0...  \n",
       "1  [-0.008397752, -0.007900611, 0.028120818, 0.02...  \n",
       "2  [0.021130525, 0.019535448, 0.028013904, -0.006...  \n",
       "3  [-0.014279559, -0.005928753, -0.02585963, 0.01...  \n",
       "4  [-0.02654824, -0.008117266, -0.0044153593, 0.0...  "
      ]
     },
     "execution_count": 10,
     "metadata": {},
     "output_type": "execute_result"
    }
   ],
   "source": [
    "# load \"../data/wikipedia_pages2_w_embd/wiki_sci_embd.parquet\" as wiki_df\n",
    "wiki_df = pd.read_parquet(\"../data/wikipedia_pages2_w_embd/wiki_sci_embd.parquet\")\n",
    "wiki_df.head()"
   ]
  }
 ],
 "metadata": {
  "kernelspec": {
   "display_name": "torch-env",
   "language": "python",
   "name": "python3"
  },
  "language_info": {
   "codemirror_mode": {
    "name": "ipython",
    "version": 3
   },
   "file_extension": ".py",
   "mimetype": "text/x-python",
   "name": "python",
   "nbconvert_exporter": "python",
   "pygments_lexer": "ipython3",
   "version": "3.9.16"
  }
 },
 "nbformat": 4,
 "nbformat_minor": 2
}
