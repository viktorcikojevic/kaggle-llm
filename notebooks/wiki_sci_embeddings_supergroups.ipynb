{
 "cells": [
  {
   "cell_type": "code",
   "execution_count": 1,
   "metadata": {
    "execution": {
     "iopub.execute_input": "2023-08-16T10:32:28.981572Z",
     "iopub.status.busy": "2023-08-16T10:32:28.981077Z",
     "iopub.status.idle": "2023-08-16T10:32:29.108535Z",
     "shell.execute_reply": "2023-08-16T10:32:29.107988Z"
    }
   },
   "outputs": [],
   "source": [
    "import pandas as pd"
   ]
  },
  {
   "cell_type": "code",
   "execution_count": 2,
   "metadata": {
    "execution": {
     "iopub.execute_input": "2023-08-16T10:32:29.110148Z",
     "iopub.status.busy": "2023-08-16T10:32:29.110039Z",
     "iopub.status.idle": "2023-08-16T10:32:30.681081Z",
     "shell.execute_reply": "2023-08-16T10:32:30.680462Z"
    }
   },
   "outputs": [
    {
     "data": {
      "text/html": [
       "<div>\n",
       "<style scoped>\n",
       "    .dataframe tbody tr th:only-of-type {\n",
       "        vertical-align: middle;\n",
       "    }\n",
       "\n",
       "    .dataframe tbody tr th {\n",
       "        vertical-align: top;\n",
       "    }\n",
       "\n",
       "    .dataframe thead th {\n",
       "        text-align: right;\n",
       "    }\n",
       "</style>\n",
       "<table border=\"1\" class=\"dataframe\">\n",
       "  <thead>\n",
       "    <tr style=\"text-align: right;\">\n",
       "      <th></th>\n",
       "      <th>text</th>\n",
       "      <th>url</th>\n",
       "      <th>title</th>\n",
       "      <th>embd</th>\n",
       "    </tr>\n",
       "  </thead>\n",
       "  <tbody>\n",
       "    <tr>\n",
       "      <th>0</th>\n",
       "      <td>The Ulakhan Fault is a left-lateral moving tra...</td>\n",
       "      <td>https://en.wikipedia.org/wiki/Ulakhan%20Fault</td>\n",
       "      <td>Ulakhan Fault</td>\n",
       "      <td>[-0.010125404, 0.045413326, -0.0055074026, 0.0...</td>\n",
       "    </tr>\n",
       "    <tr>\n",
       "      <th>1</th>\n",
       "      <td>Tripodal ligands are tri- and tetradentate lig...</td>\n",
       "      <td>https://en.wikipedia.org/wiki/Tripodal%20ligand</td>\n",
       "      <td>Tripodal ligand</td>\n",
       "      <td>[-0.008397752, -0.007900611, 0.028120818, 0.02...</td>\n",
       "    </tr>\n",
       "    <tr>\n",
       "      <th>2</th>\n",
       "      <td>WASP-14b is an extrasolar planet discovered in...</td>\n",
       "      <td>https://en.wikipedia.org/wiki/WASP-14b</td>\n",
       "      <td>WASP-14b</td>\n",
       "      <td>[0.021130525, 0.019535448, 0.028013904, -0.006...</td>\n",
       "    </tr>\n",
       "    <tr>\n",
       "      <th>3</th>\n",
       "      <td>Long-acting reversible contraceptives (LARC) a...</td>\n",
       "      <td>https://en.wikipedia.org/wiki/Long-acting%20re...</td>\n",
       "      <td>Long-acting reversible contraception</td>\n",
       "      <td>[-0.014279559, -0.005928753, -0.02585963, 0.01...</td>\n",
       "    </tr>\n",
       "    <tr>\n",
       "      <th>4</th>\n",
       "      <td>AIDS (\"acquired immune deficiency syndrome\") i...</td>\n",
       "      <td>https://en.wikipedia.org/wiki/HIV%20integration</td>\n",
       "      <td>HIV integration</td>\n",
       "      <td>[-0.02654824, -0.008117266, -0.0044153593, 0.0...</td>\n",
       "    </tr>\n",
       "  </tbody>\n",
       "</table>\n",
       "</div>"
      ],
      "text/plain": [
       "                                                text   \n",
       "0  The Ulakhan Fault is a left-lateral moving tra...  \\\n",
       "1  Tripodal ligands are tri- and tetradentate lig...   \n",
       "2  WASP-14b is an extrasolar planet discovered in...   \n",
       "3  Long-acting reversible contraceptives (LARC) a...   \n",
       "4  AIDS (\"acquired immune deficiency syndrome\") i...   \n",
       "\n",
       "                                                 url   \n",
       "0      https://en.wikipedia.org/wiki/Ulakhan%20Fault  \\\n",
       "1    https://en.wikipedia.org/wiki/Tripodal%20ligand   \n",
       "2             https://en.wikipedia.org/wiki/WASP-14b   \n",
       "3  https://en.wikipedia.org/wiki/Long-acting%20re...   \n",
       "4    https://en.wikipedia.org/wiki/HIV%20integration   \n",
       "\n",
       "                                  title   \n",
       "0                         Ulakhan Fault  \\\n",
       "1                       Tripodal ligand   \n",
       "2                              WASP-14b   \n",
       "3  Long-acting reversible contraception   \n",
       "4                       HIV integration   \n",
       "\n",
       "                                                embd  \n",
       "0  [-0.010125404, 0.045413326, -0.0055074026, 0.0...  \n",
       "1  [-0.008397752, -0.007900611, 0.028120818, 0.02...  \n",
       "2  [0.021130525, 0.019535448, 0.028013904, -0.006...  \n",
       "3  [-0.014279559, -0.005928753, -0.02585963, 0.01...  \n",
       "4  [-0.02654824, -0.008117266, -0.0044153593, 0.0...  "
      ]
     },
     "execution_count": 2,
     "metadata": {},
     "output_type": "execute_result"
    }
   ],
   "source": [
    "# load \"../data/wikipedia_pages2_w_embd/wiki_sci_embd.parquet\" as df\n",
    "df = pd.read_parquet(\"../data/wikipedia_pages2_w_embd/wiki_sci_embd.parquet\")\n",
    "df.head()"
   ]
  },
  {
   "cell_type": "code",
   "execution_count": 3,
   "metadata": {
    "execution": {
     "iopub.execute_input": "2023-08-16T10:32:30.695424Z",
     "iopub.status.busy": "2023-08-16T10:32:30.695340Z",
     "iopub.status.idle": "2023-08-16T10:32:30.732331Z",
     "shell.execute_reply": "2023-08-16T10:32:30.731827Z"
    }
   },
   "outputs": [],
   "source": [
    "# get df['text_length'] from df['text'] \n",
    "df['text_length'] = df['text'].str.len()"
   ]
  },
  {
   "cell_type": "code",
   "execution_count": 4,
   "metadata": {
    "execution": {
     "iopub.execute_input": "2023-08-16T10:32:30.733650Z",
     "iopub.status.busy": "2023-08-16T10:32:30.733570Z",
     "iopub.status.idle": "2023-08-16T10:32:30.987315Z",
     "shell.execute_reply": "2023-08-16T10:32:30.986870Z"
    }
   },
   "outputs": [
    {
     "data": {
      "image/png": "[encoded data removed]",
      "text/plain": [
       "<Figure size 640x480 with 1 Axes>"
      ]
     },
     "metadata": {},
     "output_type": "display_data"
    }
   ],
   "source": [
    "import matplotlib.pyplot as plt\n",
    "\n",
    "plt.hist(df['text_length'], bins=100, range=(0, 5e4));"
   ]
  },
  {
   "cell_type": "code",
   "execution_count": 5,
   "metadata": {
    "execution": {
     "iopub.execute_input": "2023-08-16T10:32:30.988652Z",
     "iopub.status.busy": "2023-08-16T10:32:30.988544Z",
     "iopub.status.idle": "2023-08-16T10:32:30.990736Z",
     "shell.execute_reply": "2023-08-16T10:32:30.990503Z"
    }
   },
   "outputs": [
    {
     "data": {
      "text/plain": [
       "131049"
      ]
     },
     "execution_count": 5,
     "metadata": {},
     "output_type": "execute_result"
    }
   ],
   "source": [
    "len(df)"
   ]
  },
  {
   "cell_type": "code",
   "execution_count": 6,
   "metadata": {
    "execution": {
     "iopub.execute_input": "2023-08-16T10:32:30.991859Z",
     "iopub.status.busy": "2023-08-16T10:32:30.991744Z",
     "iopub.status.idle": "2023-08-16T10:32:30.993832Z",
     "shell.execute_reply": "2023-08-16T10:32:30.993595Z"
    }
   },
   "outputs": [
    {
     "data": {
      "text/plain": [
       "(1024,)"
      ]
     },
     "execution_count": 6,
     "metadata": {},
     "output_type": "execute_result"
    }
   ],
   "source": [
    "df.iloc[0]['embd'].shape"
   ]
  },
  {
   "cell_type": "code",
   "execution_count": 7,
   "metadata": {
    "execution": {
     "iopub.execute_input": "2023-08-16T10:32:30.995017Z",
     "iopub.status.busy": "2023-08-16T10:32:30.994865Z",
     "iopub.status.idle": "2023-08-16T10:32:30.997601Z",
     "shell.execute_reply": "2023-08-16T10:32:30.997290Z"
    }
   },
   "outputs": [
    {
     "data": {
      "text/plain": [
       "array([    1,     1,     2,     4,     6,    11,    18,    29,    48,\n",
       "          78,   127,   206,   335,   545,   885,  1438,  2335,  3792,\n",
       "        6158, 10000])"
      ]
     },
     "execution_count": 7,
     "metadata": {},
     "output_type": "execute_result"
    }
   ],
   "source": [
    "import numpy as np\n",
    "\n",
    "ranges = np.logspace(0, 4, 20).astype(int)\n",
    "ranges"
   ]
  },
  {
   "cell_type": "code",
   "execution_count": 8,
   "metadata": {
    "execution": {
     "iopub.execute_input": "2023-08-16T10:32:30.999040Z",
     "iopub.status.busy": "2023-08-16T10:32:30.998837Z",
     "iopub.status.idle": "2023-08-16T11:36:57.590120Z",
     "shell.execute_reply": "2023-08-16T11:36:57.589517Z"
    }
   },
   "outputs": [
    {
     "name": "stderr",
     "output_type": "stream",
     "text": [
      "100%|████████████████████████████████████████████████████████████████████████████████████████████████████████████████████████████████████████████████████████████████████████████████████████████████████████| 20/20 [1:04:26<00:00, 193.31s/it]\n"
     ]
    },
    {
     "data": {
      "image/png": "[encoded data removed]",
      "text/plain": [
       "<Figure size 1000x500 with 1 Axes>"
      ]
     },
     "metadata": {},
     "output_type": "display_data"
    }
   ],
   "source": [
    "import pandas as pd\n",
    "import numpy as np\n",
    "from sklearn.cluster import KMeans\n",
    "import matplotlib.pyplot as plt\n",
    "from tqdm import tqdm\n",
    "\n",
    "# Convert 'embd' column to a numpy matrix\n",
    "X = np.stack(df['embd'].values)\n",
    "\n",
    "# Using the elbow method to find the optimal number of clusters\n",
    "wcss = []\n",
    "for i in tqdm(ranges, total=len(ranges)):  # Checking for up to 10 clusters as an example\n",
    "    kmeans = KMeans(n_clusters=i, init='k-means++', n_init='auto', random_state=42)\n",
    "    kmeans.fit(X)\n",
    "    wcss.append(kmeans.inertia_)\n",
    "\n",
    "plt.figure(figsize=(10,5))\n",
    "plt.plot(ranges, wcss, marker='o', linestyle='--')\n",
    "plt.title('Elbow Method')\n",
    "plt.xlabel('Number of clusters')\n",
    "plt.ylabel('WCSS')\n",
    "plt.show()"
   ]
  },
  {
   "cell_type": "code",
   "execution_count": null,
   "metadata": {},
   "outputs": [],
   "source": []
  }
 ],
 "metadata": {
  "kernelspec": {
   "display_name": "torch-env",
   "language": "python",
   "name": "python3"
  },
  "language_info": {
   "codemirror_mode": {
    "name": "ipython",
    "version": 3
   },
   "file_extension": ".py",
   "mimetype": "text/x-python",
   "name": "python",
   "nbconvert_exporter": "python",
   "pygments_lexer": "ipython3",
   "version": "3.9.16"
  }
 },
 "nbformat": 4,
 "nbformat_minor": 2
}
