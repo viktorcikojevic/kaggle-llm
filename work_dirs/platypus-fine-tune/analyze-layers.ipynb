{
 "cells": [
  {
   "cell_type": "code",
   "execution_count": 297,
   "metadata": {},
   "outputs": [
    {
     "name": "stdout",
     "output_type": "stream",
     "text": [
      "early_exit_logits_55_batch_2_device_0.npy [4.53  4.266 3.787 3.762 3.65 ]\n",
      "early_exit_logits_60_batch_2_device_0.npy [4.438 4.227 3.816 3.79  3.729]\n",
      "early_exit_logits_65_batch_2_device_0.npy [4.445 4.246 3.824 3.793 3.7  ]\n",
      "early_exit_logits_70_batch_2_device_0.npy [4.574 4.344 3.771 3.74  3.57 ]\n",
      "early_exit_logits_75_batch_2_device_0.npy [4.43  4.273 3.828 3.828 3.645]\n",
      "early_exit_logits_79_batch_2_device_0.npy [4.273 4.168 3.895 3.877 3.785]\n"
     ]
    }
   ],
   "source": [
    "import numpy as np\n",
    "import os\n",
    "\n",
    "# all files that start with early_exit_log\n",
    "files = [f for f in os.listdir('.') if os.path.isfile(f) and f.startswith(\"early_exit_log\")]\n",
    "# take only those with batch_4 (file example name early_exit_logits_10_batch_3_device_0.npy)\n",
    "files = [f for f in files if f.split('_')[5] == '2']\n",
    "files = sorted(files, key=lambda x: int(x.split('_')[3]))\n",
    "x_final = []\n",
    "for file in files:\n",
    "    x = np.load(file)\n",
    "    x_final.append(x)\n",
    "    print(file, x)"
   ]
  },
  {
   "cell_type": "code",
   "execution_count": 298,
   "metadata": {},
   "outputs": [],
   "source": [
    "x_final = np.vstack(x_final)"
   ]
  },
  {
   "cell_type": "code",
   "execution_count": 299,
   "metadata": {},
   "outputs": [
    {
     "data": {
      "text/plain": [
       "array([[4.53 , 4.266, 3.787, 3.762, 3.65 ],\n",
       "       [4.438, 4.227, 3.816, 3.79 , 3.729],\n",
       "       [4.445, 4.246, 3.824, 3.793, 3.7  ],\n",
       "       [4.574, 4.344, 3.771, 3.74 , 3.57 ],\n",
       "       [4.43 , 4.273, 3.828, 3.828, 3.645],\n",
       "       [4.273, 4.168, 3.895, 3.877, 3.785]], dtype=float16)"
      ]
     },
     "execution_count": 299,
     "metadata": {},
     "output_type": "execute_result"
    }
   ],
   "source": [
    "x_final"
   ]
  },
  {
   "cell_type": "code",
   "execution_count": 300,
   "metadata": {},
   "outputs": [
    {
     "data": {
      "text/plain": [
       "<matplotlib.legend.Legend at 0x7f17967a6df0>"
      ]
     },
     "execution_count": 300,
     "metadata": {},
     "output_type": "execute_result"
    },
    {
     "data": {
      "image/png": "[encoded data removed]",
      "text/plain": [
       "<Figure size 640x480 with 1 Axes>"
      ]
     },
     "metadata": {},
     "output_type": "display_data"
    }
   ],
   "source": [
    "import matplotlib.pyplot as plt\n",
    "\n",
    "plt.plot(x_final[:, 0], 'o', label='A')\n",
    "plt.plot(x_final[:, 1], 'o', label='B')\n",
    "plt.plot(x_final[:, 2], 'o', label='C')\n",
    "plt.plot(x_final[:, 3], 'o', label='D')\n",
    "plt.plot(x_final[:, 4], 'o', label='E')\n",
    "\n",
    "plt.legend()"
   ]
  },
  {
   "cell_type": "code",
   "execution_count": 301,
   "metadata": {},
   "outputs": [
    {
     "data": {
      "text/plain": [
       "array([[0.15319824, 0.27539062, 0.08831787, 0.16113281, 0.32177734],\n",
       "       [0.23596191, 0.20739746, 0.22216797, 0.09777832, 0.2364502 ],\n",
       "       [0.14526367, 0.16455078, 0.22192383, 0.22497559, 0.24316406],\n",
       "       [0.11206055, 0.22705078, 0.16784668, 0.35717773, 0.13562012],\n",
       "       [0.0559082 , 0.27294922, 0.29174805, 0.15014648, 0.22949219],\n",
       "       [0.29052734, 0.02990723, 0.22180176, 0.2265625 , 0.23156738],\n",
       "       [0.2770996 , 0.06109619, 0.27392578, 0.19787598, 0.19006348],\n",
       "       [0.25170898, 0.21411133, 0.14880371, 0.07781982, 0.30737305],\n",
       "       [0.13671875, 0.26464844, 0.26367188, 0.27026367, 0.06433105],\n",
       "       [0.08050537, 0.40478516, 0.20227051, 0.10479736, 0.20751953],\n",
       "       [0.24926758, 0.09136963, 0.11016846, 0.12249756, 0.42651367],\n",
       "       [0.34301758, 0.28442383, 0.08526611, 0.05722046, 0.2298584 ],\n",
       "       [0.18713379, 0.        , 0.        , 0.13061523, 0.6821289 ],\n",
       "       [0.04812622, 0.32641602, 0.23425293, 0.11230469, 0.2788086 ],\n",
       "       [0.05944824, 0.0357666 , 0.25732422, 0.32714844, 0.32006836],\n",
       "       [0.17333984, 0.20996094, 0.24304199, 0.1862793 , 0.18737793],\n",
       "       [0.28442383, 0.28222656, 0.15258789, 0.06964111, 0.21105957],\n",
       "       [0.14074707, 0.25805664, 0.09161377, 0.23120117, 0.2788086 ],\n",
       "       [0.35839844, 0.14880371, 0.13903809, 0.11846924, 0.23510742],\n",
       "       [0.23876953, 0.02807617, 0.24536133, 0.24487305, 0.24304199],\n",
       "       [0.23937988, 0.17346191, 0.13427734, 0.2529297 , 0.19995117],\n",
       "       [0.25317383, 0.25317383, 0.10284424, 0.11474609, 0.2758789 ],\n",
       "       [0.1282959 , 0.21166992, 0.23876953, 0.23156738, 0.19006348],\n",
       "       [0.12683105, 0.15100098, 0.4309082 , 0.09765625, 0.19384766],\n",
       "       [0.05130005, 0.13464355, 0.33935547, 0.10009766, 0.37475586],\n",
       "       [0.0435791 , 0.03329468, 0.24951172, 0.34570312, 0.32763672],\n",
       "       [0.23828125, 0.15112305, 0.24108887, 0.21362305, 0.15563965],\n",
       "       [0.13928223, 0.1998291 , 0.2409668 , 0.27416992, 0.14587402],\n",
       "       [0.21618652, 0.23168945, 0.21655273, 0.22595215, 0.10949707],\n",
       "       [0.26123047, 0.28588867, 0.0894165 , 0.10766602, 0.25585938]],\n",
       "      dtype=float32)"
      ]
     },
     "execution_count": 301,
     "metadata": {},
     "output_type": "execute_result"
    }
   ],
   "source": [
    "scores = np.load('platybus_scores.npy')\n",
    "scores"
   ]
  },
  {
   "cell_type": "code",
   "execution_count": 302,
   "metadata": {},
   "outputs": [
    {
     "data": {
      "text/plain": [
       "array(['E', 'E', 'E', 'D', 'C', 'A', 'A', 'E', 'D', 'B', 'E', 'A', 'E',\n",
       "       'B', 'D', 'C', 'A', 'E', 'A', 'C', 'D', 'E', 'C', 'C', 'E', 'D',\n",
       "       'C', 'D', 'B', 'B'], dtype='<U1')"
      ]
     },
     "execution_count": 302,
     "metadata": {},
     "output_type": "execute_result"
    }
   ],
   "source": [
    "options = 'ABCDE'\n",
    "options_to_index = {options[i]: i for i in range(len(options))}\n",
    "scores_best = np.argmax(scores, axis=1)\n",
    "predictions = np.array([options[i] for i in scores_best])\n",
    "predictions"
   ]
  },
  {
   "cell_type": "code",
   "execution_count": 303,
   "metadata": {},
   "outputs": [
    {
     "data": {
      "text/plain": [
       "'C'"
      ]
     },
     "execution_count": 303,
     "metadata": {},
     "output_type": "execute_result"
    }
   ],
   "source": [
    "predictions[15]"
   ]
  },
  {
   "cell_type": "code",
   "execution_count": 308,
   "metadata": {},
   "outputs": [
    {
     "data": {
      "text/plain": [
       "array([0.73105858])"
      ]
     },
     "execution_count": 308,
     "metadata": {},
     "output_type": "execute_result"
    }
   ],
   "source": [
    "def sigmoid(x):\n",
    "    return 1 / (1 + np.exp(-x))\n",
    "\n",
    "x = np.array([1])\n",
    "sigmoid(x)"
   ]
  },
  {
   "cell_type": "code",
   "execution_count": 304,
   "metadata": {},
   "outputs": [
    {
     "data": {
      "text/plain": [
       "array(['D', 'D', 'A', 'B', 'A', 'B', 'B', 'A', 'E', 'A', 'B', 'D', 'D',\n",
       "       'D', 'A', 'D', 'D', 'C', 'A', 'B', 'A', 'D', 'D', 'A', 'B', 'C',\n",
       "       'C', 'D', 'E', 'D'], dtype=object)"
      ]
     },
     "execution_count": 304,
     "metadata": {},
     "output_type": "execute_result"
    }
   ],
   "source": [
    "import pandas as pd\n",
    "\n",
    "df = pd.read_csv(\"/home/viktor/Documents/kaggle/kaggle_llm/work_dirs/160k-viktor-and-deotte-dataset-deotte-preproc-deberta-window-inference/test_with_context.csv\", index_col=\"id\")[:30]\n",
    "\n",
    "df['answer'].values"
   ]
  },
  {
   "cell_type": "code",
   "execution_count": 305,
   "metadata": {},
   "outputs": [
    {
     "data": {
      "text/plain": [
       "'D'"
      ]
     },
     "execution_count": 305,
     "metadata": {},
     "output_type": "execute_result"
    }
   ],
   "source": [
    "df['answer'].values[15]"
   ]
  },
  {
   "cell_type": "code",
   "execution_count": 281,
   "metadata": {},
   "outputs": [
    {
     "data": {
      "text/plain": [
       "0.1"
      ]
     },
     "execution_count": 281,
     "metadata": {},
     "output_type": "execute_result"
    }
   ],
   "source": [
    "np.average(df['answer'].values == predictions)"
   ]
  },
  {
   "cell_type": "code",
   "execution_count": 282,
   "metadata": {},
   "outputs": [],
   "source": [
    "x = x / np.sum(x) * 20"
   ]
  },
  {
   "cell_type": "code",
   "execution_count": 283,
   "metadata": {},
   "outputs": [
    {
     "data": {
      "text/plain": [
       "array([3.973, 3.887, 4.15 , 3.975, 4.016], dtype=float16)"
      ]
     },
     "execution_count": 283,
     "metadata": {},
     "output_type": "execute_result"
    }
   ],
   "source": [
    "x"
   ]
  },
  {
   "cell_type": "code",
   "execution_count": 284,
   "metadata": {},
   "outputs": [
    {
     "data": {
      "text/plain": [
       "array([0.1938, 0.178 , 0.2312, 0.1942, 0.2024], dtype=float16)"
      ]
     },
     "execution_count": 284,
     "metadata": {},
     "output_type": "execute_result"
    }
   ],
   "source": [
    "np.exp(x) / np.sum(np.exp(x), axis=-1, keepdims=True)"
   ]
  },
  {
   "cell_type": "code",
   "execution_count": 285,
   "metadata": {},
   "outputs": [
    {
     "ename": "FileNotFoundError",
     "evalue": "[Errno 2] No such file or directory: 'suffix_np_522994.npy'",
     "output_type": "error",
     "traceback": [
      "\u001b[0;31m---------------------------------------------------------------------------\u001b[0m",
      "\u001b[0;31mFileNotFoundError\u001b[0m                         Traceback (most recent call last)",
      "\u001b[1;32m/home/viktor/Documents/kaggle/kaggle_llm/work_dirs/platypus-fine-tune/analyze-layers.ipynb Cell 14\u001b[0m line \u001b[0;36m3\n\u001b[1;32m      <a href='vscode-notebook-cell://ssh-remote%2B192.168.0.13/home/viktor/Documents/kaggle/kaggle_llm/work_dirs/platypus-fine-tune/analyze-layers.ipynb#W6sdnNjb2RlLXJlbW90ZQ%3D%3D?line=0'>1</a>\u001b[0m \u001b[39mimport\u001b[39;00m \u001b[39mnumpy\u001b[39;00m \u001b[39mas\u001b[39;00m \u001b[39mnp\u001b[39;00m\n\u001b[0;32m----> <a href='vscode-notebook-cell://ssh-remote%2B192.168.0.13/home/viktor/Documents/kaggle/kaggle_llm/work_dirs/platypus-fine-tune/analyze-layers.ipynb#W6sdnNjb2RlLXJlbW90ZQ%3D%3D?line=2'>3</a>\u001b[0m np\u001b[39m.\u001b[39;49mload(\u001b[39m\"\u001b[39;49m\u001b[39msuffix_np_522994.npy\u001b[39;49m\u001b[39m\"\u001b[39;49m)\u001b[39m.\u001b[39mshape\n",
      "File \u001b[0;32m~/miniconda3/envs/torch-env/lib/python3.9/site-packages/numpy/lib/npyio.py:405\u001b[0m, in \u001b[0;36mload\u001b[0;34m(file, mmap_mode, allow_pickle, fix_imports, encoding, max_header_size)\u001b[0m\n\u001b[1;32m    403\u001b[0m     own_fid \u001b[39m=\u001b[39m \u001b[39mFalse\u001b[39;00m\n\u001b[1;32m    404\u001b[0m \u001b[39melse\u001b[39;00m:\n\u001b[0;32m--> 405\u001b[0m     fid \u001b[39m=\u001b[39m stack\u001b[39m.\u001b[39menter_context(\u001b[39mopen\u001b[39;49m(os_fspath(file), \u001b[39m\"\u001b[39;49m\u001b[39mrb\u001b[39;49m\u001b[39m\"\u001b[39;49m))\n\u001b[1;32m    406\u001b[0m     own_fid \u001b[39m=\u001b[39m \u001b[39mTrue\u001b[39;00m\n\u001b[1;32m    408\u001b[0m \u001b[39m# Code to distinguish from NumPy binary files and pickles.\u001b[39;00m\n",
      "\u001b[0;31mFileNotFoundError\u001b[0m: [Errno 2] No such file or directory: 'suffix_np_522994.npy'"
     ]
    }
   ],
   "source": [
    "import numpy as np\n",
    "\n",
    "np.load(\"suffix_np_522994.npy\").shape"
   ]
  }
 ],
 "metadata": {
  "kernelspec": {
   "display_name": "torch-env",
   "language": "python",
   "name": "python3"
  },
  "language_info": {
   "codemirror_mode": {
    "name": "ipython",
    "version": 3
   },
   "file_extension": ".py",
   "mimetype": "text/x-python",
   "name": "python",
   "nbconvert_exporter": "python",
   "pygments_lexer": "ipython3",
   "version": "3.9.16"
  },
  "orig_nbformat": 4
 },
 "nbformat": 4,
 "nbformat_minor": 2
}
